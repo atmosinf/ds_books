{
 "cells": [
  {
   "cell_type": "code",
   "execution_count": 1,
   "id": "elect-finger",
   "metadata": {},
   "outputs": [],
   "source": [
    "import numpy as np\n",
    "import pandas as pd\n",
    "from sklearn.base import BaseEstimator, TransformerMixin\n",
    "from collections import Counter"
   ]
  },
  {
   "cell_type": "code",
   "execution_count": 5,
   "id": "catholic-return",
   "metadata": {},
   "outputs": [],
   "source": [
    "books = pd.read_csv('top100.csv')"
   ]
  },
  {
   "cell_type": "code",
   "execution_count": 28,
   "id": "bulgarian-amateur",
   "metadata": {},
   "outputs": [],
   "source": [
    "class GenresOneHot(BaseEstimator,TransformerMixin):\n",
    "    def __init__(self):\n",
    "        print('init called')\n",
    "        \n",
    "    def fit(self,X,y=None):\n",
    "        print('fit called')\n",
    "        return self\n",
    "    \n",
    "    def transform(self,X,y=None):\n",
    "        print('tranfsorm called')\n",
    "        X_ = X.copy()\n",
    "        # Let's make a list which contains ALL the genres \n",
    "        genre = []\n",
    "        for i in range(0,X_.shape[0]):\n",
    "            row_genre = eval(X_.iloc[i]['genres'])\n",
    "            genre = genre + row_genre\n",
    "        # We will convert it to a set to remove duplicates\n",
    "        unique_genres = set(genre)\n",
    "        # Then make a dataframe\n",
    "        genredf = pd.DataFrame(np.zeros((X_.shape[0],len(unique_genres))),columns=sorted(unique_genres))\n",
    "        # fill the dataframe columns with 1 when a book belongs to that gnere\n",
    "        for i in range(X_.shape[0]):\n",
    "            for g in eval(X_.iloc[i]['genres']):\n",
    "                genredf.iloc[i][g] = 1\n",
    "        return genredf"
   ]
  },
  {
   "cell_type": "code",
   "execution_count": 33,
   "id": "micro-parallel",
   "metadata": {},
   "outputs": [
    {
     "name": "stdout",
     "output_type": "stream",
     "text": [
      "init called\n"
     ]
    }
   ],
   "source": [
    "go = GenresOneHot()"
   ]
  },
  {
   "cell_type": "code",
   "execution_count": 30,
   "id": "consistent-cheat",
   "metadata": {},
   "outputs": [
    {
     "name": "stdout",
     "output_type": "stream",
     "text": [
      "tranfsorm called\n"
     ]
    }
   ],
   "source": [
    "genre = go.transform(books)"
   ]
  },
  {
   "cell_type": "code",
   "execution_count": 32,
   "id": "vanilla-minimum",
   "metadata": {},
   "outputs": [
    {
     "data": {
      "text/plain": [
       "Academic > Read For School           0.0\n",
       "Academic > School                    1.0\n",
       "Action                               0.0\n",
       "Adult                                0.0\n",
       "Adult Fiction                        0.0\n",
       "                                    ... \n",
       "Young Adult                          0.0\n",
       "Young Adult > Coming Of Age          0.0\n",
       "Young Adult > High School            0.0\n",
       "Young Adult > Teen                   0.0\n",
       "Young Adult > Young Adult Fantasy    0.0\n",
       "Name: 0, Length: 129, dtype: float64"
      ]
     },
     "execution_count": 32,
     "metadata": {},
     "output_type": "execute_result"
    }
   ],
   "source": [
    "genre.iloc[0]"
   ]
  },
  {
   "cell_type": "code",
   "execution_count": null,
   "id": "searching-entity",
   "metadata": {},
   "outputs": [],
   "source": []
  }
 ],
 "metadata": {
  "kernelspec": {
   "display_name": "booksenv",
   "language": "python",
   "name": "booksenv"
  },
  "language_info": {
   "codemirror_mode": {
    "name": "ipython",
    "version": 3
   },
   "file_extension": ".py",
   "mimetype": "text/x-python",
   "name": "python",
   "nbconvert_exporter": "python",
   "pygments_lexer": "ipython3",
   "version": "3.7.11"
  }
 },
 "nbformat": 4,
 "nbformat_minor": 5
}
