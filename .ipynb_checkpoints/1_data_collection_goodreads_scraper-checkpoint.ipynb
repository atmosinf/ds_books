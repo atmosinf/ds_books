{
 "cells": [
  {
   "cell_type": "markdown",
   "id": "forward-swedish",
   "metadata": {},
   "source": [
    "## Data Collection - Goodreads list scraper"
   ]
  },
  {
   "cell_type": "markdown",
   "id": "sapphire-ordinary",
   "metadata": {},
   "source": [
    "### 1. Get the book title and book id of the first 10,000 books in the Best Books Ever list on Goodreads"
   ]
  },
  {
   "cell_type": "markdown",
   "id": "respective-shoulder",
   "metadata": {},
   "source": [
    "The function will use the [Best Books Ever]('https://www.goodreads.com/list/show/1.Best_Books_Ever?page=1') list to get the name and id of the top 10,000 highest rated books on Goodreads. As arguments, the function accepts the base url, the first page, and the final page until which we should scrape the data. The list has 100 pages."
   ]
  },
  {
   "cell_type": "code",
   "execution_count": 2,
   "id": "moderate-flower",
   "metadata": {},
   "outputs": [],
   "source": [
    "import numpy as np\n",
    "import pandas as pd\n",
    "from bs4 import BeautifulSoup\n",
    "import requests"
   ]
  },
  {
   "cell_type": "code",
   "execution_count": 6,
   "id": "extreme-antigua",
   "metadata": {},
   "outputs": [],
   "source": [
    "def getbooktitlesids(baseurl,firstpage,maxpage):\n",
    "    booktitlesfinal,idsfinal = [],[]\n",
    "    for page in range(firstpage,maxpage+1):\n",
    "        res = requests.get('{}?page={}'.format(baseurl,page)).text\n",
    "        soup = BeautifulSoup(res,'html5lib')\n",
    "        tab = soup.find('table').find_all(class_ = 'bookTitle')\n",
    "        booktitles = [span.get_text() for span in tab]\n",
    "        booktitles = [title.replace('\\n','').strip() for title in booktitles]\n",
    "        ids = [row['href'] for row in tab]\n",
    "        ids = [id.split('/')[-1] for id in ids]\n",
    "        booktitlesfinal = booktitlesfinal + booktitles\n",
    "        idsfinal = idsfinal + ids\n",
    "    booksdf = pd.DataFrame(list(zip(booktitlesfinal,idsfinal)))\n",
    "    return booksdf"
   ]
  },
  {
   "cell_type": "markdown",
   "id": "sound-williams",
   "metadata": {},
   "source": [
    "Run the function"
   ]
  },
  {
   "cell_type": "code",
   "execution_count": 7,
   "id": "convertible-bennett",
   "metadata": {},
   "outputs": [],
   "source": [
    "books = getbooktitlesids('https://www.goodreads.com/list/show/1.Best_Books_Ever',1,100)"
   ]
  },
  {
   "cell_type": "markdown",
   "id": "superb-finding",
   "metadata": {},
   "source": [
    "In case we run into a gateway timeout error, append the scraped data to a dataframe, and the function again from the page at which the error occurred"
   ]
  },
  {
   "cell_type": "code",
   "execution_count": 207,
   "id": "average-chain",
   "metadata": {},
   "outputs": [
    {
     "data": {
      "text/html": [
       "<div>\n",
       "<style scoped>\n",
       "    .dataframe tbody tr th:only-of-type {\n",
       "        vertical-align: middle;\n",
       "    }\n",
       "\n",
       "    .dataframe tbody tr th {\n",
       "        vertical-align: top;\n",
       "    }\n",
       "\n",
       "    .dataframe thead th {\n",
       "        text-align: right;\n",
       "    }\n",
       "</style>\n",
       "<table border=\"1\" class=\"dataframe\">\n",
       "  <thead>\n",
       "    <tr style=\"text-align: right;\">\n",
       "      <th></th>\n",
       "      <th>title</th>\n",
       "      <th>id</th>\n",
       "    </tr>\n",
       "  </thead>\n",
       "  <tbody>\n",
       "    <tr>\n",
       "      <th>0</th>\n",
       "      <td>The Hunger Games (The Hunger Games, #1)</td>\n",
       "      <td>2767052-the-hunger-games</td>\n",
       "    </tr>\n",
       "    <tr>\n",
       "      <th>1</th>\n",
       "      <td>Harry Potter and the Order of the Phoenix (Har...</td>\n",
       "      <td>2.Harry_Potter_and_the_Order_of_the_Phoenix</td>\n",
       "    </tr>\n",
       "    <tr>\n",
       "      <th>2</th>\n",
       "      <td>To Kill a Mockingbird</td>\n",
       "      <td>2657.To_Kill_a_Mockingbird</td>\n",
       "    </tr>\n",
       "    <tr>\n",
       "      <th>3</th>\n",
       "      <td>Pride and Prejudice</td>\n",
       "      <td>1885.Pride_and_Prejudice</td>\n",
       "    </tr>\n",
       "    <tr>\n",
       "      <th>4</th>\n",
       "      <td>Twilight (The Twilight Saga, #1)</td>\n",
       "      <td>41865.Twilight</td>\n",
       "    </tr>\n",
       "    <tr>\n",
       "      <th>...</th>\n",
       "      <td>...</td>\n",
       "      <td>...</td>\n",
       "    </tr>\n",
       "    <tr>\n",
       "      <th>9995</th>\n",
       "      <td>Coexist (Keegan's Chronicles, #1)</td>\n",
       "      <td>17256217-coexist</td>\n",
       "    </tr>\n",
       "    <tr>\n",
       "      <th>9996</th>\n",
       "      <td>The Orphan Queen (The Orphan Queen, #1)</td>\n",
       "      <td>18081228-the-orphan-queen</td>\n",
       "    </tr>\n",
       "    <tr>\n",
       "      <th>9997</th>\n",
       "      <td>The Japanese Lover</td>\n",
       "      <td>25152052-the-japanese-lover</td>\n",
       "    </tr>\n",
       "    <tr>\n",
       "      <th>9998</th>\n",
       "      <td>Two By Two</td>\n",
       "      <td>40669990-two-by-two</td>\n",
       "    </tr>\n",
       "    <tr>\n",
       "      <th>9999</th>\n",
       "      <td>A Quiet Kind of Thunder</td>\n",
       "      <td>30197201-a-quiet-kind-of-thunder</td>\n",
       "    </tr>\n",
       "  </tbody>\n",
       "</table>\n",
       "<p>10000 rows × 2 columns</p>\n",
       "</div>"
      ],
      "text/plain": [
       "                                                  title  \\\n",
       "0               The Hunger Games (The Hunger Games, #1)   \n",
       "1     Harry Potter and the Order of the Phoenix (Har...   \n",
       "2                                 To Kill a Mockingbird   \n",
       "3                                   Pride and Prejudice   \n",
       "4                      Twilight (The Twilight Saga, #1)   \n",
       "...                                                 ...   \n",
       "9995                  Coexist (Keegan's Chronicles, #1)   \n",
       "9996            The Orphan Queen (The Orphan Queen, #1)   \n",
       "9997                                 The Japanese Lover   \n",
       "9998                                         Two By Two   \n",
       "9999                            A Quiet Kind of Thunder   \n",
       "\n",
       "                                               id  \n",
       "0                        2767052-the-hunger-games  \n",
       "1     2.Harry_Potter_and_the_Order_of_the_Phoenix  \n",
       "2                      2657.To_Kill_a_Mockingbird  \n",
       "3                        1885.Pride_and_Prejudice  \n",
       "4                                  41865.Twilight  \n",
       "...                                           ...  \n",
       "9995                             17256217-coexist  \n",
       "9996                    18081228-the-orphan-queen  \n",
       "9997                  25152052-the-japanese-lover  \n",
       "9998                          40669990-two-by-two  \n",
       "9999             30197201-a-quiet-kind-of-thunder  \n",
       "\n",
       "[10000 rows x 2 columns]"
      ]
     },
     "execution_count": 207,
     "metadata": {},
     "output_type": "execute_result"
    }
   ],
   "source": [
    "# booksfinal = pd.DataFrame()\n",
    "booksfinal = pd.concat([booksfinal,books],axis=0)\n",
    "booksfinal.columns=['title','id']\n",
    "booksfinal.reset_index()\n",
    "booksfinal"
   ]
  },
  {
   "cell_type": "markdown",
   "id": "applicable-description",
   "metadata": {},
   "source": [
    "Finally, we have all 10,000 rows"
   ]
  },
  {
   "cell_type": "code",
   "execution_count": 208,
   "id": "pressing-comedy",
   "metadata": {
    "scrolled": true
   },
   "outputs": [
    {
     "data": {
      "text/plain": [
       "10000"
      ]
     },
     "execution_count": 208,
     "metadata": {},
     "output_type": "execute_result"
    }
   ],
   "source": [
    "booksfinal.shape[0]"
   ]
  },
  {
   "cell_type": "code",
   "execution_count": 209,
   "id": "minus-killer",
   "metadata": {},
   "outputs": [],
   "source": [
    "booksfinal.to_csv('goodreads_bookids.csv')"
   ]
  },
  {
   "cell_type": "code",
   "execution_count": 13,
   "id": "powered-auditor",
   "metadata": {},
   "outputs": [],
   "source": [
    "booksfinal = pd.read_csv('goodreads_bookids.csv').iloc[:,1:]"
   ]
  },
  {
   "cell_type": "code",
   "execution_count": 14,
   "id": "raised-james",
   "metadata": {},
   "outputs": [
    {
     "data": {
      "text/html": [
       "<div>\n",
       "<style scoped>\n",
       "    .dataframe tbody tr th:only-of-type {\n",
       "        vertical-align: middle;\n",
       "    }\n",
       "\n",
       "    .dataframe tbody tr th {\n",
       "        vertical-align: top;\n",
       "    }\n",
       "\n",
       "    .dataframe thead th {\n",
       "        text-align: right;\n",
       "    }\n",
       "</style>\n",
       "<table border=\"1\" class=\"dataframe\">\n",
       "  <thead>\n",
       "    <tr style=\"text-align: right;\">\n",
       "      <th></th>\n",
       "      <th>title</th>\n",
       "      <th>id</th>\n",
       "    </tr>\n",
       "  </thead>\n",
       "  <tbody>\n",
       "    <tr>\n",
       "      <th>0</th>\n",
       "      <td>The Hunger Games (The Hunger Games, #1)</td>\n",
       "      <td>2767052-the-hunger-games</td>\n",
       "    </tr>\n",
       "    <tr>\n",
       "      <th>1</th>\n",
       "      <td>Harry Potter and the Order of the Phoenix (Har...</td>\n",
       "      <td>2.Harry_Potter_and_the_Order_of_the_Phoenix</td>\n",
       "    </tr>\n",
       "    <tr>\n",
       "      <th>2</th>\n",
       "      <td>To Kill a Mockingbird</td>\n",
       "      <td>2657.To_Kill_a_Mockingbird</td>\n",
       "    </tr>\n",
       "    <tr>\n",
       "      <th>3</th>\n",
       "      <td>Pride and Prejudice</td>\n",
       "      <td>1885.Pride_and_Prejudice</td>\n",
       "    </tr>\n",
       "    <tr>\n",
       "      <th>4</th>\n",
       "      <td>Twilight (The Twilight Saga, #1)</td>\n",
       "      <td>41865.Twilight</td>\n",
       "    </tr>\n",
       "    <tr>\n",
       "      <th>...</th>\n",
       "      <td>...</td>\n",
       "      <td>...</td>\n",
       "    </tr>\n",
       "    <tr>\n",
       "      <th>9995</th>\n",
       "      <td>Coexist (Keegan's Chronicles, #1)</td>\n",
       "      <td>17256217-coexist</td>\n",
       "    </tr>\n",
       "    <tr>\n",
       "      <th>9996</th>\n",
       "      <td>The Orphan Queen (The Orphan Queen, #1)</td>\n",
       "      <td>18081228-the-orphan-queen</td>\n",
       "    </tr>\n",
       "    <tr>\n",
       "      <th>9997</th>\n",
       "      <td>The Japanese Lover</td>\n",
       "      <td>25152052-the-japanese-lover</td>\n",
       "    </tr>\n",
       "    <tr>\n",
       "      <th>9998</th>\n",
       "      <td>Two By Two</td>\n",
       "      <td>40669990-two-by-two</td>\n",
       "    </tr>\n",
       "    <tr>\n",
       "      <th>9999</th>\n",
       "      <td>A Quiet Kind of Thunder</td>\n",
       "      <td>30197201-a-quiet-kind-of-thunder</td>\n",
       "    </tr>\n",
       "  </tbody>\n",
       "</table>\n",
       "<p>10000 rows × 2 columns</p>\n",
       "</div>"
      ],
      "text/plain": [
       "                                                  title  \\\n",
       "0               The Hunger Games (The Hunger Games, #1)   \n",
       "1     Harry Potter and the Order of the Phoenix (Har...   \n",
       "2                                 To Kill a Mockingbird   \n",
       "3                                   Pride and Prejudice   \n",
       "4                      Twilight (The Twilight Saga, #1)   \n",
       "...                                                 ...   \n",
       "9995                  Coexist (Keegan's Chronicles, #1)   \n",
       "9996            The Orphan Queen (The Orphan Queen, #1)   \n",
       "9997                                 The Japanese Lover   \n",
       "9998                                         Two By Two   \n",
       "9999                            A Quiet Kind of Thunder   \n",
       "\n",
       "                                               id  \n",
       "0                        2767052-the-hunger-games  \n",
       "1     2.Harry_Potter_and_the_Order_of_the_Phoenix  \n",
       "2                      2657.To_Kill_a_Mockingbird  \n",
       "3                        1885.Pride_and_Prejudice  \n",
       "4                                  41865.Twilight  \n",
       "...                                           ...  \n",
       "9995                             17256217-coexist  \n",
       "9996                    18081228-the-orphan-queen  \n",
       "9997                  25152052-the-japanese-lover  \n",
       "9998                          40669990-two-by-two  \n",
       "9999             30197201-a-quiet-kind-of-thunder  \n",
       "\n",
       "[10000 rows x 2 columns]"
      ]
     },
     "execution_count": 14,
     "metadata": {},
     "output_type": "execute_result"
    }
   ],
   "source": [
    "booksfinal"
   ]
  },
  {
   "cell_type": "markdown",
   "id": "sitting-pendant",
   "metadata": {},
   "source": [
    "We have the titles and ids of the first 10,000 books"
   ]
  },
  {
   "cell_type": "markdown",
   "id": "dying-possible",
   "metadata": {},
   "source": [
    "### 2. Use the scraped ids and this [goodreads scraper](https://github.com/maria-antoniak/goodreads-scraper) created by [maria antoniak](https://github.com/maria-antoniak) on github to get the book metadata"
   ]
  },
  {
   "cell_type": "markdown",
   "id": "chicken-object",
   "metadata": {},
   "source": [
    "I used the scraper mentioned above to get the book metadata. Since it takes quite a bit of time to get all the data, I scraped only the first 1000 books (which took about two days!)"
   ]
  },
  {
   "cell_type": "code",
   "execution_count": 16,
   "id": "hired-title",
   "metadata": {},
   "outputs": [],
   "source": [
    "from PIL import Image"
   ]
  },
  {
   "cell_type": "markdown",
   "id": "abroad-specification",
   "metadata": {},
   "source": [
    "The goodreads scraper in action"
   ]
  },
  {
   "cell_type": "code",
   "execution_count": 19,
   "id": "baking-camel",
   "metadata": {},
   "outputs": [
    {
     "data": {
      "image/png": "[encoded data removed]",
      "text/plain": [
       "<PIL.PngImagePlugin.PngImageFile image mode=RGBA size=728x201 at 0x224CB40A708>"
      ]
     },
     "execution_count": 19,
     "metadata": {},
     "output_type": "execute_result"
    }
   ],
   "source": [
    "im = Image.open('scraperinaction.PNG')\n",
    "im"
   ]
  },
  {
   "cell_type": "code",
   "execution_count": 3,
   "id": "liable-candle",
   "metadata": {},
   "outputs": [
    {
     "data": {
      "text/html": [
       "<div>\n",
       "<style scoped>\n",
       "    .dataframe tbody tr th:only-of-type {\n",
       "        vertical-align: middle;\n",
       "    }\n",
       "\n",
       "    .dataframe tbody tr th {\n",
       "        vertical-align: top;\n",
       "    }\n",
       "\n",
       "    .dataframe thead th {\n",
       "        text-align: right;\n",
       "    }\n",
       "</style>\n",
       "<table border=\"1\" class=\"dataframe\">\n",
       "  <thead>\n",
       "    <tr style=\"text-align: right;\">\n",
       "      <th></th>\n",
       "      <th>book_id_title</th>\n",
       "      <th>book_id</th>\n",
       "      <th>book_title</th>\n",
       "      <th>book_series</th>\n",
       "      <th>book_series_uri</th>\n",
       "      <th>isbn</th>\n",
       "      <th>isbn13</th>\n",
       "      <th>year_first_published</th>\n",
       "      <th>author</th>\n",
       "      <th>num_pages</th>\n",
       "      <th>genres</th>\n",
       "      <th>shelves</th>\n",
       "      <th>lists</th>\n",
       "      <th>num_ratings</th>\n",
       "      <th>num_reviews</th>\n",
       "      <th>average_rating</th>\n",
       "      <th>rating_distribution</th>\n",
       "    </tr>\n",
       "  </thead>\n",
       "  <tbody>\n",
       "    <tr>\n",
       "      <th>0</th>\n",
       "      <td>1.Harry_Potter_and_the_Half_Blood_Prince</td>\n",
       "      <td>1</td>\n",
       "      <td>Harry Potter and the Half-Blood Prince</td>\n",
       "      <td>Harry Potter #6</td>\n",
       "      <td>/series/45175-harry-potter</td>\n",
       "      <td>747581088</td>\n",
       "      <td>9.78075E+12</td>\n",
       "      <td>2005.0</td>\n",
       "      <td>J.K. Rowling</td>\n",
       "      <td>652</td>\n",
       "      <td>['Fantasy', 'Young Adult', 'Fiction', 'Fantasy...</td>\n",
       "      <td>{'to-read': 364165, 'fantasy': 50816, 'favorit...</td>\n",
       "      <td>{'Books': 246, 'Best': 491, 'The': 8907, \"Coul...</td>\n",
       "      <td>2650467</td>\n",
       "      <td>43450</td>\n",
       "      <td>4.57</td>\n",
       "      <td>{'5 Stars': 1794068, '4 Stars': 630873, '3 Sta...</td>\n",
       "    </tr>\n",
       "    <tr>\n",
       "      <th>1</th>\n",
       "      <td>10025305-clockwork-prince</td>\n",
       "      <td>10025305</td>\n",
       "      <td>Clockwork Prince</td>\n",
       "      <td>The Infernal Devices #2</td>\n",
       "      <td>/series/54144-the-infernal-devices</td>\n",
       "      <td>8408102338</td>\n",
       "      <td>9.78841E+12</td>\n",
       "      <td>NaN</td>\n",
       "      <td>Cassandra Clare</td>\n",
       "      <td>498</td>\n",
       "      <td>['Fantasy', 'Young Adult', 'Romance', 'Fantasy...</td>\n",
       "      <td>{'to-read': 219672, 'favorites': 12675, 'fanta...</td>\n",
       "      <td>{'YA': 277, 'Books': 288, \"Can't\": 74, 'Best':...</td>\n",
       "      <td>488260</td>\n",
       "      <td>25729</td>\n",
       "      <td>4.42</td>\n",
       "      <td>{'5 Stars': 292230, '4 Stars': 132295, '3 Star...</td>\n",
       "    </tr>\n",
       "    <tr>\n",
       "      <th>2</th>\n",
       "      <td>100915.The_Lion_the_Witch_and_the_Wardrobe</td>\n",
       "      <td>100915</td>\n",
       "      <td>The Lion, the Witch and the Wardrobe</td>\n",
       "      <td>The Chronicles of Narnia (Publication Order</td>\n",
       "      <td>/series/49073-the-chronicles-of-narnia-publica...</td>\n",
       "      <td>64471047</td>\n",
       "      <td>9.78006E+12</td>\n",
       "      <td>1950.0</td>\n",
       "      <td>C.S. Lewis</td>\n",
       "      <td>206</td>\n",
       "      <td>['Fantasy', 'Classics', 'Fiction', 'Young Adul...</td>\n",
       "      <td>{'to-read': 477766, 'fantasy': 26869, 'current...</td>\n",
       "      <td>{'Books': 58, 'Best': 103, 'The': 47, 'Favorit...</td>\n",
       "      <td>2298944</td>\n",
       "      <td>24386</td>\n",
       "      <td>4.22</td>\n",
       "      <td>{'5 Stars': 1111315, '4 Stars': 721815, '3 Sta...</td>\n",
       "    </tr>\n",
       "    <tr>\n",
       "      <th>3</th>\n",
       "      <td>101299.The_Reader</td>\n",
       "      <td>101299</td>\n",
       "      <td>The Reader</td>\n",
       "      <td>NaN</td>\n",
       "      <td>NaN</td>\n",
       "      <td>3257229534</td>\n",
       "      <td>9.78326E+12</td>\n",
       "      <td>1995.0</td>\n",
       "      <td>Bernhard Schlink</td>\n",
       "      <td>216</td>\n",
       "      <td>['Fiction', 'Historical &gt; Historical Fiction',...</td>\n",
       "      <td>{'to-read': 65493, 'fiction': 2823, 'currently...</td>\n",
       "      <td>{'What': 73, 'Best': 22, 'Books': 69522, 'I': ...</td>\n",
       "      <td>180371</td>\n",
       "      <td>10743</td>\n",
       "      <td>3.77</td>\n",
       "      <td>{'5 Stars': 43720, '4 Stars': 71143, '3 Stars'...</td>\n",
       "    </tr>\n",
       "    <tr>\n",
       "      <th>4</th>\n",
       "      <td>10140661-gabriel-s-inferno</td>\n",
       "      <td>10140661</td>\n",
       "      <td>Gabriel's Inferno</td>\n",
       "      <td>Gabriel's Inferno  #1</td>\n",
       "      <td>/series/80574-gabriel-s-inferno</td>\n",
       "      <td>isbn not found</td>\n",
       "      <td>9.78841E+12</td>\n",
       "      <td>2011.0</td>\n",
       "      <td>Sylvain Reynard</td>\n",
       "      <td>506</td>\n",
       "      <td>['Romance', 'Romance &gt; Contemporary Romance', ...</td>\n",
       "      <td>{'to-read': 90358, 'currently-reading': 3066, ...</td>\n",
       "      <td>{'Best': 335, 'Controlling/Sexy/Possessive': 6...</td>\n",
       "      <td>149866</td>\n",
       "      <td>8440</td>\n",
       "      <td>4.00</td>\n",
       "      <td>{'5 Stars': 66101, '4 Stars': 41427, '3 Stars'...</td>\n",
       "    </tr>\n",
       "  </tbody>\n",
       "</table>\n",
       "</div>"
      ],
      "text/plain": [
       "                                book_id_title   book_id  \\\n",
       "0    1.Harry_Potter_and_the_Half_Blood_Prince         1   \n",
       "1                   10025305-clockwork-prince  10025305   \n",
       "2  100915.The_Lion_the_Witch_and_the_Wardrobe    100915   \n",
       "3                           101299.The_Reader    101299   \n",
       "4                  10140661-gabriel-s-inferno  10140661   \n",
       "\n",
       "                               book_title  \\\n",
       "0  Harry Potter and the Half-Blood Prince   \n",
       "1                        Clockwork Prince   \n",
       "2    The Lion, the Witch and the Wardrobe   \n",
       "3                              The Reader   \n",
       "4                       Gabriel's Inferno   \n",
       "\n",
       "                                   book_series  \\\n",
       "0                              Harry Potter #6   \n",
       "1                      The Infernal Devices #2   \n",
       "2  The Chronicles of Narnia (Publication Order   \n",
       "3                                          NaN   \n",
       "4                        Gabriel's Inferno  #1   \n",
       "\n",
       "                                     book_series_uri            isbn  \\\n",
       "0                         /series/45175-harry-potter       747581088   \n",
       "1                 /series/54144-the-infernal-devices      8408102338   \n",
       "2  /series/49073-the-chronicles-of-narnia-publica...        64471047   \n",
       "3                                                NaN      3257229534   \n",
       "4                    /series/80574-gabriel-s-inferno  isbn not found   \n",
       "\n",
       "        isbn13  year_first_published            author  num_pages  \\\n",
       "0  9.78075E+12                2005.0      J.K. Rowling        652   \n",
       "1  9.78841E+12                   NaN   Cassandra Clare        498   \n",
       "2  9.78006E+12                1950.0        C.S. Lewis        206   \n",
       "3  9.78326E+12                1995.0  Bernhard Schlink        216   \n",
       "4  9.78841E+12                2011.0   Sylvain Reynard        506   \n",
       "\n",
       "                                              genres  \\\n",
       "0  ['Fantasy', 'Young Adult', 'Fiction', 'Fantasy...   \n",
       "1  ['Fantasy', 'Young Adult', 'Romance', 'Fantasy...   \n",
       "2  ['Fantasy', 'Classics', 'Fiction', 'Young Adul...   \n",
       "3  ['Fiction', 'Historical > Historical Fiction',...   \n",
       "4  ['Romance', 'Romance > Contemporary Romance', ...   \n",
       "\n",
       "                                             shelves  \\\n",
       "0  {'to-read': 364165, 'fantasy': 50816, 'favorit...   \n",
       "1  {'to-read': 219672, 'favorites': 12675, 'fanta...   \n",
       "2  {'to-read': 477766, 'fantasy': 26869, 'current...   \n",
       "3  {'to-read': 65493, 'fiction': 2823, 'currently...   \n",
       "4  {'to-read': 90358, 'currently-reading': 3066, ...   \n",
       "\n",
       "                                               lists  num_ratings  \\\n",
       "0  {'Books': 246, 'Best': 491, 'The': 8907, \"Coul...      2650467   \n",
       "1  {'YA': 277, 'Books': 288, \"Can't\": 74, 'Best':...       488260   \n",
       "2  {'Books': 58, 'Best': 103, 'The': 47, 'Favorit...      2298944   \n",
       "3  {'What': 73, 'Best': 22, 'Books': 69522, 'I': ...       180371   \n",
       "4  {'Best': 335, 'Controlling/Sexy/Possessive': 6...       149866   \n",
       "\n",
       "   num_reviews  average_rating  \\\n",
       "0        43450            4.57   \n",
       "1        25729            4.42   \n",
       "2        24386            4.22   \n",
       "3        10743            3.77   \n",
       "4         8440            4.00   \n",
       "\n",
       "                                 rating_distribution  \n",
       "0  {'5 Stars': 1794068, '4 Stars': 630873, '3 Sta...  \n",
       "1  {'5 Stars': 292230, '4 Stars': 132295, '3 Star...  \n",
       "2  {'5 Stars': 1111315, '4 Stars': 721815, '3 Sta...  \n",
       "3  {'5 Stars': 43720, '4 Stars': 71143, '3 Stars'...  \n",
       "4  {'5 Stars': 66101, '4 Stars': 41427, '3 Stars'...  "
      ]
     },
     "execution_count": 3,
     "metadata": {},
     "output_type": "execute_result"
    }
   ],
   "source": [
    "top1000 = pd.read_csv('goodreads_top1000.csv')\n",
    "top1000.head()"
   ]
  },
  {
   "cell_type": "code",
   "execution_count": 4,
   "id": "employed-connectivity",
   "metadata": {},
   "outputs": [
    {
     "data": {
      "text/plain": [
       "(1000, 17)"
      ]
     },
     "execution_count": 4,
     "metadata": {},
     "output_type": "execute_result"
    }
   ],
   "source": [
    "top1000.shape"
   ]
  },
  {
   "cell_type": "markdown",
   "id": "deadly-decline",
   "metadata": {},
   "source": [
    "Finally, we have all the data we need - the metadata of the top 1000 books from Goodreads. Let's move on to EDA in the next notebook"
   ]
  },
  {
   "cell_type": "code",
   "execution_count": 6,
   "id": "cubic-shanghai",
   "metadata": {},
   "outputs": [],
   "source": [
    "### END"
   ]
  }
 ],
 "metadata": {
  "kernelspec": {
   "display_name": "booksenv",
   "language": "python",
   "name": "booksenv"
  },
  "language_info": {
   "codemirror_mode": {
    "name": "ipython",
    "version": 3
   },
   "file_extension": ".py",
   "mimetype": "text/x-python",
   "name": "python",
   "nbconvert_exporter": "python",
   "pygments_lexer": "ipython3",
   "version": "3.7.11"
  }
 },
 "nbformat": 4,
 "nbformat_minor": 5
}
