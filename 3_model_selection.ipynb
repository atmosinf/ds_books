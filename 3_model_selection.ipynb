{
 "cells": [
  {
   "cell_type": "markdown",
   "id": "mineral-manhattan",
   "metadata": {},
   "source": [
    "## Model Selection"
   ]
  },
  {
   "cell_type": "markdown",
   "id": "present-armenia",
   "metadata": {},
   "source": [
    "In this notebook, we will find the model that returns the best results"
   ]
  },
  {
   "cell_type": "code",
   "execution_count": 46,
   "id": "working-annual",
   "metadata": {},
   "outputs": [],
   "source": [
    "import numpy as np\n",
    "import pandas as pd\n",
    "import matplotlib.pyplot as plt"
   ]
  },
  {
   "cell_type": "code",
   "execution_count": 100,
   "id": "harmful-attendance",
   "metadata": {},
   "outputs": [
    {
     "data": {
      "text/html": [
       "<div>\n",
       "<style scoped>\n",
       "    .dataframe tbody tr th:only-of-type {\n",
       "        vertical-align: middle;\n",
       "    }\n",
       "\n",
       "    .dataframe tbody tr th {\n",
       "        vertical-align: top;\n",
       "    }\n",
       "\n",
       "    .dataframe thead th {\n",
       "        text-align: right;\n",
       "    }\n",
       "</style>\n",
       "<table border=\"1\" class=\"dataframe\">\n",
       "  <thead>\n",
       "    <tr style=\"text-align: right;\">\n",
       "      <th></th>\n",
       "      <th>book_title</th>\n",
       "      <th>author</th>\n",
       "      <th>num_pages</th>\n",
       "      <th>genres</th>\n",
       "      <th>average_rating</th>\n",
       "      <th>Academic</th>\n",
       "      <th>Academic &gt; College</th>\n",
       "      <th>Academic &gt; Read For School</th>\n",
       "      <th>Academic &gt; School</th>\n",
       "      <th>Action</th>\n",
       "      <th>...</th>\n",
       "      <th>Writing &gt; Books About Books</th>\n",
       "      <th>Writing &gt; Essays</th>\n",
       "      <th>Writing &gt; Journalism</th>\n",
       "      <th>Young Adult</th>\n",
       "      <th>Young Adult &gt; Coming Of Age</th>\n",
       "      <th>Young Adult &gt; High School</th>\n",
       "      <th>Young Adult &gt; Teen</th>\n",
       "      <th>Young Adult &gt; Young Adult Contemporary</th>\n",
       "      <th>Young Adult &gt; Young Adult Fantasy</th>\n",
       "      <th>Young Adult &gt; Young Adult Romance</th>\n",
       "    </tr>\n",
       "  </thead>\n",
       "  <tbody>\n",
       "    <tr>\n",
       "      <th>0</th>\n",
       "      <td>Harry Potter and the Half-Blood Prince</td>\n",
       "      <td>J.K. Rowling</td>\n",
       "      <td>652</td>\n",
       "      <td>['Fantasy', 'Young Adult', 'Fiction', 'Fantasy...</td>\n",
       "      <td>4.57</td>\n",
       "      <td>0.0</td>\n",
       "      <td>0.0</td>\n",
       "      <td>0.0</td>\n",
       "      <td>0.0</td>\n",
       "      <td>0.0</td>\n",
       "      <td>...</td>\n",
       "      <td>0.0</td>\n",
       "      <td>0.0</td>\n",
       "      <td>0.0</td>\n",
       "      <td>1.0</td>\n",
       "      <td>0.0</td>\n",
       "      <td>0.0</td>\n",
       "      <td>0.0</td>\n",
       "      <td>0.0</td>\n",
       "      <td>0.0</td>\n",
       "      <td>0.0</td>\n",
       "    </tr>\n",
       "    <tr>\n",
       "      <th>1</th>\n",
       "      <td>Clockwork Prince</td>\n",
       "      <td>Cassandra Clare</td>\n",
       "      <td>498</td>\n",
       "      <td>['Fantasy', 'Young Adult', 'Romance', 'Fantasy...</td>\n",
       "      <td>4.42</td>\n",
       "      <td>0.0</td>\n",
       "      <td>0.0</td>\n",
       "      <td>0.0</td>\n",
       "      <td>0.0</td>\n",
       "      <td>0.0</td>\n",
       "      <td>...</td>\n",
       "      <td>0.0</td>\n",
       "      <td>0.0</td>\n",
       "      <td>0.0</td>\n",
       "      <td>1.0</td>\n",
       "      <td>0.0</td>\n",
       "      <td>0.0</td>\n",
       "      <td>0.0</td>\n",
       "      <td>0.0</td>\n",
       "      <td>0.0</td>\n",
       "      <td>0.0</td>\n",
       "    </tr>\n",
       "    <tr>\n",
       "      <th>2</th>\n",
       "      <td>The Lion, the Witch and the Wardrobe</td>\n",
       "      <td>C.S. Lewis</td>\n",
       "      <td>206</td>\n",
       "      <td>['Fantasy', 'Classics', 'Fiction', 'Young Adul...</td>\n",
       "      <td>4.22</td>\n",
       "      <td>0.0</td>\n",
       "      <td>0.0</td>\n",
       "      <td>0.0</td>\n",
       "      <td>0.0</td>\n",
       "      <td>0.0</td>\n",
       "      <td>...</td>\n",
       "      <td>0.0</td>\n",
       "      <td>0.0</td>\n",
       "      <td>0.0</td>\n",
       "      <td>1.0</td>\n",
       "      <td>0.0</td>\n",
       "      <td>0.0</td>\n",
       "      <td>0.0</td>\n",
       "      <td>0.0</td>\n",
       "      <td>0.0</td>\n",
       "      <td>0.0</td>\n",
       "    </tr>\n",
       "    <tr>\n",
       "      <th>3</th>\n",
       "      <td>The Reader</td>\n",
       "      <td>Bernhard Schlink</td>\n",
       "      <td>216</td>\n",
       "      <td>['Fiction', 'Historical &gt; Historical Fiction',...</td>\n",
       "      <td>3.77</td>\n",
       "      <td>0.0</td>\n",
       "      <td>0.0</td>\n",
       "      <td>0.0</td>\n",
       "      <td>0.0</td>\n",
       "      <td>0.0</td>\n",
       "      <td>...</td>\n",
       "      <td>0.0</td>\n",
       "      <td>0.0</td>\n",
       "      <td>0.0</td>\n",
       "      <td>0.0</td>\n",
       "      <td>0.0</td>\n",
       "      <td>0.0</td>\n",
       "      <td>0.0</td>\n",
       "      <td>0.0</td>\n",
       "      <td>0.0</td>\n",
       "      <td>0.0</td>\n",
       "    </tr>\n",
       "    <tr>\n",
       "      <th>4</th>\n",
       "      <td>Gabriel's Inferno</td>\n",
       "      <td>Sylvain Reynard</td>\n",
       "      <td>506</td>\n",
       "      <td>['Romance', 'Romance &gt; Contemporary Romance', ...</td>\n",
       "      <td>4.00</td>\n",
       "      <td>0.0</td>\n",
       "      <td>1.0</td>\n",
       "      <td>0.0</td>\n",
       "      <td>0.0</td>\n",
       "      <td>0.0</td>\n",
       "      <td>...</td>\n",
       "      <td>0.0</td>\n",
       "      <td>0.0</td>\n",
       "      <td>0.0</td>\n",
       "      <td>0.0</td>\n",
       "      <td>0.0</td>\n",
       "      <td>0.0</td>\n",
       "      <td>0.0</td>\n",
       "      <td>0.0</td>\n",
       "      <td>0.0</td>\n",
       "      <td>0.0</td>\n",
       "    </tr>\n",
       "  </tbody>\n",
       "</table>\n",
       "<p>5 rows × 328 columns</p>\n",
       "</div>"
      ],
      "text/plain": [
       "                               book_title            author  num_pages  \\\n",
       "0  Harry Potter and the Half-Blood Prince      J.K. Rowling        652   \n",
       "1                        Clockwork Prince   Cassandra Clare        498   \n",
       "2    The Lion, the Witch and the Wardrobe        C.S. Lewis        206   \n",
       "3                              The Reader  Bernhard Schlink        216   \n",
       "4                       Gabriel's Inferno   Sylvain Reynard        506   \n",
       "\n",
       "                                              genres  average_rating  \\\n",
       "0  ['Fantasy', 'Young Adult', 'Fiction', 'Fantasy...            4.57   \n",
       "1  ['Fantasy', 'Young Adult', 'Romance', 'Fantasy...            4.42   \n",
       "2  ['Fantasy', 'Classics', 'Fiction', 'Young Adul...            4.22   \n",
       "3  ['Fiction', 'Historical > Historical Fiction',...            3.77   \n",
       "4  ['Romance', 'Romance > Contemporary Romance', ...            4.00   \n",
       "\n",
       "   Academic  Academic > College  Academic > Read For School  \\\n",
       "0       0.0                 0.0                         0.0   \n",
       "1       0.0                 0.0                         0.0   \n",
       "2       0.0                 0.0                         0.0   \n",
       "3       0.0                 0.0                         0.0   \n",
       "4       0.0                 1.0                         0.0   \n",
       "\n",
       "   Academic > School  Action  ...  Writing > Books About Books  \\\n",
       "0                0.0     0.0  ...                          0.0   \n",
       "1                0.0     0.0  ...                          0.0   \n",
       "2                0.0     0.0  ...                          0.0   \n",
       "3                0.0     0.0  ...                          0.0   \n",
       "4                0.0     0.0  ...                          0.0   \n",
       "\n",
       "   Writing > Essays  Writing > Journalism  Young Adult  \\\n",
       "0               0.0                   0.0          1.0   \n",
       "1               0.0                   0.0          1.0   \n",
       "2               0.0                   0.0          1.0   \n",
       "3               0.0                   0.0          0.0   \n",
       "4               0.0                   0.0          0.0   \n",
       "\n",
       "   Young Adult > Coming Of Age  Young Adult > High School  Young Adult > Teen  \\\n",
       "0                          0.0                        0.0                 0.0   \n",
       "1                          0.0                        0.0                 0.0   \n",
       "2                          0.0                        0.0                 0.0   \n",
       "3                          0.0                        0.0                 0.0   \n",
       "4                          0.0                        0.0                 0.0   \n",
       "\n",
       "   Young Adult > Young Adult Contemporary  Young Adult > Young Adult Fantasy  \\\n",
       "0                                     0.0                                0.0   \n",
       "1                                     0.0                                0.0   \n",
       "2                                     0.0                                0.0   \n",
       "3                                     0.0                                0.0   \n",
       "4                                     0.0                                0.0   \n",
       "\n",
       "   Young Adult > Young Adult Romance  \n",
       "0                                0.0  \n",
       "1                                0.0  \n",
       "2                                0.0  \n",
       "3                                0.0  \n",
       "4                                0.0  \n",
       "\n",
       "[5 rows x 328 columns]"
      ]
     },
     "execution_count": 100,
     "metadata": {},
     "output_type": "execute_result"
    }
   ],
   "source": [
    "booksfinal = pd.read_csv('booksfinal.csv').iloc[:,1:]\n",
    "booksfinal.head()"
   ]
  },
  {
   "cell_type": "code",
   "execution_count": 137,
   "id": "blank-academy",
   "metadata": {},
   "outputs": [],
   "source": [
    "from sklearn.model_selection import train_test_split\n",
    "\n",
    "X = booksfinal.drop(['average_rating','book_title','author','genres','num_pages'],axis=1)\n",
    "y = booksfinal['average_rating']\n",
    "X_train, X_test, y_train, y_test = train_test_split(X, y, test_size=0.2, random_state=42)"
   ]
  },
  {
   "cell_type": "code",
   "execution_count": 138,
   "id": "coordinated-coffee",
   "metadata": {},
   "outputs": [],
   "source": [
    "from sklearn.neighbors import KNeighborsRegressor"
   ]
  },
  {
   "cell_type": "code",
   "execution_count": 139,
   "id": "congressional-stock",
   "metadata": {},
   "outputs": [],
   "source": [
    "knr = KNeighborsRegressor()"
   ]
  },
  {
   "cell_type": "code",
   "execution_count": 140,
   "id": "conservative-constitutional",
   "metadata": {},
   "outputs": [
    {
     "data": {
      "text/plain": [
       "KNeighborsRegressor()"
      ]
     },
     "execution_count": 140,
     "metadata": {},
     "output_type": "execute_result"
    }
   ],
   "source": [
    "knr.fit(X_train,y_train)"
   ]
  },
  {
   "cell_type": "code",
   "execution_count": 141,
   "id": "guided-contest",
   "metadata": {},
   "outputs": [
    {
     "data": {
      "text/plain": [
       "(800,)"
      ]
     },
     "execution_count": 141,
     "metadata": {},
     "output_type": "execute_result"
    }
   ],
   "source": [
    "y_train.shape"
   ]
  },
  {
   "cell_type": "code",
   "execution_count": 142,
   "id": "northern-handy",
   "metadata": {},
   "outputs": [
    {
     "data": {
      "text/plain": [
       "(200,)"
      ]
     },
     "execution_count": 142,
     "metadata": {},
     "output_type": "execute_result"
    }
   ],
   "source": [
    "y_test.shape"
   ]
  },
  {
   "cell_type": "code",
   "execution_count": null,
   "id": "persistent-breakfast",
   "metadata": {},
   "outputs": [],
   "source": []
  },
  {
   "cell_type": "code",
   "execution_count": 143,
   "id": "nervous-brooks",
   "metadata": {},
   "outputs": [],
   "source": [
    "pred = knr.predict(X_test)"
   ]
  },
  {
   "cell_type": "code",
   "execution_count": 144,
   "id": "expressed-riverside",
   "metadata": {},
   "outputs": [
    {
     "data": {
      "text/plain": [
       "0.24574654441410582"
      ]
     },
     "execution_count": 144,
     "metadata": {},
     "output_type": "execute_result"
    }
   ],
   "source": [
    "from sklearn.metrics import accuracy_score\n",
    "knr.score(X_test,y_test)"
   ]
  },
  {
   "cell_type": "code",
   "execution_count": 145,
   "id": "honest-talent",
   "metadata": {},
   "outputs": [],
   "source": [
    "from sklearn.ensemble import RandomForestRegressor"
   ]
  },
  {
   "cell_type": "code",
   "execution_count": 146,
   "id": "improving-layer",
   "metadata": {},
   "outputs": [],
   "source": [
    "rfr = RandomForestRegressor(n_estimators=100)"
   ]
  },
  {
   "cell_type": "code",
   "execution_count": 147,
   "id": "described-sheep",
   "metadata": {},
   "outputs": [
    {
     "data": {
      "text/plain": [
       "RandomForestRegressor()"
      ]
     },
     "execution_count": 147,
     "metadata": {},
     "output_type": "execute_result"
    }
   ],
   "source": [
    "rfr.fit(X_train,y_train)"
   ]
  },
  {
   "cell_type": "code",
   "execution_count": 148,
   "id": "blank-advice",
   "metadata": {},
   "outputs": [],
   "source": [
    "pred = rfr.predict(X_test)"
   ]
  },
  {
   "cell_type": "code",
   "execution_count": 149,
   "id": "amateur-optimum",
   "metadata": {},
   "outputs": [
    {
     "data": {
      "text/plain": [
       "0.3789422088496093"
      ]
     },
     "execution_count": 149,
     "metadata": {},
     "output_type": "execute_result"
    }
   ],
   "source": [
    "rfr.score(X_test,y_test)"
   ]
  },
  {
   "cell_type": "code",
   "execution_count": 152,
   "id": "lesser-painting",
   "metadata": {},
   "outputs": [
    {
     "data": {
      "text/plain": [
       "(3.8095999999999997, 3.46)"
      ]
     },
     "execution_count": 152,
     "metadata": {},
     "output_type": "execute_result"
    }
   ],
   "source": [
    "x = 1\n",
    "pred[x], y_test.iloc[x]"
   ]
  },
  {
   "cell_type": "code",
   "execution_count": 153,
   "id": "attended-orientation",
   "metadata": {},
   "outputs": [],
   "source": [
    "model = RandomForestRegressor()"
   ]
  },
  {
   "cell_type": "code",
   "execution_count": 154,
   "id": "funny-damages",
   "metadata": {},
   "outputs": [
    {
     "data": {
      "text/plain": [
       "[<matplotlib.lines.Line2D at 0x1e44ba32b48>]"
      ]
     },
     "execution_count": 154,
     "metadata": {},
     "output_type": "execute_result"
    },
    {
     "data": {
      "image/png": "[encoded data removed]",
      "text/plain": [
       "<Figure size 432x288 with 1 Axes>"
      ]
     },
     "metadata": {
      "needs_background": "light"
     },
     "output_type": "display_data"
    }
   ],
   "source": [
    "estimators = np.arange(10, 200, 10)\n",
    "scores = []\n",
    "for n in estimators:\n",
    "    model.set_params(n_estimators=n)\n",
    "    model.fit(X_train, y_train)\n",
    "    scores.append(model.score(X_test, y_test))\n",
    "plt.title(\"Effect of n_estimators\")\n",
    "plt.xlabel(\"n_estimator\")\n",
    "plt.ylabel(\"score\")\n",
    "plt.plot(estimators, scores)"
   ]
  },
  {
   "cell_type": "code",
   "execution_count": 155,
   "id": "informative-syndication",
   "metadata": {},
   "outputs": [
    {
     "data": {
      "text/plain": [
       "100"
      ]
     },
     "execution_count": 155,
     "metadata": {},
     "output_type": "execute_result"
    }
   ],
   "source": [
    "estimators[9]"
   ]
  },
  {
   "cell_type": "code",
   "execution_count": 156,
   "id": "positive-olive",
   "metadata": {},
   "outputs": [
    {
     "data": {
      "text/plain": [
       "6"
      ]
     },
     "execution_count": 156,
     "metadata": {},
     "output_type": "execute_result"
    }
   ],
   "source": [
    "np.array(scores).argmax()"
   ]
  },
  {
   "cell_type": "code",
   "execution_count": 157,
   "id": "impressed-reverse",
   "metadata": {},
   "outputs": [],
   "source": [
    "from sklearn.linear_model import LinearRegression"
   ]
  },
  {
   "cell_type": "code",
   "execution_count": 158,
   "id": "identical-heading",
   "metadata": {},
   "outputs": [
    {
     "data": {
      "text/plain": [
       "LinearRegression()"
      ]
     },
     "execution_count": 158,
     "metadata": {},
     "output_type": "execute_result"
    }
   ],
   "source": [
    "lr = LinearRegression()\n",
    "lr.fit(X_train,y_train)"
   ]
  },
  {
   "cell_type": "code",
   "execution_count": 159,
   "id": "american-violin",
   "metadata": {},
   "outputs": [
    {
     "data": {
      "text/plain": [
       "-4.5849221648062446e+24"
      ]
     },
     "execution_count": 159,
     "metadata": {},
     "output_type": "execute_result"
    }
   ],
   "source": [
    "lr.score(X_test,y_test)"
   ]
  },
  {
   "cell_type": "code",
   "execution_count": 160,
   "id": "infinite-server",
   "metadata": {},
   "outputs": [],
   "source": [
    "from sklearn.cluster import KMeans"
   ]
  },
  {
   "cell_type": "code",
   "execution_count": 161,
   "id": "treated-means",
   "metadata": {},
   "outputs": [],
   "source": [
    "km = KMeans()"
   ]
  },
  {
   "cell_type": "code",
   "execution_count": 180,
   "id": "satellite-blues",
   "metadata": {},
   "outputs": [
    {
     "data": {
      "text/plain": [
       "[<matplotlib.lines.Line2D at 0x1e4518ec8c8>]"
      ]
     },
     "execution_count": 180,
     "metadata": {},
     "output_type": "execute_result"
    },
    {
     "data": {
      "image/png": "[encoded data removed]",
      "text/plain": [
       "<Figure size 432x288 with 1 Axes>"
      ]
     },
     "metadata": {
      "needs_background": "light"
     },
     "output_type": "display_data"
    }
   ],
   "source": [
    "kmscores = []\n",
    "clustercount = np.arange(10,30)\n",
    "for i in clustercount:\n",
    "    km.set_params(n_clusters=i)\n",
    "    km.fit(X,y)\n",
    "    kmscores.append(km.score(X_test,y_test))\n",
    "\n",
    "plt.plot(clustercount,kmscores)"
   ]
  },
  {
   "cell_type": "code",
   "execution_count": 184,
   "id": "grand-doctor",
   "metadata": {},
   "outputs": [
    {
     "data": {
      "text/plain": [
       "-3824.8991096834334"
      ]
     },
     "execution_count": 184,
     "metadata": {},
     "output_type": "execute_result"
    }
   ],
   "source": [
    "km.set_params(n_clusters=25)\n",
    "km.fit(X,y)\n",
    "km.score(X,y)"
   ]
  },
  {
   "cell_type": "code",
   "execution_count": 186,
   "id": "nasty-return",
   "metadata": {},
   "outputs": [
    {
     "data": {
      "text/plain": [
       "{0,\n",
       " 1,\n",
       " 2,\n",
       " 3,\n",
       " 4,\n",
       " 5,\n",
       " 6,\n",
       " 7,\n",
       " 8,\n",
       " 9,\n",
       " 10,\n",
       " 11,\n",
       " 12,\n",
       " 13,\n",
       " 14,\n",
       " 15,\n",
       " 16,\n",
       " 17,\n",
       " 18,\n",
       " 19,\n",
       " 20,\n",
       " 21,\n",
       " 22,\n",
       " 23,\n",
       " 24}"
      ]
     },
     "execution_count": 186,
     "metadata": {},
     "output_type": "execute_result"
    }
   ],
   "source": [
    "set(km.labels_)"
   ]
  },
  {
   "cell_type": "code",
   "execution_count": 187,
   "id": "driven-victoria",
   "metadata": {
    "scrolled": false
   },
   "outputs": [
    {
     "data": {
      "text/html": [
       "<div>\n",
       "<style scoped>\n",
       "    .dataframe tbody tr th:only-of-type {\n",
       "        vertical-align: middle;\n",
       "    }\n",
       "\n",
       "    .dataframe tbody tr th {\n",
       "        vertical-align: top;\n",
       "    }\n",
       "\n",
       "    .dataframe thead th {\n",
       "        text-align: right;\n",
       "    }\n",
       "</style>\n",
       "<table border=\"1\" class=\"dataframe\">\n",
       "  <thead>\n",
       "    <tr style=\"text-align: right;\">\n",
       "      <th></th>\n",
       "      <th>book_title</th>\n",
       "      <th>author</th>\n",
       "      <th>genres</th>\n",
       "    </tr>\n",
       "  </thead>\n",
       "  <tbody>\n",
       "    <tr>\n",
       "      <th>0</th>\n",
       "      <td>Harry Potter and the Half-Blood Prince</td>\n",
       "      <td>J.K. Rowling</td>\n",
       "      <td>['Fantasy', 'Young Adult', 'Fiction', 'Fantasy...</td>\n",
       "    </tr>\n",
       "    <tr>\n",
       "      <th>1</th>\n",
       "      <td>Clockwork Prince</td>\n",
       "      <td>Cassandra Clare</td>\n",
       "      <td>['Fantasy', 'Young Adult', 'Romance', 'Fantasy...</td>\n",
       "    </tr>\n",
       "    <tr>\n",
       "      <th>2</th>\n",
       "      <td>The Lion, the Witch and the Wardrobe</td>\n",
       "      <td>C.S. Lewis</td>\n",
       "      <td>['Fantasy', 'Classics', 'Fiction', 'Young Adul...</td>\n",
       "    </tr>\n",
       "    <tr>\n",
       "      <th>3</th>\n",
       "      <td>The Reader</td>\n",
       "      <td>Bernhard Schlink</td>\n",
       "      <td>['Fiction', 'Historical &gt; Historical Fiction',...</td>\n",
       "    </tr>\n",
       "    <tr>\n",
       "      <th>4</th>\n",
       "      <td>Gabriel's Inferno</td>\n",
       "      <td>Sylvain Reynard</td>\n",
       "      <td>['Romance', 'Romance &gt; Contemporary Romance', ...</td>\n",
       "    </tr>\n",
       "    <tr>\n",
       "      <th>...</th>\n",
       "      <td>...</td>\n",
       "      <td>...</td>\n",
       "      <td>...</td>\n",
       "    </tr>\n",
       "    <tr>\n",
       "      <th>995</th>\n",
       "      <td>Winnie-the-Pooh</td>\n",
       "      <td>A.A. Milne</td>\n",
       "      <td>['Classics', 'Childrens', 'Fiction', 'Fantasy'...</td>\n",
       "    </tr>\n",
       "    <tr>\n",
       "      <th>996</th>\n",
       "      <td>The Yellow Wallpaper and Other Stories</td>\n",
       "      <td>Charlotte Perkins Gilman</td>\n",
       "      <td>['Classics', 'Short Stories', 'Fiction', 'Femi...</td>\n",
       "    </tr>\n",
       "    <tr>\n",
       "      <th>997</th>\n",
       "      <td>Looking for Alaska</td>\n",
       "      <td>John Green</td>\n",
       "      <td>['Young Adult', 'Fiction', 'Contemporary', 'Ro...</td>\n",
       "    </tr>\n",
       "    <tr>\n",
       "      <th>998</th>\n",
       "      <td>Ready Player One</td>\n",
       "      <td>Ernest Cline</td>\n",
       "      <td>['Science Fiction &gt; Dystopia', 'Contemporary',...</td>\n",
       "    </tr>\n",
       "    <tr>\n",
       "      <th>999</th>\n",
       "      <td>The Bhagavad Gita</td>\n",
       "      <td>Krishna-Dwaipayana Vyasa</td>\n",
       "      <td>['Religion', 'Philosophy', 'Classics', 'Spirit...</td>\n",
       "    </tr>\n",
       "  </tbody>\n",
       "</table>\n",
       "<p>1000 rows × 3 columns</p>\n",
       "</div>"
      ],
      "text/plain": [
       "                                 book_title                    author  \\\n",
       "0    Harry Potter and the Half-Blood Prince              J.K. Rowling   \n",
       "1                          Clockwork Prince           Cassandra Clare   \n",
       "2      The Lion, the Witch and the Wardrobe                C.S. Lewis   \n",
       "3                                The Reader          Bernhard Schlink   \n",
       "4                         Gabriel's Inferno           Sylvain Reynard   \n",
       "..                                      ...                       ...   \n",
       "995                         Winnie-the-Pooh                A.A. Milne   \n",
       "996  The Yellow Wallpaper and Other Stories  Charlotte Perkins Gilman   \n",
       "997                      Looking for Alaska                John Green   \n",
       "998                        Ready Player One              Ernest Cline   \n",
       "999                       The Bhagavad Gita  Krishna-Dwaipayana Vyasa   \n",
       "\n",
       "                                                genres  \n",
       "0    ['Fantasy', 'Young Adult', 'Fiction', 'Fantasy...  \n",
       "1    ['Fantasy', 'Young Adult', 'Romance', 'Fantasy...  \n",
       "2    ['Fantasy', 'Classics', 'Fiction', 'Young Adul...  \n",
       "3    ['Fiction', 'Historical > Historical Fiction',...  \n",
       "4    ['Romance', 'Romance > Contemporary Romance', ...  \n",
       "..                                                 ...  \n",
       "995  ['Classics', 'Childrens', 'Fiction', 'Fantasy'...  \n",
       "996  ['Classics', 'Short Stories', 'Fiction', 'Femi...  \n",
       "997  ['Young Adult', 'Fiction', 'Contemporary', 'Ro...  \n",
       "998  ['Science Fiction > Dystopia', 'Contemporary',...  \n",
       "999  ['Religion', 'Philosophy', 'Classics', 'Spirit...  \n",
       "\n",
       "[1000 rows x 3 columns]"
      ]
     },
     "execution_count": 187,
     "metadata": {},
     "output_type": "execute_result"
    }
   ],
   "source": [
    "books1 = books[['book_title','author','genres']]\n",
    "books1"
   ]
  },
  {
   "cell_type": "code",
   "execution_count": 188,
   "id": "atmospheric-money",
   "metadata": {},
   "outputs": [],
   "source": [
    "booklabel = pd.concat([booksfinal,pd.DataFrame(km.labels_)],axis=1)\n",
    "booklabel.columns = list(booksfinal.columns) + ['Label']"
   ]
  },
  {
   "cell_type": "code",
   "execution_count": 189,
   "id": "flush-preservation",
   "metadata": {},
   "outputs": [],
   "source": [
    "booklabel1 = booklabel[~booklabel['Label'].isnull()].sort_values('Label')[['book_title','author','genres','Label']]"
   ]
  },
  {
   "cell_type": "code",
   "execution_count": 190,
   "id": "comprehensive-netherlands",
   "metadata": {},
   "outputs": [
    {
     "data": {
      "text/plain": [
       "(1000, 4)"
      ]
     },
     "execution_count": 190,
     "metadata": {},
     "output_type": "execute_result"
    }
   ],
   "source": [
    "booklabel1.shape"
   ]
  },
  {
   "cell_type": "code",
   "execution_count": 191,
   "id": "unsigned-chinese",
   "metadata": {},
   "outputs": [
    {
     "data": {
      "text/html": [
       "<div>\n",
       "<style scoped>\n",
       "    .dataframe tbody tr th:only-of-type {\n",
       "        vertical-align: middle;\n",
       "    }\n",
       "\n",
       "    .dataframe tbody tr th {\n",
       "        vertical-align: top;\n",
       "    }\n",
       "\n",
       "    .dataframe thead th {\n",
       "        text-align: right;\n",
       "    }\n",
       "</style>\n",
       "<table border=\"1\" class=\"dataframe\">\n",
       "  <thead>\n",
       "    <tr style=\"text-align: right;\">\n",
       "      <th></th>\n",
       "      <th>book_title</th>\n",
       "      <th>author</th>\n",
       "      <th>genres</th>\n",
       "      <th>Label</th>\n",
       "    </tr>\n",
       "  </thead>\n",
       "  <tbody>\n",
       "    <tr>\n",
       "      <th>683</th>\n",
       "      <td>Number the Stars</td>\n",
       "      <td>Lois Lowry</td>\n",
       "      <td>['Historical &gt; Historical Fiction', 'Young Adu...</td>\n",
       "      <td>0</td>\n",
       "    </tr>\n",
       "    <tr>\n",
       "      <th>382</th>\n",
       "      <td>A Monster Calls</td>\n",
       "      <td>Patrick Ness</td>\n",
       "      <td>['Fantasy', 'Young Adult', 'Fiction', 'Horror'...</td>\n",
       "      <td>0</td>\n",
       "    </tr>\n",
       "    <tr>\n",
       "      <th>530</th>\n",
       "      <td>Because of Winn-Dixie</td>\n",
       "      <td>Kate DiCamillo</td>\n",
       "      <td>['Fiction', 'Childrens', 'Realistic Fiction', ...</td>\n",
       "      <td>0</td>\n",
       "    </tr>\n",
       "    <tr>\n",
       "      <th>708</th>\n",
       "      <td>Hatchet</td>\n",
       "      <td>Gary Paulsen</td>\n",
       "      <td>['Young Adult', 'Fiction', 'Adventure', 'Class...</td>\n",
       "      <td>0</td>\n",
       "    </tr>\n",
       "    <tr>\n",
       "      <th>540</th>\n",
       "      <td>The Giver</td>\n",
       "      <td>Lois Lowry</td>\n",
       "      <td>['Young Adult', 'Fiction', 'Classics', 'Scienc...</td>\n",
       "      <td>0</td>\n",
       "    </tr>\n",
       "  </tbody>\n",
       "</table>\n",
       "</div>"
      ],
      "text/plain": [
       "                book_title          author  \\\n",
       "683       Number the Stars      Lois Lowry   \n",
       "382        A Monster Calls    Patrick Ness   \n",
       "530  Because of Winn-Dixie  Kate DiCamillo   \n",
       "708                Hatchet    Gary Paulsen   \n",
       "540              The Giver      Lois Lowry   \n",
       "\n",
       "                                                genres  Label  \n",
       "683  ['Historical > Historical Fiction', 'Young Adu...      0  \n",
       "382  ['Fantasy', 'Young Adult', 'Fiction', 'Horror'...      0  \n",
       "530  ['Fiction', 'Childrens', 'Realistic Fiction', ...      0  \n",
       "708  ['Young Adult', 'Fiction', 'Adventure', 'Class...      0  \n",
       "540  ['Young Adult', 'Fiction', 'Classics', 'Scienc...      0  "
      ]
     },
     "execution_count": 191,
     "metadata": {},
     "output_type": "execute_result"
    }
   ],
   "source": [
    "booklabel1.head()"
   ]
  },
  {
   "cell_type": "code",
   "execution_count": 192,
   "id": "recognized-tuner",
   "metadata": {},
   "outputs": [
    {
     "data": {
      "text/plain": [
       "4     86\n",
       "12    60\n",
       "19    55\n",
       "10    53\n",
       "3     45\n",
       "1     45\n",
       "16    45\n",
       "8     44\n",
       "11    44\n",
       "18    43\n",
       "5     42\n",
       "15    41\n",
       "6     39\n",
       "14    37\n",
       "13    36\n",
       "21    35\n",
       "22    34\n",
       "17    33\n",
       "24    32\n",
       "0     32\n",
       "7     28\n",
       "9     28\n",
       "2     26\n",
       "20    19\n",
       "23    18\n",
       "Name: Label, dtype: int64"
      ]
     },
     "execution_count": 192,
     "metadata": {},
     "output_type": "execute_result"
    }
   ],
   "source": [
    "booklabel['Label'].value_counts()"
   ]
  },
  {
   "cell_type": "code",
   "execution_count": 198,
   "id": "general-success",
   "metadata": {},
   "outputs": [
    {
     "data": {
      "text/html": [
       "<div>\n",
       "<style scoped>\n",
       "    .dataframe tbody tr th:only-of-type {\n",
       "        vertical-align: middle;\n",
       "    }\n",
       "\n",
       "    .dataframe tbody tr th {\n",
       "        vertical-align: top;\n",
       "    }\n",
       "\n",
       "    .dataframe thead th {\n",
       "        text-align: right;\n",
       "    }\n",
       "</style>\n",
       "<table border=\"1\" class=\"dataframe\">\n",
       "  <thead>\n",
       "    <tr style=\"text-align: right;\">\n",
       "      <th></th>\n",
       "      <th>book_title</th>\n",
       "      <th>author</th>\n",
       "      <th>genres</th>\n",
       "      <th>Label</th>\n",
       "    </tr>\n",
       "  </thead>\n",
       "  <tbody>\n",
       "    <tr>\n",
       "      <th>943</th>\n",
       "      <td>Harry Potter Series Box Set</td>\n",
       "      <td>J.K. Rowling</td>\n",
       "      <td>['Fantasy', 'Young Adult', 'Fiction', 'Childre...</td>\n",
       "      <td>19</td>\n",
       "    </tr>\n",
       "    <tr>\n",
       "      <th>0</th>\n",
       "      <td>Harry Potter and the Half-Blood Prince</td>\n",
       "      <td>J.K. Rowling</td>\n",
       "      <td>['Fantasy', 'Young Adult', 'Fiction', 'Fantasy...</td>\n",
       "      <td>19</td>\n",
       "    </tr>\n",
       "    <tr>\n",
       "      <th>443</th>\n",
       "      <td>Harry Potter and the Sorcerer's Stone</td>\n",
       "      <td>J.K. Rowling</td>\n",
       "      <td>['Fantasy', 'Fiction', 'Young Adult', 'Fantasy...</td>\n",
       "      <td>19</td>\n",
       "    </tr>\n",
       "    <tr>\n",
       "      <th>301</th>\n",
       "      <td>Harry Potter and the Order of the Phoenix</td>\n",
       "      <td>J.K. Rowling</td>\n",
       "      <td>['Fantasy', 'Young Adult', 'Fiction', 'Fantasy...</td>\n",
       "      <td>19</td>\n",
       "    </tr>\n",
       "    <tr>\n",
       "      <th>137</th>\n",
       "      <td>Harry Potter and the Deathly Hallows</td>\n",
       "      <td>J.K. Rowling</td>\n",
       "      <td>['Fantasy', 'Young Adult', 'Fiction', 'Fantasy...</td>\n",
       "      <td>19</td>\n",
       "    </tr>\n",
       "    <tr>\n",
       "      <th>191</th>\n",
       "      <td>Harry Potter and the Chamber of Secrets</td>\n",
       "      <td>J.K. Rowling</td>\n",
       "      <td>['Fantasy', 'Young Adult', 'Fiction', 'Fantasy...</td>\n",
       "      <td>19</td>\n",
       "    </tr>\n",
       "    <tr>\n",
       "      <th>785</th>\n",
       "      <td>Harry Potter and the Goblet of Fire</td>\n",
       "      <td>J.K. Rowling</td>\n",
       "      <td>['Fantasy', 'Young Adult', 'Fiction', 'Fantasy...</td>\n",
       "      <td>19</td>\n",
       "    </tr>\n",
       "    <tr>\n",
       "      <th>707</th>\n",
       "      <td>Harry Potter and the Prisoner of Azkaban</td>\n",
       "      <td>J.K. Rowling</td>\n",
       "      <td>['Fantasy', 'Young Adult', 'Fiction', 'Fantasy...</td>\n",
       "      <td>19</td>\n",
       "    </tr>\n",
       "  </tbody>\n",
       "</table>\n",
       "</div>"
      ],
      "text/plain": [
       "                                    book_title        author  \\\n",
       "943                Harry Potter Series Box Set  J.K. Rowling   \n",
       "0       Harry Potter and the Half-Blood Prince  J.K. Rowling   \n",
       "443      Harry Potter and the Sorcerer's Stone  J.K. Rowling   \n",
       "301  Harry Potter and the Order of the Phoenix  J.K. Rowling   \n",
       "137       Harry Potter and the Deathly Hallows  J.K. Rowling   \n",
       "191    Harry Potter and the Chamber of Secrets  J.K. Rowling   \n",
       "785        Harry Potter and the Goblet of Fire  J.K. Rowling   \n",
       "707   Harry Potter and the Prisoner of Azkaban  J.K. Rowling   \n",
       "\n",
       "                                                genres  Label  \n",
       "943  ['Fantasy', 'Young Adult', 'Fiction', 'Childre...     19  \n",
       "0    ['Fantasy', 'Young Adult', 'Fiction', 'Fantasy...     19  \n",
       "443  ['Fantasy', 'Fiction', 'Young Adult', 'Fantasy...     19  \n",
       "301  ['Fantasy', 'Young Adult', 'Fiction', 'Fantasy...     19  \n",
       "137  ['Fantasy', 'Young Adult', 'Fiction', 'Fantasy...     19  \n",
       "191  ['Fantasy', 'Young Adult', 'Fiction', 'Fantasy...     19  \n",
       "785  ['Fantasy', 'Young Adult', 'Fiction', 'Fantasy...     19  \n",
       "707  ['Fantasy', 'Young Adult', 'Fiction', 'Fantasy...     19  "
      ]
     },
     "execution_count": 198,
     "metadata": {},
     "output_type": "execute_result"
    }
   ],
   "source": [
    "booklabel1[booklabel1['book_title'].str.contains('harry potter',case=False)]"
   ]
  },
  {
   "cell_type": "code",
   "execution_count": 196,
   "id": "unnecessary-martial",
   "metadata": {},
   "outputs": [
    {
     "data": {
      "text/html": [
       "<div>\n",
       "<style scoped>\n",
       "    .dataframe tbody tr th:only-of-type {\n",
       "        vertical-align: middle;\n",
       "    }\n",
       "\n",
       "    .dataframe tbody tr th {\n",
       "        vertical-align: top;\n",
       "    }\n",
       "\n",
       "    .dataframe thead th {\n",
       "        text-align: right;\n",
       "    }\n",
       "</style>\n",
       "<table border=\"1\" class=\"dataframe\">\n",
       "  <thead>\n",
       "    <tr style=\"text-align: right;\">\n",
       "      <th></th>\n",
       "      <th>book_title</th>\n",
       "      <th>author</th>\n",
       "      <th>genres</th>\n",
       "      <th>Label</th>\n",
       "    </tr>\n",
       "  </thead>\n",
       "  <tbody>\n",
       "    <tr>\n",
       "      <th>915</th>\n",
       "      <td>The Bad Beginning</td>\n",
       "      <td>Lemony Snicket</td>\n",
       "      <td>['Fiction', 'Young Adult', 'Childrens', 'Fanta...</td>\n",
       "      <td>19</td>\n",
       "    </tr>\n",
       "    <tr>\n",
       "      <th>837</th>\n",
       "      <td>James and the Giant Peach</td>\n",
       "      <td>Roald Dahl</td>\n",
       "      <td>['Childrens', 'Fantasy', 'Fiction', 'Classics'...</td>\n",
       "      <td>19</td>\n",
       "    </tr>\n",
       "    <tr>\n",
       "      <th>936</th>\n",
       "      <td>The Last Battle</td>\n",
       "      <td>C.S. Lewis</td>\n",
       "      <td>['Fantasy', 'Fiction', 'Classics', 'Young Adul...</td>\n",
       "      <td>19</td>\n",
       "    </tr>\n",
       "    <tr>\n",
       "      <th>995</th>\n",
       "      <td>Winnie-the-Pooh</td>\n",
       "      <td>A.A. Milne</td>\n",
       "      <td>['Classics', 'Childrens', 'Fiction', 'Fantasy'...</td>\n",
       "      <td>19</td>\n",
       "    </tr>\n",
       "    <tr>\n",
       "      <th>829</th>\n",
       "      <td>The Magician's Nephew</td>\n",
       "      <td>C.S. Lewis</td>\n",
       "      <td>['Fantasy', 'Classics', 'Fiction', 'Young Adul...</td>\n",
       "      <td>19</td>\n",
       "    </tr>\n",
       "    <tr>\n",
       "      <th>924</th>\n",
       "      <td>Redwall</td>\n",
       "      <td>Brian Jacques</td>\n",
       "      <td>['Fantasy', 'Fiction', 'Young Adult', 'Childre...</td>\n",
       "      <td>19</td>\n",
       "    </tr>\n",
       "    <tr>\n",
       "      <th>888</th>\n",
       "      <td>Watership Down</td>\n",
       "      <td>Richard Adams</td>\n",
       "      <td>['Classics', 'Fiction', 'Fantasy', 'Young Adul...</td>\n",
       "      <td>19</td>\n",
       "    </tr>\n",
       "    <tr>\n",
       "      <th>889</th>\n",
       "      <td>Inheritance</td>\n",
       "      <td>Christopher Paolini</td>\n",
       "      <td>['Fiction', 'Young Adult', 'Adventure', 'Fanta...</td>\n",
       "      <td>19</td>\n",
       "    </tr>\n",
       "    <tr>\n",
       "      <th>943</th>\n",
       "      <td>Harry Potter Series Box Set</td>\n",
       "      <td>J.K. Rowling</td>\n",
       "      <td>['Fantasy', 'Young Adult', 'Fiction', 'Childre...</td>\n",
       "      <td>19</td>\n",
       "    </tr>\n",
       "    <tr>\n",
       "      <th>934</th>\n",
       "      <td>The Horse and His Boy</td>\n",
       "      <td>C.S. Lewis</td>\n",
       "      <td>['Fantasy', 'Classics', 'Fiction', 'Young Adul...</td>\n",
       "      <td>19</td>\n",
       "    </tr>\n",
       "    <tr>\n",
       "      <th>830</th>\n",
       "      <td>The Silver Chair</td>\n",
       "      <td>C.S. Lewis</td>\n",
       "      <td>['Fantasy', 'Fiction', 'Classics', 'Young Adul...</td>\n",
       "      <td>19</td>\n",
       "    </tr>\n",
       "    <tr>\n",
       "      <th>0</th>\n",
       "      <td>Harry Potter and the Half-Blood Prince</td>\n",
       "      <td>J.K. Rowling</td>\n",
       "      <td>['Fantasy', 'Young Adult', 'Fiction', 'Fantasy...</td>\n",
       "      <td>19</td>\n",
       "    </tr>\n",
       "    <tr>\n",
       "      <th>809</th>\n",
       "      <td>The BFG</td>\n",
       "      <td>Roald Dahl</td>\n",
       "      <td>['Fantasy', 'Childrens', 'Fiction', 'Classics'...</td>\n",
       "      <td>19</td>\n",
       "    </tr>\n",
       "    <tr>\n",
       "      <th>360</th>\n",
       "      <td>Alice's Adventures in Wonderland / Through the...</td>\n",
       "      <td>Lewis Carroll</td>\n",
       "      <td>['Classics', 'Fantasy', 'Fiction', 'Childrens'...</td>\n",
       "      <td>19</td>\n",
       "    </tr>\n",
       "    <tr>\n",
       "      <th>408</th>\n",
       "      <td>The Neverending Story</td>\n",
       "      <td>Michael Ende</td>\n",
       "      <td>['Fantasy', 'Classics', 'Fiction', 'Young Adul...</td>\n",
       "      <td>19</td>\n",
       "    </tr>\n",
       "    <tr>\n",
       "      <th>416</th>\n",
       "      <td>Inkheart</td>\n",
       "      <td>Cornelia Funke</td>\n",
       "      <td>['Fantasy', 'Young Adult', 'Fiction', 'Childre...</td>\n",
       "      <td>19</td>\n",
       "    </tr>\n",
       "    <tr>\n",
       "      <th>812</th>\n",
       "      <td>The Witches</td>\n",
       "      <td>Roald Dahl</td>\n",
       "      <td>['Childrens', 'Classics', 'Young Adult', 'Humo...</td>\n",
       "      <td>19</td>\n",
       "    </tr>\n",
       "    <tr>\n",
       "      <th>431</th>\n",
       "      <td>Treasure Island</td>\n",
       "      <td>Robert Louis Stevenson</td>\n",
       "      <td>['Classics', 'Fiction', 'Adventure', 'Young Ad...</td>\n",
       "      <td>19</td>\n",
       "    </tr>\n",
       "    <tr>\n",
       "      <th>443</th>\n",
       "      <td>Harry Potter and the Sorcerer's Stone</td>\n",
       "      <td>J.K. Rowling</td>\n",
       "      <td>['Fantasy', 'Fiction', 'Young Adult', 'Fantasy...</td>\n",
       "      <td>19</td>\n",
       "    </tr>\n",
       "    <tr>\n",
       "      <th>348</th>\n",
       "      <td>The Wonderful Wizard of Oz</td>\n",
       "      <td>L. Frank Baum</td>\n",
       "      <td>['Classics', 'Fantasy', 'Fiction', 'Childrens'...</td>\n",
       "      <td>19</td>\n",
       "    </tr>\n",
       "    <tr>\n",
       "      <th>455</th>\n",
       "      <td>Brainwalker</td>\n",
       "      <td>Robyn Mundell</td>\n",
       "      <td>['Fantasy', 'Young Adult', 'Childrens', 'Child...</td>\n",
       "      <td>19</td>\n",
       "    </tr>\n",
       "    <tr>\n",
       "      <th>510</th>\n",
       "      <td>Peter Pan</td>\n",
       "      <td>J.M. Barrie</td>\n",
       "      <td>['Classics', 'Fantasy', 'Fiction', 'Childrens'...</td>\n",
       "      <td>19</td>\n",
       "    </tr>\n",
       "    <tr>\n",
       "      <th>517</th>\n",
       "      <td>Hogfather</td>\n",
       "      <td>Terry Pratchett</td>\n",
       "      <td>['Fantasy', 'Fiction', 'Humor', 'Humor &gt; Comed...</td>\n",
       "      <td>19</td>\n",
       "    </tr>\n",
       "    <tr>\n",
       "      <th>564</th>\n",
       "      <td>The Phantom Tollbooth</td>\n",
       "      <td>Norton Juster</td>\n",
       "      <td>['Fantasy', 'Fiction', 'Childrens', 'Classics'...</td>\n",
       "      <td>19</td>\n",
       "    </tr>\n",
       "    <tr>\n",
       "      <th>582</th>\n",
       "      <td>The Tales of Beedle the Bard</td>\n",
       "      <td>J.K. Rowling</td>\n",
       "      <td>['Fantasy', 'Fiction', 'Young Adult', 'Short S...</td>\n",
       "      <td>19</td>\n",
       "    </tr>\n",
       "    <tr>\n",
       "      <th>590</th>\n",
       "      <td>Matilda</td>\n",
       "      <td>Roald Dahl</td>\n",
       "      <td>['Childrens', 'Fiction', 'Classics', 'Fantasy'...</td>\n",
       "      <td>19</td>\n",
       "    </tr>\n",
       "    <tr>\n",
       "      <th>604</th>\n",
       "      <td>The Mysterious Benedict Society</td>\n",
       "      <td>Trenton Lee Stewart</td>\n",
       "      <td>['Mystery', 'Fiction', 'Young Adult', 'Childre...</td>\n",
       "      <td>19</td>\n",
       "    </tr>\n",
       "    <tr>\n",
       "      <th>500</th>\n",
       "      <td>A Wrinkle in Time</td>\n",
       "      <td>Madeleine L'Engle</td>\n",
       "      <td>['Fantasy', 'Fiction', 'Classics', 'Young Adul...</td>\n",
       "      <td>19</td>\n",
       "    </tr>\n",
       "    <tr>\n",
       "      <th>629</th>\n",
       "      <td>The Subtle Knife</td>\n",
       "      <td>Philip Pullman</td>\n",
       "      <td>['Fantasy', 'Young Adult', 'Fiction', 'Childre...</td>\n",
       "      <td>19</td>\n",
       "    </tr>\n",
       "    <tr>\n",
       "      <th>325</th>\n",
       "      <td>The Graveyard Book</td>\n",
       "      <td>Neil Gaiman</td>\n",
       "      <td>['Fantasy', 'Young Adult', 'Fiction', 'Horror'...</td>\n",
       "      <td>19</td>\n",
       "    </tr>\n",
       "    <tr>\n",
       "      <th>301</th>\n",
       "      <td>Harry Potter and the Order of the Phoenix</td>\n",
       "      <td>J.K. Rowling</td>\n",
       "      <td>['Fantasy', 'Young Adult', 'Fiction', 'Fantasy...</td>\n",
       "      <td>19</td>\n",
       "    </tr>\n",
       "    <tr>\n",
       "      <th>2</th>\n",
       "      <td>The Lion, the Witch and the Wardrobe</td>\n",
       "      <td>C.S. Lewis</td>\n",
       "      <td>['Fantasy', 'Classics', 'Fiction', 'Young Adul...</td>\n",
       "      <td>19</td>\n",
       "    </tr>\n",
       "    <tr>\n",
       "      <th>42</th>\n",
       "      <td>The Chronicles of Narnia</td>\n",
       "      <td>C.S. Lewis</td>\n",
       "      <td>['Fantasy', 'Classics', 'Fiction', 'Young Adul...</td>\n",
       "      <td>19</td>\n",
       "    </tr>\n",
       "    <tr>\n",
       "      <th>43</th>\n",
       "      <td>Into the Wild</td>\n",
       "      <td>Erin Hunter</td>\n",
       "      <td>['Fantasy', 'Animals', 'Fiction', 'Childrens &gt;...</td>\n",
       "      <td>19</td>\n",
       "    </tr>\n",
       "    <tr>\n",
       "      <th>74</th>\n",
       "      <td>The Golden Compass</td>\n",
       "      <td>Philip Pullman</td>\n",
       "      <td>['Fantasy', 'Young Adult', 'Fiction', 'Childre...</td>\n",
       "      <td>19</td>\n",
       "    </tr>\n",
       "    <tr>\n",
       "      <th>83</th>\n",
       "      <td>Prince Caspian</td>\n",
       "      <td>C.S. Lewis</td>\n",
       "      <td>['Fantasy', 'Fiction', 'Classics', 'Young Adul...</td>\n",
       "      <td>19</td>\n",
       "    </tr>\n",
       "    <tr>\n",
       "      <th>110</th>\n",
       "      <td>Alice in Wonderland</td>\n",
       "      <td>Jane Carruth</td>\n",
       "      <td>['Classics', 'Fantasy', 'Fiction', 'Childrens'...</td>\n",
       "      <td>19</td>\n",
       "    </tr>\n",
       "    <tr>\n",
       "      <th>318</th>\n",
       "      <td>The Princess Bride</td>\n",
       "      <td>William Goldman</td>\n",
       "      <td>['Fantasy', 'Fiction', 'Classics', 'Romance', ...</td>\n",
       "      <td>19</td>\n",
       "    </tr>\n",
       "    <tr>\n",
       "      <th>137</th>\n",
       "      <td>Harry Potter and the Deathly Hallows</td>\n",
       "      <td>J.K. Rowling</td>\n",
       "      <td>['Fantasy', 'Young Adult', 'Fiction', 'Fantasy...</td>\n",
       "      <td>19</td>\n",
       "    </tr>\n",
       "    <tr>\n",
       "      <th>173</th>\n",
       "      <td>Mary Poppins</td>\n",
       "      <td>P.L. Travers</td>\n",
       "      <td>['Classics', 'Fantasy', 'Childrens', 'Fiction'...</td>\n",
       "      <td>19</td>\n",
       "    </tr>\n",
       "    <tr>\n",
       "      <th>191</th>\n",
       "      <td>Harry Potter and the Chamber of Secrets</td>\n",
       "      <td>J.K. Rowling</td>\n",
       "      <td>['Fantasy', 'Young Adult', 'Fiction', 'Fantasy...</td>\n",
       "      <td>19</td>\n",
       "    </tr>\n",
       "    <tr>\n",
       "      <th>225</th>\n",
       "      <td>Coraline</td>\n",
       "      <td>Neil Gaiman</td>\n",
       "      <td>['Fantasy', 'Horror', 'Fiction', 'Young Adult'...</td>\n",
       "      <td>19</td>\n",
       "    </tr>\n",
       "    <tr>\n",
       "      <th>252</th>\n",
       "      <td>His Dark Materials</td>\n",
       "      <td>Philip Pullman</td>\n",
       "      <td>['Fantasy', 'Young Adult', 'Fiction', 'Childre...</td>\n",
       "      <td>19</td>\n",
       "    </tr>\n",
       "    <tr>\n",
       "      <th>253</th>\n",
       "      <td>The Amber Spyglass</td>\n",
       "      <td>Philip Pullman</td>\n",
       "      <td>['Fantasy', 'Young Adult', 'Fiction', 'Childre...</td>\n",
       "      <td>19</td>\n",
       "    </tr>\n",
       "    <tr>\n",
       "      <th>289</th>\n",
       "      <td>Pippi Longstocking</td>\n",
       "      <td>Astrid Lindgren</td>\n",
       "      <td>['Classics', 'Childrens', 'Fiction', 'Children...</td>\n",
       "      <td>19</td>\n",
       "    </tr>\n",
       "    <tr>\n",
       "      <th>151</th>\n",
       "      <td>The Voyage of the Dawn Treader</td>\n",
       "      <td>C.S. Lewis</td>\n",
       "      <td>['Fantasy', 'Classics', 'Fiction', 'Young Adul...</td>\n",
       "      <td>19</td>\n",
       "    </tr>\n",
       "    <tr>\n",
       "      <th>631</th>\n",
       "      <td>The Jungle Books</td>\n",
       "      <td>Rudyard Kipling</td>\n",
       "      <td>['Classics', 'Fiction', 'Childrens', 'Fantasy'...</td>\n",
       "      <td>19</td>\n",
       "    </tr>\n",
       "    <tr>\n",
       "      <th>428</th>\n",
       "      <td>The Last Unicorn</td>\n",
       "      <td>Peter S. Beagle</td>\n",
       "      <td>['Fantasy', 'Classics', 'Fiction', 'Young Adul...</td>\n",
       "      <td>19</td>\n",
       "    </tr>\n",
       "    <tr>\n",
       "      <th>658</th>\n",
       "      <td>Fablehaven</td>\n",
       "      <td>Brandon Mull</td>\n",
       "      <td>['Fantasy', 'Young Adult', 'Childrens &gt; Middle...</td>\n",
       "      <td>19</td>\n",
       "    </tr>\n",
       "    <tr>\n",
       "      <th>808</th>\n",
       "      <td>Charlie and the Chocolate Factory</td>\n",
       "      <td>Roald Dahl</td>\n",
       "      <td>['Childrens', 'Fiction', 'Fantasy', 'Classics'...</td>\n",
       "      <td>19</td>\n",
       "    </tr>\n",
       "    <tr>\n",
       "      <th>805</th>\n",
       "      <td>Howl’s Moving Castle</td>\n",
       "      <td>Diana Wynne Jones</td>\n",
       "      <td>['Young Adult', 'Childrens &gt; Middle Grade', 'F...</td>\n",
       "      <td>19</td>\n",
       "    </tr>\n",
       "    <tr>\n",
       "      <th>768</th>\n",
       "      <td>The Wind in the Willows</td>\n",
       "      <td>Kenneth Grahame</td>\n",
       "      <td>['Classics', 'Fiction', 'Childrens', 'Fantasy'...</td>\n",
       "      <td>19</td>\n",
       "    </tr>\n",
       "    <tr>\n",
       "      <th>647</th>\n",
       "      <td>The Once and Future King</td>\n",
       "      <td>T.H. White</td>\n",
       "      <td>['Fantasy', 'Classics', 'Fiction', 'Historical...</td>\n",
       "      <td>19</td>\n",
       "    </tr>\n",
       "    <tr>\n",
       "      <th>785</th>\n",
       "      <td>Harry Potter and the Goblet of Fire</td>\n",
       "      <td>J.K. Rowling</td>\n",
       "      <td>['Fantasy', 'Young Adult', 'Fiction', 'Fantasy...</td>\n",
       "      <td>19</td>\n",
       "    </tr>\n",
       "    <tr>\n",
       "      <th>707</th>\n",
       "      <td>Harry Potter and the Prisoner of Azkaban</td>\n",
       "      <td>J.K. Rowling</td>\n",
       "      <td>['Fantasy', 'Young Adult', 'Fiction', 'Fantasy...</td>\n",
       "      <td>19</td>\n",
       "    </tr>\n",
       "  </tbody>\n",
       "</table>\n",
       "</div>"
      ],
      "text/plain": [
       "                                            book_title  \\\n",
       "915                                  The Bad Beginning   \n",
       "837                          James and the Giant Peach   \n",
       "936                                    The Last Battle   \n",
       "995                                    Winnie-the-Pooh   \n",
       "829                              The Magician's Nephew   \n",
       "924                                            Redwall   \n",
       "888                                     Watership Down   \n",
       "889                                        Inheritance   \n",
       "943                        Harry Potter Series Box Set   \n",
       "934                              The Horse and His Boy   \n",
       "830                                   The Silver Chair   \n",
       "0               Harry Potter and the Half-Blood Prince   \n",
       "809                                            The BFG   \n",
       "360  Alice's Adventures in Wonderland / Through the...   \n",
       "408                              The Neverending Story   \n",
       "416                                           Inkheart   \n",
       "812                                        The Witches   \n",
       "431                                    Treasure Island   \n",
       "443              Harry Potter and the Sorcerer's Stone   \n",
       "348                         The Wonderful Wizard of Oz   \n",
       "455                                        Brainwalker   \n",
       "510                                          Peter Pan   \n",
       "517                                          Hogfather   \n",
       "564                              The Phantom Tollbooth   \n",
       "582                       The Tales of Beedle the Bard   \n",
       "590                                            Matilda   \n",
       "604                    The Mysterious Benedict Society   \n",
       "500                                  A Wrinkle in Time   \n",
       "629                                   The Subtle Knife   \n",
       "325                                 The Graveyard Book   \n",
       "301          Harry Potter and the Order of the Phoenix   \n",
       "2                 The Lion, the Witch and the Wardrobe   \n",
       "42                            The Chronicles of Narnia   \n",
       "43                                       Into the Wild   \n",
       "74                                  The Golden Compass   \n",
       "83                                      Prince Caspian   \n",
       "110                                Alice in Wonderland   \n",
       "318                                 The Princess Bride   \n",
       "137               Harry Potter and the Deathly Hallows   \n",
       "173                                       Mary Poppins   \n",
       "191            Harry Potter and the Chamber of Secrets   \n",
       "225                                           Coraline   \n",
       "252                                 His Dark Materials   \n",
       "253                                 The Amber Spyglass   \n",
       "289                                 Pippi Longstocking   \n",
       "151                     The Voyage of the Dawn Treader   \n",
       "631                                   The Jungle Books   \n",
       "428                                   The Last Unicorn   \n",
       "658                                         Fablehaven   \n",
       "808                  Charlie and the Chocolate Factory   \n",
       "805                               Howl’s Moving Castle   \n",
       "768                            The Wind in the Willows   \n",
       "647                           The Once and Future King   \n",
       "785                Harry Potter and the Goblet of Fire   \n",
       "707           Harry Potter and the Prisoner of Azkaban   \n",
       "\n",
       "                     author  \\\n",
       "915          Lemony Snicket   \n",
       "837              Roald Dahl   \n",
       "936              C.S. Lewis   \n",
       "995              A.A. Milne   \n",
       "829              C.S. Lewis   \n",
       "924           Brian Jacques   \n",
       "888           Richard Adams   \n",
       "889     Christopher Paolini   \n",
       "943            J.K. Rowling   \n",
       "934              C.S. Lewis   \n",
       "830              C.S. Lewis   \n",
       "0              J.K. Rowling   \n",
       "809              Roald Dahl   \n",
       "360           Lewis Carroll   \n",
       "408            Michael Ende   \n",
       "416          Cornelia Funke   \n",
       "812              Roald Dahl   \n",
       "431  Robert Louis Stevenson   \n",
       "443            J.K. Rowling   \n",
       "348           L. Frank Baum   \n",
       "455           Robyn Mundell   \n",
       "510             J.M. Barrie   \n",
       "517         Terry Pratchett   \n",
       "564           Norton Juster   \n",
       "582            J.K. Rowling   \n",
       "590              Roald Dahl   \n",
       "604     Trenton Lee Stewart   \n",
       "500       Madeleine L'Engle   \n",
       "629          Philip Pullman   \n",
       "325             Neil Gaiman   \n",
       "301            J.K. Rowling   \n",
       "2                C.S. Lewis   \n",
       "42               C.S. Lewis   \n",
       "43              Erin Hunter   \n",
       "74           Philip Pullman   \n",
       "83               C.S. Lewis   \n",
       "110            Jane Carruth   \n",
       "318         William Goldman   \n",
       "137            J.K. Rowling   \n",
       "173            P.L. Travers   \n",
       "191            J.K. Rowling   \n",
       "225             Neil Gaiman   \n",
       "252          Philip Pullman   \n",
       "253          Philip Pullman   \n",
       "289         Astrid Lindgren   \n",
       "151              C.S. Lewis   \n",
       "631         Rudyard Kipling   \n",
       "428         Peter S. Beagle   \n",
       "658            Brandon Mull   \n",
       "808              Roald Dahl   \n",
       "805       Diana Wynne Jones   \n",
       "768         Kenneth Grahame   \n",
       "647              T.H. White   \n",
       "785            J.K. Rowling   \n",
       "707            J.K. Rowling   \n",
       "\n",
       "                                                genres  Label  \n",
       "915  ['Fiction', 'Young Adult', 'Childrens', 'Fanta...     19  \n",
       "837  ['Childrens', 'Fantasy', 'Fiction', 'Classics'...     19  \n",
       "936  ['Fantasy', 'Fiction', 'Classics', 'Young Adul...     19  \n",
       "995  ['Classics', 'Childrens', 'Fiction', 'Fantasy'...     19  \n",
       "829  ['Fantasy', 'Classics', 'Fiction', 'Young Adul...     19  \n",
       "924  ['Fantasy', 'Fiction', 'Young Adult', 'Childre...     19  \n",
       "888  ['Classics', 'Fiction', 'Fantasy', 'Young Adul...     19  \n",
       "889  ['Fiction', 'Young Adult', 'Adventure', 'Fanta...     19  \n",
       "943  ['Fantasy', 'Young Adult', 'Fiction', 'Childre...     19  \n",
       "934  ['Fantasy', 'Classics', 'Fiction', 'Young Adul...     19  \n",
       "830  ['Fantasy', 'Fiction', 'Classics', 'Young Adul...     19  \n",
       "0    ['Fantasy', 'Young Adult', 'Fiction', 'Fantasy...     19  \n",
       "809  ['Fantasy', 'Childrens', 'Fiction', 'Classics'...     19  \n",
       "360  ['Classics', 'Fantasy', 'Fiction', 'Childrens'...     19  \n",
       "408  ['Fantasy', 'Classics', 'Fiction', 'Young Adul...     19  \n",
       "416  ['Fantasy', 'Young Adult', 'Fiction', 'Childre...     19  \n",
       "812  ['Childrens', 'Classics', 'Young Adult', 'Humo...     19  \n",
       "431  ['Classics', 'Fiction', 'Adventure', 'Young Ad...     19  \n",
       "443  ['Fantasy', 'Fiction', 'Young Adult', 'Fantasy...     19  \n",
       "348  ['Classics', 'Fantasy', 'Fiction', 'Childrens'...     19  \n",
       "455  ['Fantasy', 'Young Adult', 'Childrens', 'Child...     19  \n",
       "510  ['Classics', 'Fantasy', 'Fiction', 'Childrens'...     19  \n",
       "517  ['Fantasy', 'Fiction', 'Humor', 'Humor > Comed...     19  \n",
       "564  ['Fantasy', 'Fiction', 'Childrens', 'Classics'...     19  \n",
       "582  ['Fantasy', 'Fiction', 'Young Adult', 'Short S...     19  \n",
       "590  ['Childrens', 'Fiction', 'Classics', 'Fantasy'...     19  \n",
       "604  ['Mystery', 'Fiction', 'Young Adult', 'Childre...     19  \n",
       "500  ['Fantasy', 'Fiction', 'Classics', 'Young Adul...     19  \n",
       "629  ['Fantasy', 'Young Adult', 'Fiction', 'Childre...     19  \n",
       "325  ['Fantasy', 'Young Adult', 'Fiction', 'Horror'...     19  \n",
       "301  ['Fantasy', 'Young Adult', 'Fiction', 'Fantasy...     19  \n",
       "2    ['Fantasy', 'Classics', 'Fiction', 'Young Adul...     19  \n",
       "42   ['Fantasy', 'Classics', 'Fiction', 'Young Adul...     19  \n",
       "43   ['Fantasy', 'Animals', 'Fiction', 'Childrens >...     19  \n",
       "74   ['Fantasy', 'Young Adult', 'Fiction', 'Childre...     19  \n",
       "83   ['Fantasy', 'Fiction', 'Classics', 'Young Adul...     19  \n",
       "110  ['Classics', 'Fantasy', 'Fiction', 'Childrens'...     19  \n",
       "318  ['Fantasy', 'Fiction', 'Classics', 'Romance', ...     19  \n",
       "137  ['Fantasy', 'Young Adult', 'Fiction', 'Fantasy...     19  \n",
       "173  ['Classics', 'Fantasy', 'Childrens', 'Fiction'...     19  \n",
       "191  ['Fantasy', 'Young Adult', 'Fiction', 'Fantasy...     19  \n",
       "225  ['Fantasy', 'Horror', 'Fiction', 'Young Adult'...     19  \n",
       "252  ['Fantasy', 'Young Adult', 'Fiction', 'Childre...     19  \n",
       "253  ['Fantasy', 'Young Adult', 'Fiction', 'Childre...     19  \n",
       "289  ['Classics', 'Childrens', 'Fiction', 'Children...     19  \n",
       "151  ['Fantasy', 'Classics', 'Fiction', 'Young Adul...     19  \n",
       "631  ['Classics', 'Fiction', 'Childrens', 'Fantasy'...     19  \n",
       "428  ['Fantasy', 'Classics', 'Fiction', 'Young Adul...     19  \n",
       "658  ['Fantasy', 'Young Adult', 'Childrens > Middle...     19  \n",
       "808  ['Childrens', 'Fiction', 'Fantasy', 'Classics'...     19  \n",
       "805  ['Young Adult', 'Childrens > Middle Grade', 'F...     19  \n",
       "768  ['Classics', 'Fiction', 'Childrens', 'Fantasy'...     19  \n",
       "647  ['Fantasy', 'Classics', 'Fiction', 'Historical...     19  \n",
       "785  ['Fantasy', 'Young Adult', 'Fiction', 'Fantasy...     19  \n",
       "707  ['Fantasy', 'Young Adult', 'Fiction', 'Fantasy...     19  "
      ]
     },
     "execution_count": 196,
     "metadata": {},
     "output_type": "execute_result"
    }
   ],
   "source": [
    "booklabel1[booklabel1['Label'] == 19]"
   ]
  },
  {
   "cell_type": "code",
   "execution_count": 177,
   "id": "bizarre-transcript",
   "metadata": {},
   "outputs": [
    {
     "data": {
      "text/plain": [
       "0       5.0\n",
       "1      17.0\n",
       "2      10.0\n",
       "3      15.0\n",
       "4       0.0\n",
       "       ... \n",
       "995     NaN\n",
       "996     NaN\n",
       "997     NaN\n",
       "998     NaN\n",
       "999     NaN\n",
       "Name: Label, Length: 1000, dtype: float64"
      ]
     },
     "execution_count": 177,
     "metadata": {},
     "output_type": "execute_result"
    }
   ],
   "source": [
    "booklabel['Label']"
   ]
  },
  {
   "cell_type": "code",
   "execution_count": null,
   "id": "searching-hydrogen",
   "metadata": {},
   "outputs": [],
   "source": [
    "for label in set"
   ]
  },
  {
   "cell_type": "code",
   "execution_count": 173,
   "id": "requested-electricity",
   "metadata": {},
   "outputs": [],
   "source": [
    "from sklearn.cluster import DBSCAN"
   ]
  },
  {
   "cell_type": "code",
   "execution_count": 174,
   "id": "leading-township",
   "metadata": {},
   "outputs": [],
   "source": [
    "db = DBSCAN(eps=0.7,min_samples=3)"
   ]
  },
  {
   "cell_type": "code",
   "execution_count": 175,
   "id": "normal-machine",
   "metadata": {},
   "outputs": [
    {
     "data": {
      "text/plain": [
       "DBSCAN(eps=0.7, min_samples=3)"
      ]
     },
     "execution_count": 175,
     "metadata": {},
     "output_type": "execute_result"
    }
   ],
   "source": [
    "db.fit(X,y)"
   ]
  },
  {
   "cell_type": "code",
   "execution_count": 176,
   "id": "successful-custody",
   "metadata": {},
   "outputs": [
    {
     "data": {
      "text/plain": [
       "{-1,\n",
       " 0,\n",
       " 1,\n",
       " 2,\n",
       " 3,\n",
       " 4,\n",
       " 5,\n",
       " 6,\n",
       " 7,\n",
       " 8,\n",
       " 9,\n",
       " 10,\n",
       " 11,\n",
       " 12,\n",
       " 13,\n",
       " 14,\n",
       " 15,\n",
       " 16,\n",
       " 17,\n",
       " 18,\n",
       " 19,\n",
       " 20,\n",
       " 21,\n",
       " 22,\n",
       " 23,\n",
       " 24}"
      ]
     },
     "execution_count": 176,
     "metadata": {},
     "output_type": "execute_result"
    }
   ],
   "source": [
    "set(db.labels_)"
   ]
  },
  {
   "cell_type": "code",
   "execution_count": null,
   "id": "sealed-aurora",
   "metadata": {},
   "outputs": [],
   "source": [
    "db."
   ]
  },
  {
   "cell_type": "code",
   "execution_count": 199,
   "id": "accepting-pound",
   "metadata": {},
   "outputs": [],
   "source": [
    "# create the labels using KMeans, after that, make a wordcloud of each label and the books that belong to that label\n",
    "# use the page number for regression, but not for clustering"
   ]
  },
  {
   "cell_type": "code",
   "execution_count": null,
   "id": "enclosed-recycling",
   "metadata": {},
   "outputs": [],
   "source": []
  }
 ],
 "metadata": {
  "kernelspec": {
   "display_name": "booksenv",
   "language": "python",
   "name": "booksenv"
  },
  "language_info": {
   "codemirror_mode": {
    "name": "ipython",
    "version": 3
   },
   "file_extension": ".py",
   "mimetype": "text/x-python",
   "name": "python",
   "nbconvert_exporter": "python",
   "pygments_lexer": "ipython3",
   "version": "3.7.11"
  }
 },
 "nbformat": 4,
 "nbformat_minor": 5
}
