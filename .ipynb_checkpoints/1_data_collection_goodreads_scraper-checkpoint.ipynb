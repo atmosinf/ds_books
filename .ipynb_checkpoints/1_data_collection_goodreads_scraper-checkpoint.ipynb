{
 "cells": [
  {
   "cell_type": "code",
   "execution_count": 5,
   "id": "three-civilization",
   "metadata": {},
   "outputs": [],
   "source": [
    "import numpy as np\n",
    "import pandas as pd\n",
    "from bs4 import BeautifulSoup\n",
    "import requests"
   ]
  },
  {
   "cell_type": "code",
   "execution_count": 6,
   "id": "extreme-antigua",
   "metadata": {},
   "outputs": [],
   "source": [
    "def getbooktitlesids(baseurl,firstpage,maxpage):\n",
    "    booktitlesfinal,idsfinal = [],[]\n",
    "    for page in range(firstpage,maxpage+1):\n",
    "        res = requests.get('{}?page={}'.format(baseurl,page)).text\n",
    "        soup = BeautifulSoup(res,'html5lib')\n",
    "        tab = soup.find('table').find_all(class_ = 'bookTitle')\n",
    "        booktitles = [span.get_text() for span in tab]\n",
    "        booktitles = [title.replace('\\n','').strip() for title in booktitles]\n",
    "        ids = [row['href'] for row in tab]\n",
    "        ids = [id.split('/')[-1] for id in ids]\n",
    "        booktitlesfinal = booktitlesfinal + booktitles\n",
    "        idsfinal = idsfinal + ids\n",
    "    booksdf = pd.DataFrame(list(zip(booktitlesfinal,idsfinal)))\n",
    "    return booksdf"
   ]
  },
  {
   "cell_type": "code",
   "execution_count": 7,
   "id": "convertible-bennett",
   "metadata": {},
   "outputs": [],
   "source": [
    "books = getbooktitlesids('https://www.goodreads.com/list/show/1.Best_Books_Ever',1,100)"
   ]
  },
  {
   "cell_type": "code",
   "execution_count": 207,
   "id": "average-chain",
   "metadata": {},
   "outputs": [
    {
     "data": {
      "text/html": [
       "<div>\n",
       "<style scoped>\n",
       "    .dataframe tbody tr th:only-of-type {\n",
       "        vertical-align: middle;\n",
       "    }\n",
       "\n",
       "    .dataframe tbody tr th {\n",
       "        vertical-align: top;\n",
       "    }\n",
       "\n",
       "    .dataframe thead th {\n",
       "        text-align: right;\n",
       "    }\n",
       "</style>\n",
       "<table border=\"1\" class=\"dataframe\">\n",
       "  <thead>\n",
       "    <tr style=\"text-align: right;\">\n",
       "      <th></th>\n",
       "      <th>title</th>\n",
       "      <th>id</th>\n",
       "    </tr>\n",
       "  </thead>\n",
       "  <tbody>\n",
       "    <tr>\n",
       "      <th>0</th>\n",
       "      <td>The Hunger Games (The Hunger Games, #1)</td>\n",
       "      <td>2767052-the-hunger-games</td>\n",
       "    </tr>\n",
       "    <tr>\n",
       "      <th>1</th>\n",
       "      <td>Harry Potter and the Order of the Phoenix (Har...</td>\n",
       "      <td>2.Harry_Potter_and_the_Order_of_the_Phoenix</td>\n",
       "    </tr>\n",
       "    <tr>\n",
       "      <th>2</th>\n",
       "      <td>To Kill a Mockingbird</td>\n",
       "      <td>2657.To_Kill_a_Mockingbird</td>\n",
       "    </tr>\n",
       "    <tr>\n",
       "      <th>3</th>\n",
       "      <td>Pride and Prejudice</td>\n",
       "      <td>1885.Pride_and_Prejudice</td>\n",
       "    </tr>\n",
       "    <tr>\n",
       "      <th>4</th>\n",
       "      <td>Twilight (The Twilight Saga, #1)</td>\n",
       "      <td>41865.Twilight</td>\n",
       "    </tr>\n",
       "    <tr>\n",
       "      <th>...</th>\n",
       "      <td>...</td>\n",
       "      <td>...</td>\n",
       "    </tr>\n",
       "    <tr>\n",
       "      <th>9995</th>\n",
       "      <td>Coexist (Keegan's Chronicles, #1)</td>\n",
       "      <td>17256217-coexist</td>\n",
       "    </tr>\n",
       "    <tr>\n",
       "      <th>9996</th>\n",
       "      <td>The Orphan Queen (The Orphan Queen, #1)</td>\n",
       "      <td>18081228-the-orphan-queen</td>\n",
       "    </tr>\n",
       "    <tr>\n",
       "      <th>9997</th>\n",
       "      <td>The Japanese Lover</td>\n",
       "      <td>25152052-the-japanese-lover</td>\n",
       "    </tr>\n",
       "    <tr>\n",
       "      <th>9998</th>\n",
       "      <td>Two By Two</td>\n",
       "      <td>40669990-two-by-two</td>\n",
       "    </tr>\n",
       "    <tr>\n",
       "      <th>9999</th>\n",
       "      <td>A Quiet Kind of Thunder</td>\n",
       "      <td>30197201-a-quiet-kind-of-thunder</td>\n",
       "    </tr>\n",
       "  </tbody>\n",
       "</table>\n",
       "<p>10000 rows × 2 columns</p>\n",
       "</div>"
      ],
      "text/plain": [
       "                                                  title  \\\n",
       "0               The Hunger Games (The Hunger Games, #1)   \n",
       "1     Harry Potter and the Order of the Phoenix (Har...   \n",
       "2                                 To Kill a Mockingbird   \n",
       "3                                   Pride and Prejudice   \n",
       "4                      Twilight (The Twilight Saga, #1)   \n",
       "...                                                 ...   \n",
       "9995                  Coexist (Keegan's Chronicles, #1)   \n",
       "9996            The Orphan Queen (The Orphan Queen, #1)   \n",
       "9997                                 The Japanese Lover   \n",
       "9998                                         Two By Two   \n",
       "9999                            A Quiet Kind of Thunder   \n",
       "\n",
       "                                               id  \n",
       "0                        2767052-the-hunger-games  \n",
       "1     2.Harry_Potter_and_the_Order_of_the_Phoenix  \n",
       "2                      2657.To_Kill_a_Mockingbird  \n",
       "3                        1885.Pride_and_Prejudice  \n",
       "4                                  41865.Twilight  \n",
       "...                                           ...  \n",
       "9995                             17256217-coexist  \n",
       "9996                    18081228-the-orphan-queen  \n",
       "9997                  25152052-the-japanese-lover  \n",
       "9998                          40669990-two-by-two  \n",
       "9999             30197201-a-quiet-kind-of-thunder  \n",
       "\n",
       "[10000 rows x 2 columns]"
      ]
     },
     "execution_count": 207,
     "metadata": {},
     "output_type": "execute_result"
    }
   ],
   "source": [
    "# booksfinal = pd.DataFrame()\n",
    "booksfinal = pd.concat([booksfinal,books],axis=0)\n",
    "booksfinal.columns=['title','id']\n",
    "booksfinal.reset_index()\n",
    "booksfinal"
   ]
  },
  {
   "cell_type": "code",
   "execution_count": 208,
   "id": "pressing-comedy",
   "metadata": {
    "scrolled": true
   },
   "outputs": [
    {
     "data": {
      "text/plain": [
       "10000"
      ]
     },
     "execution_count": 208,
     "metadata": {},
     "output_type": "execute_result"
    }
   ],
   "source": [
    "booksfinal.shape[0]"
   ]
  },
  {
   "cell_type": "code",
   "execution_count": 209,
   "id": "minus-killer",
   "metadata": {},
   "outputs": [],
   "source": [
    "booksfinal.to_csv('goodreads_bookids.csv')"
   ]
  },
  {
   "cell_type": "code",
   "execution_count": 9,
   "id": "powered-auditor",
   "metadata": {},
   "outputs": [],
   "source": [
    "booksfinal = pd.read_csv('goodreads_bookids.csv').iloc[:,1:]"
   ]
  },
  {
   "cell_type": "code",
   "execution_count": null,
   "id": "raised-james",
   "metadata": {},
   "outputs": [],
   "source": []
  },
  {
   "cell_type": "code",
   "execution_count": null,
   "id": "respective-curtis",
   "metadata": {},
   "outputs": [],
   "source": []
  }
 ],
 "metadata": {
  "kernelspec": {
   "display_name": "booksenv",
   "language": "python",
   "name": "booksenv"
  },
  "language_info": {
   "codemirror_mode": {
    "name": "ipython",
    "version": 3
   },
   "file_extension": ".py",
   "mimetype": "text/x-python",
   "name": "python",
   "nbconvert_exporter": "python",
   "pygments_lexer": "ipython3",
   "version": "3.7.11"
  }
 },
 "nbformat": 4,
 "nbformat_minor": 5
}
