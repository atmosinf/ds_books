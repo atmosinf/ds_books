{
 "cells": [
  {
   "cell_type": "code",
   "execution_count": 41,
   "id": "crucial-lottery",
   "metadata": {},
   "outputs": [],
   "source": [
    "import numpy as np\n",
    "import pandas as pd\n",
    "import matplotlib.pyplot as plt\n",
    "import seaborn as sns\n",
    "import json"
   ]
  },
  {
   "cell_type": "code",
   "execution_count": 3,
   "id": "authentic-genesis",
   "metadata": {},
   "outputs": [],
   "source": [
    "books = pd.read_csv('top100.csv')"
   ]
  },
  {
   "cell_type": "code",
   "execution_count": 4,
   "id": "fitting-festival",
   "metadata": {},
   "outputs": [
    {
     "data": {
      "text/html": [
       "<div>\n",
       "<style scoped>\n",
       "    .dataframe tbody tr th:only-of-type {\n",
       "        vertical-align: middle;\n",
       "    }\n",
       "\n",
       "    .dataframe tbody tr th {\n",
       "        vertical-align: top;\n",
       "    }\n",
       "\n",
       "    .dataframe thead th {\n",
       "        text-align: right;\n",
       "    }\n",
       "</style>\n",
       "<table border=\"1\" class=\"dataframe\">\n",
       "  <thead>\n",
       "    <tr style=\"text-align: right;\">\n",
       "      <th></th>\n",
       "      <th>book_id_title</th>\n",
       "      <th>book_id</th>\n",
       "      <th>book_title</th>\n",
       "      <th>book_series</th>\n",
       "      <th>book_series_uri</th>\n",
       "      <th>isbn</th>\n",
       "      <th>isbn13</th>\n",
       "      <th>year_first_published</th>\n",
       "      <th>author</th>\n",
       "      <th>num_pages</th>\n",
       "      <th>genres</th>\n",
       "      <th>shelves</th>\n",
       "      <th>lists</th>\n",
       "      <th>num_ratings</th>\n",
       "      <th>num_reviews</th>\n",
       "      <th>average_rating</th>\n",
       "      <th>rating_distribution</th>\n",
       "    </tr>\n",
       "  </thead>\n",
       "  <tbody>\n",
       "    <tr>\n",
       "      <th>0</th>\n",
       "      <td>10210.Jane_Eyre</td>\n",
       "      <td>10210</td>\n",
       "      <td>Jane Eyre</td>\n",
       "      <td>NaN</td>\n",
       "      <td>NaN</td>\n",
       "      <td>1551111802</td>\n",
       "      <td>9781551111803</td>\n",
       "      <td>1846.0</td>\n",
       "      <td>Charlotte Brontë</td>\n",
       "      <td>532</td>\n",
       "      <td>['Classics', 'Fiction', 'Romance', 'Historical...</td>\n",
       "      <td>{'to-read': 861870, 'currently-reading': 57625...</td>\n",
       "      <td>{'Best': 197, 'Books': 134, '100': 1603, 'Big'...</td>\n",
       "      <td>1743436</td>\n",
       "      <td>46769</td>\n",
       "      <td>4.13</td>\n",
       "      <td>{'5 Stars': 805768, '4 Stars': 537570, '3 Star...</td>\n",
       "    </tr>\n",
       "    <tr>\n",
       "      <th>1</th>\n",
       "      <td>10917.My_Sister_s_Keeper</td>\n",
       "      <td>10917</td>\n",
       "      <td>My Sister's Keeper</td>\n",
       "      <td>NaN</td>\n",
       "      <td>NaN</td>\n",
       "      <td>0743486196</td>\n",
       "      <td>9780743486194</td>\n",
       "      <td>2004.0</td>\n",
       "      <td>Jodi Picoult</td>\n",
       "      <td>423</td>\n",
       "      <td>['Fiction', 'Contemporary', 'Womens Fiction &gt; ...</td>\n",
       "      <td>{'to-read': 268381, 'currently-reading': 7028,...</td>\n",
       "      <td>{'Best': 2065, 'Books': 675, 'The': 222, \"Coul...</td>\n",
       "      <td>1101809</td>\n",
       "      <td>34139</td>\n",
       "      <td>4.08</td>\n",
       "      <td>{'5 Stars': 447945, '4 Stars': 387514, '3 Star...</td>\n",
       "    </tr>\n",
       "    <tr>\n",
       "      <th>2</th>\n",
       "      <td>10964.Outlander</td>\n",
       "      <td>10964</td>\n",
       "      <td>Outlander</td>\n",
       "      <td>Outlander #1</td>\n",
       "      <td>/series/43943-outlander</td>\n",
       "      <td>0440212561</td>\n",
       "      <td>9780440212560</td>\n",
       "      <td>1991.0</td>\n",
       "      <td>Diana Gabaldon</td>\n",
       "      <td>850</td>\n",
       "      <td>['Historical &gt; Historical Fiction', 'Romance',...</td>\n",
       "      <td>{'to-read': 586400, 'currently-reading': 59918...</td>\n",
       "      <td>{'Best': 258, 'The': 77, 'Favorite': 182, 'All...</td>\n",
       "      <td>892738</td>\n",
       "      <td>47637</td>\n",
       "      <td>4.23</td>\n",
       "      <td>{'5 Stars': 488529, '4 Stars': 225164, '3 Star...</td>\n",
       "    </tr>\n",
       "    <tr>\n",
       "      <th>3</th>\n",
       "      <td>11127.The_Chronicles_of_Narnia</td>\n",
       "      <td>11127</td>\n",
       "      <td>The Chronicles of Narnia</td>\n",
       "      <td>The Chronicles of Narnia (Publication Order</td>\n",
       "      <td>/series/49073-the-chronicles-of-narnia-publica...</td>\n",
       "      <td>0060598247</td>\n",
       "      <td>9780060598242</td>\n",
       "      <td>1956.0</td>\n",
       "      <td>C.S. Lewis</td>\n",
       "      <td>767</td>\n",
       "      <td>['Fantasy', 'Classics', 'Fiction', 'Young Adul...</td>\n",
       "      <td>{'to-read': 213905, 'currently-reading': 13025...</td>\n",
       "      <td>{'Best': 11, 'Books': 21, 'The': 10, 'What': 6...</td>\n",
       "      <td>561302</td>\n",
       "      <td>10847</td>\n",
       "      <td>4.26</td>\n",
       "      <td>{'5 Stars': 276979, '4 Stars': 180820, '3 Star...</td>\n",
       "    </tr>\n",
       "    <tr>\n",
       "      <th>4</th>\n",
       "      <td>11870085-the-fault-in-our-stars</td>\n",
       "      <td>11870085</td>\n",
       "      <td>The Fault in Our Stars</td>\n",
       "      <td>NaN</td>\n",
       "      <td>NaN</td>\n",
       "      <td>8415594011</td>\n",
       "      <td>9780142424179</td>\n",
       "      <td>NaN</td>\n",
       "      <td>John Green</td>\n",
       "      <td>313</td>\n",
       "      <td>['Young Adult', 'Romance', 'Fiction', 'Contemp...</td>\n",
       "      <td>{'to-read': 76948, 'currently-reading': 58616,...</td>\n",
       "      <td>{'Best': 235, 'YA': 66, 'TO': 770, 'Books': 99...</td>\n",
       "      <td>3924262</td>\n",
       "      <td>160263</td>\n",
       "      <td>4.18</td>\n",
       "      <td>{'5 Stars': 1932037, '4 Stars': 1138642, '3 St...</td>\n",
       "    </tr>\n",
       "  </tbody>\n",
       "</table>\n",
       "</div>"
      ],
      "text/plain": [
       "                     book_id_title   book_id                book_title  \\\n",
       "0                  10210.Jane_Eyre     10210                 Jane Eyre   \n",
       "1         10917.My_Sister_s_Keeper     10917        My Sister's Keeper   \n",
       "2                  10964.Outlander     10964                 Outlander   \n",
       "3   11127.The_Chronicles_of_Narnia     11127  The Chronicles of Narnia   \n",
       "4  11870085-the-fault-in-our-stars  11870085    The Fault in Our Stars   \n",
       "\n",
       "                                   book_series  \\\n",
       "0                                          NaN   \n",
       "1                                          NaN   \n",
       "2                                 Outlander #1   \n",
       "3  The Chronicles of Narnia (Publication Order   \n",
       "4                                          NaN   \n",
       "\n",
       "                                     book_series_uri        isbn  \\\n",
       "0                                                NaN  1551111802   \n",
       "1                                                NaN  0743486196   \n",
       "2                            /series/43943-outlander  0440212561   \n",
       "3  /series/49073-the-chronicles-of-narnia-publica...  0060598247   \n",
       "4                                                NaN  8415594011   \n",
       "\n",
       "          isbn13  year_first_published            author  num_pages  \\\n",
       "0  9781551111803                1846.0  Charlotte Brontë        532   \n",
       "1  9780743486194                2004.0      Jodi Picoult        423   \n",
       "2  9780440212560                1991.0    Diana Gabaldon        850   \n",
       "3  9780060598242                1956.0        C.S. Lewis        767   \n",
       "4  9780142424179                   NaN        John Green        313   \n",
       "\n",
       "                                              genres  \\\n",
       "0  ['Classics', 'Fiction', 'Romance', 'Historical...   \n",
       "1  ['Fiction', 'Contemporary', 'Womens Fiction > ...   \n",
       "2  ['Historical > Historical Fiction', 'Romance',...   \n",
       "3  ['Fantasy', 'Classics', 'Fiction', 'Young Adul...   \n",
       "4  ['Young Adult', 'Romance', 'Fiction', 'Contemp...   \n",
       "\n",
       "                                             shelves  \\\n",
       "0  {'to-read': 861870, 'currently-reading': 57625...   \n",
       "1  {'to-read': 268381, 'currently-reading': 7028,...   \n",
       "2  {'to-read': 586400, 'currently-reading': 59918...   \n",
       "3  {'to-read': 213905, 'currently-reading': 13025...   \n",
       "4  {'to-read': 76948, 'currently-reading': 58616,...   \n",
       "\n",
       "                                               lists  num_ratings  \\\n",
       "0  {'Best': 197, 'Books': 134, '100': 1603, 'Big'...      1743436   \n",
       "1  {'Best': 2065, 'Books': 675, 'The': 222, \"Coul...      1101809   \n",
       "2  {'Best': 258, 'The': 77, 'Favorite': 182, 'All...       892738   \n",
       "3  {'Best': 11, 'Books': 21, 'The': 10, 'What': 6...       561302   \n",
       "4  {'Best': 235, 'YA': 66, 'TO': 770, 'Books': 99...      3924262   \n",
       "\n",
       "   num_reviews  average_rating  \\\n",
       "0        46769            4.13   \n",
       "1        34139            4.08   \n",
       "2        47637            4.23   \n",
       "3        10847            4.26   \n",
       "4       160263            4.18   \n",
       "\n",
       "                                 rating_distribution  \n",
       "0  {'5 Stars': 805768, '4 Stars': 537570, '3 Star...  \n",
       "1  {'5 Stars': 447945, '4 Stars': 387514, '3 Star...  \n",
       "2  {'5 Stars': 488529, '4 Stars': 225164, '3 Star...  \n",
       "3  {'5 Stars': 276979, '4 Stars': 180820, '3 Star...  \n",
       "4  {'5 Stars': 1932037, '4 Stars': 1138642, '3 St...  "
      ]
     },
     "execution_count": 4,
     "metadata": {},
     "output_type": "execute_result"
    }
   ],
   "source": [
    "books.head()"
   ]
  },
  {
   "cell_type": "code",
   "execution_count": 6,
   "id": "handed-graduation",
   "metadata": {},
   "outputs": [
    {
     "name": "stdout",
     "output_type": "stream",
     "text": [
      "<class 'pandas.core.frame.DataFrame'>\n",
      "RangeIndex: 101 entries, 0 to 100\n",
      "Data columns (total 17 columns):\n",
      " #   Column                Non-Null Count  Dtype  \n",
      "---  ------                --------------  -----  \n",
      " 0   book_id_title         101 non-null    object \n",
      " 1   book_id               101 non-null    int64  \n",
      " 2   book_title            101 non-null    object \n",
      " 3   book_series           38 non-null     object \n",
      " 4   book_series_uri       38 non-null     object \n",
      " 5   isbn                  101 non-null    object \n",
      " 6   isbn13                101 non-null    object \n",
      " 7   year_first_published  94 non-null     float64\n",
      " 8   author                101 non-null    object \n",
      " 9   num_pages             101 non-null    int64  \n",
      " 10  genres                101 non-null    object \n",
      " 11  shelves               101 non-null    object \n",
      " 12  lists                 101 non-null    object \n",
      " 13  num_ratings           101 non-null    int64  \n",
      " 14  num_reviews           101 non-null    int64  \n",
      " 15  average_rating        101 non-null    float64\n",
      " 16  rating_distribution   101 non-null    object \n",
      "dtypes: float64(2), int64(4), object(11)\n",
      "memory usage: 13.5+ KB\n"
     ]
    }
   ],
   "source": [
    "books.info()"
   ]
  },
  {
   "cell_type": "code",
   "execution_count": 10,
   "id": "published-commitment",
   "metadata": {},
   "outputs": [
    {
     "data": {
      "text/plain": [
       "J.K. Rowling          4\n",
       "Fyodor Dostoyevsky    2\n",
       "Khaled Hosseini       2\n",
       "Charles Dickens       2\n",
       "George Orwell         2\n",
       "                     ..\n",
       "Ernest Hemingway      1\n",
       "Maurice Sendak        1\n",
       "Louisa May Alcott     1\n",
       "Markus Zusak          1\n",
       "A.A. Milne            1\n",
       "Name: author, Length: 93, dtype: int64"
      ]
     },
     "execution_count": 10,
     "metadata": {},
     "output_type": "execute_result"
    }
   ],
   "source": [
    "books.author.value_counts()"
   ]
  },
  {
   "cell_type": "code",
   "execution_count": 22,
   "id": "auburn-permit",
   "metadata": {},
   "outputs": [
    {
     "data": {
      "text/plain": [
       "Index(['book_id_title', 'book_id', 'book_title', 'book_series',\n",
       "       'book_series_uri', 'isbn', 'isbn13', 'year_first_published', 'author',\n",
       "       'num_pages', 'genres', 'shelves', 'lists', 'num_ratings', 'num_reviews',\n",
       "       'average_rating', 'rating_distribution'],\n",
       "      dtype='object')"
      ]
     },
     "execution_count": 22,
     "metadata": {},
     "output_type": "execute_result"
    }
   ],
   "source": [
    "books.columns"
   ]
  },
  {
   "cell_type": "code",
   "execution_count": 23,
   "id": "persistent-motivation",
   "metadata": {},
   "outputs": [
    {
     "data": {
      "text/plain": [
       "0      4.13\n",
       "1      4.08\n",
       "2      4.23\n",
       "3      4.26\n",
       "4      4.18\n",
       "       ... \n",
       "96     4.26\n",
       "97     3.88\n",
       "98     4.13\n",
       "99     3.87\n",
       "100    4.31\n",
       "Name: average_rating, Length: 101, dtype: float64"
      ]
     },
     "execution_count": 23,
     "metadata": {},
     "output_type": "execute_result"
    }
   ],
   "source": [
    "books.average_rating"
   ]
  },
  {
   "cell_type": "markdown",
   "id": "relevant-headline",
   "metadata": {},
   "source": [
    "**Let's find the book with the highest rating**"
   ]
  },
  {
   "cell_type": "code",
   "execution_count": 28,
   "id": "theoretical-classics",
   "metadata": {
    "scrolled": true
   },
   "outputs": [
    {
     "data": {
      "text/html": [
       "<div>\n",
       "<style scoped>\n",
       "    .dataframe tbody tr th:only-of-type {\n",
       "        vertical-align: middle;\n",
       "    }\n",
       "\n",
       "    .dataframe tbody tr th {\n",
       "        vertical-align: top;\n",
       "    }\n",
       "\n",
       "    .dataframe thead th {\n",
       "        text-align: right;\n",
       "    }\n",
       "</style>\n",
       "<table border=\"1\" class=\"dataframe\">\n",
       "  <thead>\n",
       "    <tr style=\"text-align: right;\">\n",
       "      <th></th>\n",
       "      <th>book_id_title</th>\n",
       "      <th>book_id</th>\n",
       "      <th>book_title</th>\n",
       "      <th>book_series</th>\n",
       "      <th>book_series_uri</th>\n",
       "      <th>isbn</th>\n",
       "      <th>isbn13</th>\n",
       "      <th>year_first_published</th>\n",
       "      <th>author</th>\n",
       "      <th>num_pages</th>\n",
       "      <th>genres</th>\n",
       "      <th>shelves</th>\n",
       "      <th>lists</th>\n",
       "      <th>num_ratings</th>\n",
       "      <th>num_reviews</th>\n",
       "      <th>average_rating</th>\n",
       "      <th>rating_distribution</th>\n",
       "    </tr>\n",
       "  </thead>\n",
       "  <tbody>\n",
       "    <tr>\n",
       "      <th>11</th>\n",
       "      <td>136251.Harry_Potter_and_the_Deathly_Hallows</td>\n",
       "      <td>136251</td>\n",
       "      <td>Harry Potter and the Deathly Hallows</td>\n",
       "      <td>Harry Potter #7</td>\n",
       "      <td>/series/45175-harry-potter</td>\n",
       "      <td>0747591059</td>\n",
       "      <td>9780747591054</td>\n",
       "      <td>NaN</td>\n",
       "      <td>J.K. Rowling</td>\n",
       "      <td>759</td>\n",
       "      <td>['Fantasy', 'Young Adult', 'Fiction', 'Fantasy...</td>\n",
       "      <td>{'to-read': 422123, 'fantasy': 50991, 'favorit...</td>\n",
       "      <td>{'Best': 491, 'Books': 108, 'The': 256, \"Could...</td>\n",
       "      <td>3041745</td>\n",
       "      <td>70066</td>\n",
       "      <td>4.62</td>\n",
       "      <td>{'5 Stars': 2204449, '4 Stars': 597125, '3 Sta...</td>\n",
       "    </tr>\n",
       "  </tbody>\n",
       "</table>\n",
       "</div>"
      ],
      "text/plain": [
       "                                  book_id_title  book_id  \\\n",
       "11  136251.Harry_Potter_and_the_Deathly_Hallows   136251   \n",
       "\n",
       "                              book_title      book_series  \\\n",
       "11  Harry Potter and the Deathly Hallows  Harry Potter #7   \n",
       "\n",
       "               book_series_uri        isbn         isbn13  \\\n",
       "11  /series/45175-harry-potter  0747591059  9780747591054   \n",
       "\n",
       "    year_first_published        author  num_pages  \\\n",
       "11                   NaN  J.K. Rowling        759   \n",
       "\n",
       "                                               genres  \\\n",
       "11  ['Fantasy', 'Young Adult', 'Fiction', 'Fantasy...   \n",
       "\n",
       "                                              shelves  \\\n",
       "11  {'to-read': 422123, 'fantasy': 50991, 'favorit...   \n",
       "\n",
       "                                                lists  num_ratings  \\\n",
       "11  {'Best': 491, 'Books': 108, 'The': 256, \"Could...      3041745   \n",
       "\n",
       "    num_reviews  average_rating  \\\n",
       "11        70066            4.62   \n",
       "\n",
       "                                  rating_distribution  \n",
       "11  {'5 Stars': 2204449, '4 Stars': 597125, '3 Sta...  "
      ]
     },
     "execution_count": 28,
     "metadata": {},
     "output_type": "execute_result"
    }
   ],
   "source": [
    "books[books['average_rating']==books['average_rating'].max()]"
   ]
  },
  {
   "cell_type": "markdown",
   "id": "pleasant-cloud",
   "metadata": {},
   "source": [
    "**Let's see the distribution of rating for Harry Potter and the Deathly Hallows**"
   ]
  },
  {
   "cell_type": "code",
   "execution_count": 55,
   "id": "ahead-bunny",
   "metadata": {},
   "outputs": [
    {
     "data": {
      "text/plain": [
       "<AxesSubplot:>"
      ]
     },
     "execution_count": 55,
     "metadata": {},
     "output_type": "execute_result"
    },
    {
     "data": {
      "image/png": "[encoded data removed]",
      "text/plain": [
       "<Figure size 432x288 with 1 Axes>"
      ]
     },
     "metadata": {
      "needs_background": "light"
     },
     "output_type": "display_data"
    }
   ],
   "source": [
    "hp_avg_rat = books[books.isbn == '0747591059']['rating_distribution'].values[0]\n",
    "hp_avg_rat = pd.DataFrame.from_dict(eval(hp_avg_rat),orient='index',columns=['count'])\n",
    "hp_avg_rat.plot.bar()"
   ]
  },
  {
   "cell_type": "code",
   "execution_count": 67,
   "id": "generous-extra",
   "metadata": {},
   "outputs": [
    {
     "data": {
      "image/png": "[encoded data removed]",
      "text/plain": [
       "<Figure size 432x288 with 1 Axes>"
      ]
     },
     "metadata": {
      "needs_background": "light"
     },
     "output_type": "display_data"
    }
   ],
   "source": [
    "sns.barplot(x=hp_avg_rat.index,y=hp_avg_rat['count'])\n",
    "plt.title('Harry Potter and the Deathly Hallows rating distribution')\n",
    "plt.tight_layout()"
   ]
  },
  {
   "cell_type": "code",
   "execution_count": 68,
   "id": "dramatic-logging",
   "metadata": {},
   "outputs": [
    {
     "data": {
      "text/plain": [
       "Index(['5 Stars', '4 Stars', '3 Stars', '2 Stars', '1 Star'], dtype='object')"
      ]
     },
     "execution_count": 68,
     "metadata": {},
     "output_type": "execute_result"
    }
   ],
   "source": [
    "hp_avg_rat.index"
   ]
  },
  {
   "cell_type": "code",
   "execution_count": 71,
   "id": "muslim-reproduction",
   "metadata": {},
   "outputs": [
    {
     "data": {
      "text/plain": [
       "pandas.core.series.Series"
      ]
     },
     "execution_count": 71,
     "metadata": {},
     "output_type": "execute_result"
    }
   ],
   "source": [
    "type(hp_avg_rat['count'])"
   ]
  },
  {
   "cell_type": "code",
   "execution_count": 75,
   "id": "pleasant-printing",
   "metadata": {},
   "outputs": [],
   "source": [
    "import plotly.express as px"
   ]
  },
  {
   "cell_type": "code",
   "execution_count": 81,
   "id": "thick-possibility",
   "metadata": {},
   "outputs": [
    {
     "data": {
      "application/vnd.plotly.v1+json": {
       "config": {
        "plotlyServerURL": "https://plot.ly"
       },
       "data": [
        {
         "alignmentgroup": "True",
         "hovertemplate": "index=%{x}<br>count=%{y}<extra></extra>",
         "legendgroup": "5 Stars",
         "marker": {
          "color": "#636efa"
         },
         "name": "5 Stars",
         "offsetgroup": "5 Stars",
         "orientation": "v",
         "showlegend": true,
         "textposition": "auto",
         "type": "bar",
         "x": [
          "5 Stars"
         ],
         "xaxis": "x",
         "y": [
          2204449
         ],
         "yaxis": "y"
        },
        {
         "alignmentgroup": "True",
         "hovertemplate": "index=%{x}<br>count=%{y}<extra></extra>",
         "legendgroup": "4 Stars",
         "marker": {
          "color": "#EF553B"
         },
         "name": "4 Stars",
         "offsetgroup": "4 Stars",
         "orientation": "v",
         "showlegend": true,
         "textposition": "auto",
         "type": "bar",
         "x": [
          "4 Stars"
         ],
         "xaxis": "x",
         "y": [
          597125
         ],
         "yaxis": "y"
        },
        {
         "alignmentgroup": "True",
         "hovertemplate": "index=%{x}<br>count=%{y}<extra></extra>",
         "legendgroup": "3 Stars",
         "marker": {
          "color": "#00cc96"
         },
         "name": "3 Stars",
         "offsetgroup": "3 Stars",
         "orientation": "v",
         "showlegend": true,
         "textposition": "auto",
         "type": "bar",
         "x": [
          "3 Stars"
         ],
         "xaxis": "x",
         "y": [
          174969
         ],
         "yaxis": "y"
        },
        {
         "alignmentgroup": "True",
         "hovertemplate": "index=%{x}<br>count=%{y}<extra></extra>",
         "legendgroup": "2 Stars",
         "marker": {
          "color": "#ab63fa"
         },
         "name": "2 Stars",
         "offsetgroup": "2 Stars",
         "orientation": "v",
         "showlegend": true,
         "textposition": "auto",
         "type": "bar",
         "x": [
          "2 Stars"
         ],
         "xaxis": "x",
         "y": [
          38527
         ],
         "yaxis": "y"
        },
        {
         "alignmentgroup": "True",
         "hovertemplate": "index=%{x}<br>count=%{y}<extra></extra>",
         "legendgroup": "1 Star",
         "marker": {
          "color": "#FFA15A"
         },
         "name": "1 Star",
         "offsetgroup": "1 Star",
         "orientation": "v",
         "showlegend": true,
         "textposition": "auto",
         "type": "bar",
         "x": [
          "1 Star"
         ],
         "xaxis": "x",
         "y": [
          26675
         ],
         "yaxis": "y"
        }
       ],
       "layout": {
        "barmode": "relative",
        "height": 400,
        "legend": {
         "title": {
          "text": "index"
         },
         "tracegroupgap": 0
        },
        "margin": {
         "t": 60
        },
        "template": {
         "data": {
          "bar": [
           {
            "error_x": {
             "color": "#2a3f5f"
            },
            "error_y": {
             "color": "#2a3f5f"
            },
            "marker": {
             "line": {
              "color": "#E5ECF6",
              "width": 0.5
             }
            },
            "type": "bar"
           }
          ],
          "barpolar": [
           {
            "marker": {
             "line": {
              "color": "#E5ECF6",
              "width": 0.5
             }
            },
            "type": "barpolar"
           }
          ],
          "carpet": [
           {
            "aaxis": {
             "endlinecolor": "#2a3f5f",
             "gridcolor": "white",
             "linecolor": "white",
             "minorgridcolor": "white",
             "startlinecolor": "#2a3f5f"
            },
            "baxis": {
             "endlinecolor": "#2a3f5f",
             "gridcolor": "white",
             "linecolor": "white",
             "minorgridcolor": "white",
             "startlinecolor": "#2a3f5f"
            },
            "type": "carpet"
           }
          ],
          "choropleth": [
           {
            "colorbar": {
             "outlinewidth": 0,
             "ticks": ""
            },
            "type": "choropleth"
           }
          ],
          "contour": [
           {
            "colorbar": {
             "outlinewidth": 0,
             "ticks": ""
            },
            "colorscale": [
             [
              0,
              "#0d0887"
             ],
             [
              0.1111111111111111,
              "#46039f"
             ],
             [
              0.2222222222222222,
              "#7201a8"
             ],
             [
              0.3333333333333333,
              "#9c179e"
             ],
             [
              0.4444444444444444,
              "#bd3786"
             ],
             [
              0.5555555555555556,
              "#d8576b"
             ],
             [
              0.6666666666666666,
              "#ed7953"
             ],
             [
              0.7777777777777778,
              "#fb9f3a"
             ],
             [
              0.8888888888888888,
              "#fdca26"
             ],
             [
              1,
              "#f0f921"
             ]
            ],
            "type": "contour"
           }
          ],
          "contourcarpet": [
           {
            "colorbar": {
             "outlinewidth": 0,
             "ticks": ""
            },
            "type": "contourcarpet"
           }
          ],
          "heatmap": [
           {
            "colorbar": {
             "outlinewidth": 0,
             "ticks": ""
            },
            "colorscale": [
             [
              0,
              "#0d0887"
             ],
             [
              0.1111111111111111,
              "#46039f"
             ],
             [
              0.2222222222222222,
              "#7201a8"
             ],
             [
              0.3333333333333333,
              "#9c179e"
             ],
             [
              0.4444444444444444,
              "#bd3786"
             ],
             [
              0.5555555555555556,
              "#d8576b"
             ],
             [
              0.6666666666666666,
              "#ed7953"
             ],
             [
              0.7777777777777778,
              "#fb9f3a"
             ],
             [
              0.8888888888888888,
              "#fdca26"
             ],
             [
              1,
              "#f0f921"
             ]
            ],
            "type": "heatmap"
           }
          ],
          "heatmapgl": [
           {
            "colorbar": {
             "outlinewidth": 0,
             "ticks": ""
            },
            "colorscale": [
             [
              0,
              "#0d0887"
             ],
             [
              0.1111111111111111,
              "#46039f"
             ],
             [
              0.2222222222222222,
              "#7201a8"
             ],
             [
              0.3333333333333333,
              "#9c179e"
             ],
             [
              0.4444444444444444,
              "#bd3786"
             ],
             [
              0.5555555555555556,
              "#d8576b"
             ],
             [
              0.6666666666666666,
              "#ed7953"
             ],
             [
              0.7777777777777778,
              "#fb9f3a"
             ],
             [
              0.8888888888888888,
              "#fdca26"
             ],
             [
              1,
              "#f0f921"
             ]
            ],
            "type": "heatmapgl"
           }
          ],
          "histogram": [
           {
            "marker": {
             "colorbar": {
              "outlinewidth": 0,
              "ticks": ""
             }
            },
            "type": "histogram"
           }
          ],
          "histogram2d": [
           {
            "colorbar": {
             "outlinewidth": 0,
             "ticks": ""
            },
            "colorscale": [
             [
              0,
              "#0d0887"
             ],
             [
              0.1111111111111111,
              "#46039f"
             ],
             [
              0.2222222222222222,
              "#7201a8"
             ],
             [
              0.3333333333333333,
              "#9c179e"
             ],
             [
              0.4444444444444444,
              "#bd3786"
             ],
             [
              0.5555555555555556,
              "#d8576b"
             ],
             [
              0.6666666666666666,
              "#ed7953"
             ],
             [
              0.7777777777777778,
              "#fb9f3a"
             ],
             [
              0.8888888888888888,
              "#fdca26"
             ],
             [
              1,
              "#f0f921"
             ]
            ],
            "type": "histogram2d"
           }
          ],
          "histogram2dcontour": [
           {
            "colorbar": {
             "outlinewidth": 0,
             "ticks": ""
            },
            "colorscale": [
             [
              0,
              "#0d0887"
             ],
             [
              0.1111111111111111,
              "#46039f"
             ],
             [
              0.2222222222222222,
              "#7201a8"
             ],
             [
              0.3333333333333333,
              "#9c179e"
             ],
             [
              0.4444444444444444,
              "#bd3786"
             ],
             [
              0.5555555555555556,
              "#d8576b"
             ],
             [
              0.6666666666666666,
              "#ed7953"
             ],
             [
              0.7777777777777778,
              "#fb9f3a"
             ],
             [
              0.8888888888888888,
              "#fdca26"
             ],
             [
              1,
              "#f0f921"
             ]
            ],
            "type": "histogram2dcontour"
           }
          ],
          "mesh3d": [
           {
            "colorbar": {
             "outlinewidth": 0,
             "ticks": ""
            },
            "type": "mesh3d"
           }
          ],
          "parcoords": [
           {
            "line": {
             "colorbar": {
              "outlinewidth": 0,
              "ticks": ""
             }
            },
            "type": "parcoords"
           }
          ],
          "pie": [
           {
            "automargin": true,
            "type": "pie"
           }
          ],
          "scatter": [
           {
            "marker": {
             "colorbar": {
              "outlinewidth": 0,
              "ticks": ""
             }
            },
            "type": "scatter"
           }
          ],
          "scatter3d": [
           {
            "line": {
             "colorbar": {
              "outlinewidth": 0,
              "ticks": ""
             }
            },
            "marker": {
             "colorbar": {
              "outlinewidth": 0,
              "ticks": ""
             }
            },
            "type": "scatter3d"
           }
          ],
          "scattercarpet": [
           {
            "marker": {
             "colorbar": {
              "outlinewidth": 0,
              "ticks": ""
             }
            },
            "type": "scattercarpet"
           }
          ],
          "scattergeo": [
           {
            "marker": {
             "colorbar": {
              "outlinewidth": 0,
              "ticks": ""
             }
            },
            "type": "scattergeo"
           }
          ],
          "scattergl": [
           {
            "marker": {
             "colorbar": {
              "outlinewidth": 0,
              "ticks": ""
             }
            },
            "type": "scattergl"
           }
          ],
          "scattermapbox": [
           {
            "marker": {
             "colorbar": {
              "outlinewidth": 0,
              "ticks": ""
             }
            },
            "type": "scattermapbox"
           }
          ],
          "scatterpolar": [
           {
            "marker": {
             "colorbar": {
              "outlinewidth": 0,
              "ticks": ""
             }
            },
            "type": "scatterpolar"
           }
          ],
          "scatterpolargl": [
           {
            "marker": {
             "colorbar": {
              "outlinewidth": 0,
              "ticks": ""
             }
            },
            "type": "scatterpolargl"
           }
          ],
          "scatterternary": [
           {
            "marker": {
             "colorbar": {
              "outlinewidth": 0,
              "ticks": ""
             }
            },
            "type": "scatterternary"
           }
          ],
          "surface": [
           {
            "colorbar": {
             "outlinewidth": 0,
             "ticks": ""
            },
            "colorscale": [
             [
              0,
              "#0d0887"
             ],
             [
              0.1111111111111111,
              "#46039f"
             ],
             [
              0.2222222222222222,
              "#7201a8"
             ],
             [
              0.3333333333333333,
              "#9c179e"
             ],
             [
              0.4444444444444444,
              "#bd3786"
             ],
             [
              0.5555555555555556,
              "#d8576b"
             ],
             [
              0.6666666666666666,
              "#ed7953"
             ],
             [
              0.7777777777777778,
              "#fb9f3a"
             ],
             [
              0.8888888888888888,
              "#fdca26"
             ],
             [
              1,
              "#f0f921"
             ]
            ],
            "type": "surface"
           }
          ],
          "table": [
           {
            "cells": {
             "fill": {
              "color": "#EBF0F8"
             },
             "line": {
              "color": "white"
             }
            },
            "header": {
             "fill": {
              "color": "#C8D4E3"
             },
             "line": {
              "color": "white"
             }
            },
            "type": "table"
           }
          ]
         },
         "layout": {
          "annotationdefaults": {
           "arrowcolor": "#2a3f5f",
           "arrowhead": 0,
           "arrowwidth": 1
          },
          "coloraxis": {
           "colorbar": {
            "outlinewidth": 0,
            "ticks": ""
           }
          },
          "colorscale": {
           "diverging": [
            [
             0,
             "#8e0152"
            ],
            [
             0.1,
             "#c51b7d"
            ],
            [
             0.2,
             "#de77ae"
            ],
            [
             0.3,
             "#f1b6da"
            ],
            [
             0.4,
             "#fde0ef"
            ],
            [
             0.5,
             "#f7f7f7"
            ],
            [
             0.6,
             "#e6f5d0"
            ],
            [
             0.7,
             "#b8e186"
            ],
            [
             0.8,
             "#7fbc41"
            ],
            [
             0.9,
             "#4d9221"
            ],
            [
             1,
             "#276419"
            ]
           ],
           "sequential": [
            [
             0,
             "#0d0887"
            ],
            [
             0.1111111111111111,
             "#46039f"
            ],
            [
             0.2222222222222222,
             "#7201a8"
            ],
            [
             0.3333333333333333,
             "#9c179e"
            ],
            [
             0.4444444444444444,
             "#bd3786"
            ],
            [
             0.5555555555555556,
             "#d8576b"
            ],
            [
             0.6666666666666666,
             "#ed7953"
            ],
            [
             0.7777777777777778,
             "#fb9f3a"
            ],
            [
             0.8888888888888888,
             "#fdca26"
            ],
            [
             1,
             "#f0f921"
            ]
           ],
           "sequentialminus": [
            [
             0,
             "#0d0887"
            ],
            [
             0.1111111111111111,
             "#46039f"
            ],
            [
             0.2222222222222222,
             "#7201a8"
            ],
            [
             0.3333333333333333,
             "#9c179e"
            ],
            [
             0.4444444444444444,
             "#bd3786"
            ],
            [
             0.5555555555555556,
             "#d8576b"
            ],
            [
             0.6666666666666666,
             "#ed7953"
            ],
            [
             0.7777777777777778,
             "#fb9f3a"
            ],
            [
             0.8888888888888888,
             "#fdca26"
            ],
            [
             1,
             "#f0f921"
            ]
           ]
          },
          "colorway": [
           "#636efa",
           "#EF553B",
           "#00cc96",
           "#ab63fa",
           "#FFA15A",
           "#19d3f3",
           "#FF6692",
           "#B6E880",
           "#FF97FF",
           "#FECB52"
          ],
          "font": {
           "color": "#2a3f5f"
          },
          "geo": {
           "bgcolor": "white",
           "lakecolor": "white",
           "landcolor": "#E5ECF6",
           "showlakes": true,
           "showland": true,
           "subunitcolor": "white"
          },
          "hoverlabel": {
           "align": "left"
          },
          "hovermode": "closest",
          "mapbox": {
           "style": "light"
          },
          "paper_bgcolor": "white",
          "plot_bgcolor": "#E5ECF6",
          "polar": {
           "angularaxis": {
            "gridcolor": "white",
            "linecolor": "white",
            "ticks": ""
           },
           "bgcolor": "#E5ECF6",
           "radialaxis": {
            "gridcolor": "white",
            "linecolor": "white",
            "ticks": ""
           }
          },
          "scene": {
           "xaxis": {
            "backgroundcolor": "#E5ECF6",
            "gridcolor": "white",
            "gridwidth": 2,
            "linecolor": "white",
            "showbackground": true,
            "ticks": "",
            "zerolinecolor": "white"
           },
           "yaxis": {
            "backgroundcolor": "#E5ECF6",
            "gridcolor": "white",
            "gridwidth": 2,
            "linecolor": "white",
            "showbackground": true,
            "ticks": "",
            "zerolinecolor": "white"
           },
           "zaxis": {
            "backgroundcolor": "#E5ECF6",
            "gridcolor": "white",
            "gridwidth": 2,
            "linecolor": "white",
            "showbackground": true,
            "ticks": "",
            "zerolinecolor": "white"
           }
          },
          "shapedefaults": {
           "line": {
            "color": "#2a3f5f"
           }
          },
          "ternary": {
           "aaxis": {
            "gridcolor": "white",
            "linecolor": "white",
            "ticks": ""
           },
           "baxis": {
            "gridcolor": "white",
            "linecolor": "white",
            "ticks": ""
           },
           "bgcolor": "#E5ECF6",
           "caxis": {
            "gridcolor": "white",
            "linecolor": "white",
            "ticks": ""
           }
          },
          "title": {
           "x": 0.05
          },
          "xaxis": {
           "automargin": true,
           "gridcolor": "white",
           "linecolor": "white",
           "ticks": "",
           "title": {
            "standoff": 15
           },
           "zerolinecolor": "white",
           "zerolinewidth": 2
          },
          "yaxis": {
           "automargin": true,
           "gridcolor": "white",
           "linecolor": "white",
           "ticks": "",
           "title": {
            "standoff": 15
           },
           "zerolinecolor": "white",
           "zerolinewidth": 2
          }
         }
        },
        "xaxis": {
         "anchor": "y",
         "categoryarray": [
          "5 Stars",
          "4 Stars",
          "3 Stars",
          "2 Stars",
          "1 Star"
         ],
         "categoryorder": "array",
         "domain": [
          0,
          1
         ],
         "title": {
          "text": "index"
         }
        },
        "yaxis": {
         "anchor": "x",
         "domain": [
          0,
          1
         ],
         "title": {
          "text": "count"
         }
        }
       }
      },
      "text/html": [
       "<div>                            <div id=\"09f4086a-a812-43b6-84ff-63343afe7565\" class=\"plotly-graph-div\" style=\"height:400px; width:100%;\"></div>            <script type=\"text/javascript\">                require([\"plotly\"], function(Plotly) {                    window.PLOTLYENV=window.PLOTLYENV || {};                                    if (document.getElementById(\"09f4086a-a812-43b6-84ff-63343afe7565\")) {                    Plotly.newPlot(                        \"09f4086a-a812-43b6-84ff-63343afe7565\",                        [{\"alignmentgroup\": \"True\", \"hovertemplate\": \"index=%{x}<br>count=%{y}<extra></extra>\", \"legendgroup\": \"5 Stars\", \"marker\": {\"color\": \"#636efa\"}, \"name\": \"5 Stars\", \"offsetgroup\": \"5 Stars\", \"orientation\": \"v\", \"showlegend\": true, \"textposition\": \"auto\", \"type\": \"bar\", \"x\": [\"5 Stars\"], \"xaxis\": \"x\", \"y\": [2204449], \"yaxis\": \"y\"}, {\"alignmentgroup\": \"True\", \"hovertemplate\": \"index=%{x}<br>count=%{y}<extra></extra>\", \"legendgroup\": \"4 Stars\", \"marker\": {\"color\": \"#EF553B\"}, \"name\": \"4 Stars\", \"offsetgroup\": \"4 Stars\", \"orientation\": \"v\", \"showlegend\": true, \"textposition\": \"auto\", \"type\": \"bar\", \"x\": [\"4 Stars\"], \"xaxis\": \"x\", \"y\": [597125], \"yaxis\": \"y\"}, {\"alignmentgroup\": \"True\", \"hovertemplate\": \"index=%{x}<br>count=%{y}<extra></extra>\", \"legendgroup\": \"3 Stars\", \"marker\": {\"color\": \"#00cc96\"}, \"name\": \"3 Stars\", \"offsetgroup\": \"3 Stars\", \"orientation\": \"v\", \"showlegend\": true, \"textposition\": \"auto\", \"type\": \"bar\", \"x\": [\"3 Stars\"], \"xaxis\": \"x\", \"y\": [174969], \"yaxis\": \"y\"}, {\"alignmentgroup\": \"True\", \"hovertemplate\": \"index=%{x}<br>count=%{y}<extra></extra>\", \"legendgroup\": \"2 Stars\", \"marker\": {\"color\": \"#ab63fa\"}, \"name\": \"2 Stars\", \"offsetgroup\": \"2 Stars\", \"orientation\": \"v\", \"showlegend\": true, \"textposition\": \"auto\", \"type\": \"bar\", \"x\": [\"2 Stars\"], \"xaxis\": \"x\", \"y\": [38527], \"yaxis\": \"y\"}, {\"alignmentgroup\": \"True\", \"hovertemplate\": \"index=%{x}<br>count=%{y}<extra></extra>\", \"legendgroup\": \"1 Star\", \"marker\": {\"color\": \"#FFA15A\"}, \"name\": \"1 Star\", \"offsetgroup\": \"1 Star\", \"orientation\": \"v\", \"showlegend\": true, \"textposition\": \"auto\", \"type\": \"bar\", \"x\": [\"1 Star\"], \"xaxis\": \"x\", \"y\": [26675], \"yaxis\": \"y\"}],                        {\"barmode\": \"relative\", \"height\": 400, \"legend\": {\"title\": {\"text\": \"index\"}, \"tracegroupgap\": 0}, \"margin\": {\"t\": 60}, \"template\": {\"data\": {\"bar\": [{\"error_x\": {\"color\": \"#2a3f5f\"}, \"error_y\": {\"color\": \"#2a3f5f\"}, \"marker\": {\"line\": {\"color\": \"#E5ECF6\", \"width\": 0.5}}, \"type\": \"bar\"}], \"barpolar\": [{\"marker\": {\"line\": {\"color\": \"#E5ECF6\", \"width\": 0.5}}, \"type\": \"barpolar\"}], \"carpet\": [{\"aaxis\": {\"endlinecolor\": \"#2a3f5f\", \"gridcolor\": \"white\", \"linecolor\": \"white\", \"minorgridcolor\": \"white\", \"startlinecolor\": \"#2a3f5f\"}, \"baxis\": {\"endlinecolor\": \"#2a3f5f\", \"gridcolor\": \"white\", \"linecolor\": \"white\", \"minorgridcolor\": \"white\", \"startlinecolor\": \"#2a3f5f\"}, \"type\": \"carpet\"}], \"choropleth\": [{\"colorbar\": {\"outlinewidth\": 0, \"ticks\": \"\"}, \"type\": \"choropleth\"}], \"contour\": [{\"colorbar\": {\"outlinewidth\": 0, \"ticks\": \"\"}, \"colorscale\": [[0.0, \"#0d0887\"], [0.1111111111111111, \"#46039f\"], [0.2222222222222222, \"#7201a8\"], [0.3333333333333333, \"#9c179e\"], [0.4444444444444444, \"#bd3786\"], [0.5555555555555556, \"#d8576b\"], [0.6666666666666666, \"#ed7953\"], [0.7777777777777778, \"#fb9f3a\"], [0.8888888888888888, \"#fdca26\"], [1.0, \"#f0f921\"]], \"type\": \"contour\"}], \"contourcarpet\": [{\"colorbar\": {\"outlinewidth\": 0, \"ticks\": \"\"}, \"type\": \"contourcarpet\"}], \"heatmap\": [{\"colorbar\": {\"outlinewidth\": 0, \"ticks\": \"\"}, \"colorscale\": [[0.0, \"#0d0887\"], [0.1111111111111111, \"#46039f\"], [0.2222222222222222, \"#7201a8\"], [0.3333333333333333, \"#9c179e\"], [0.4444444444444444, \"#bd3786\"], [0.5555555555555556, \"#d8576b\"], [0.6666666666666666, \"#ed7953\"], [0.7777777777777778, \"#fb9f3a\"], [0.8888888888888888, \"#fdca26\"], [1.0, \"#f0f921\"]], \"type\": \"heatmap\"}], \"heatmapgl\": [{\"colorbar\": {\"outlinewidth\": 0, \"ticks\": \"\"}, \"colorscale\": [[0.0, \"#0d0887\"], [0.1111111111111111, \"#46039f\"], [0.2222222222222222, \"#7201a8\"], [0.3333333333333333, \"#9c179e\"], [0.4444444444444444, \"#bd3786\"], [0.5555555555555556, \"#d8576b\"], [0.6666666666666666, \"#ed7953\"], [0.7777777777777778, \"#fb9f3a\"], [0.8888888888888888, \"#fdca26\"], [1.0, \"#f0f921\"]], \"type\": \"heatmapgl\"}], \"histogram\": [{\"marker\": {\"colorbar\": {\"outlinewidth\": 0, \"ticks\": \"\"}}, \"type\": \"histogram\"}], \"histogram2d\": [{\"colorbar\": {\"outlinewidth\": 0, \"ticks\": \"\"}, \"colorscale\": [[0.0, \"#0d0887\"], [0.1111111111111111, \"#46039f\"], [0.2222222222222222, \"#7201a8\"], [0.3333333333333333, \"#9c179e\"], [0.4444444444444444, \"#bd3786\"], [0.5555555555555556, \"#d8576b\"], [0.6666666666666666, \"#ed7953\"], [0.7777777777777778, \"#fb9f3a\"], [0.8888888888888888, \"#fdca26\"], [1.0, \"#f0f921\"]], \"type\": \"histogram2d\"}], \"histogram2dcontour\": [{\"colorbar\": {\"outlinewidth\": 0, \"ticks\": \"\"}, \"colorscale\": [[0.0, \"#0d0887\"], [0.1111111111111111, \"#46039f\"], [0.2222222222222222, \"#7201a8\"], [0.3333333333333333, \"#9c179e\"], [0.4444444444444444, \"#bd3786\"], [0.5555555555555556, \"#d8576b\"], [0.6666666666666666, \"#ed7953\"], [0.7777777777777778, \"#fb9f3a\"], [0.8888888888888888, \"#fdca26\"], [1.0, \"#f0f921\"]], \"type\": \"histogram2dcontour\"}], \"mesh3d\": [{\"colorbar\": {\"outlinewidth\": 0, \"ticks\": \"\"}, \"type\": \"mesh3d\"}], \"parcoords\": [{\"line\": {\"colorbar\": {\"outlinewidth\": 0, \"ticks\": \"\"}}, \"type\": \"parcoords\"}], \"pie\": [{\"automargin\": true, \"type\": \"pie\"}], \"scatter\": [{\"marker\": {\"colorbar\": {\"outlinewidth\": 0, \"ticks\": \"\"}}, \"type\": \"scatter\"}], \"scatter3d\": [{\"line\": {\"colorbar\": {\"outlinewidth\": 0, \"ticks\": \"\"}}, \"marker\": {\"colorbar\": {\"outlinewidth\": 0, \"ticks\": \"\"}}, \"type\": \"scatter3d\"}], \"scattercarpet\": [{\"marker\": {\"colorbar\": {\"outlinewidth\": 0, \"ticks\": \"\"}}, \"type\": \"scattercarpet\"}], \"scattergeo\": [{\"marker\": {\"colorbar\": {\"outlinewidth\": 0, \"ticks\": \"\"}}, \"type\": \"scattergeo\"}], \"scattergl\": [{\"marker\": {\"colorbar\": {\"outlinewidth\": 0, \"ticks\": \"\"}}, \"type\": \"scattergl\"}], \"scattermapbox\": [{\"marker\": {\"colorbar\": {\"outlinewidth\": 0, \"ticks\": \"\"}}, \"type\": \"scattermapbox\"}], \"scatterpolar\": [{\"marker\": {\"colorbar\": {\"outlinewidth\": 0, \"ticks\": \"\"}}, \"type\": \"scatterpolar\"}], \"scatterpolargl\": [{\"marker\": {\"colorbar\": {\"outlinewidth\": 0, \"ticks\": \"\"}}, \"type\": \"scatterpolargl\"}], \"scatterternary\": [{\"marker\": {\"colorbar\": {\"outlinewidth\": 0, \"ticks\": \"\"}}, \"type\": \"scatterternary\"}], \"surface\": [{\"colorbar\": {\"outlinewidth\": 0, \"ticks\": \"\"}, \"colorscale\": [[0.0, \"#0d0887\"], [0.1111111111111111, \"#46039f\"], [0.2222222222222222, \"#7201a8\"], [0.3333333333333333, \"#9c179e\"], [0.4444444444444444, \"#bd3786\"], [0.5555555555555556, \"#d8576b\"], [0.6666666666666666, \"#ed7953\"], [0.7777777777777778, \"#fb9f3a\"], [0.8888888888888888, \"#fdca26\"], [1.0, \"#f0f921\"]], \"type\": \"surface\"}], \"table\": [{\"cells\": {\"fill\": {\"color\": \"#EBF0F8\"}, \"line\": {\"color\": \"white\"}}, \"header\": {\"fill\": {\"color\": \"#C8D4E3\"}, \"line\": {\"color\": \"white\"}}, \"type\": \"table\"}]}, \"layout\": {\"annotationdefaults\": {\"arrowcolor\": \"#2a3f5f\", \"arrowhead\": 0, \"arrowwidth\": 1}, \"coloraxis\": {\"colorbar\": {\"outlinewidth\": 0, \"ticks\": \"\"}}, \"colorscale\": {\"diverging\": [[0, \"#8e0152\"], [0.1, \"#c51b7d\"], [0.2, \"#de77ae\"], [0.3, \"#f1b6da\"], [0.4, \"#fde0ef\"], [0.5, \"#f7f7f7\"], [0.6, \"#e6f5d0\"], [0.7, \"#b8e186\"], [0.8, \"#7fbc41\"], [0.9, \"#4d9221\"], [1, \"#276419\"]], \"sequential\": [[0.0, \"#0d0887\"], [0.1111111111111111, \"#46039f\"], [0.2222222222222222, \"#7201a8\"], [0.3333333333333333, \"#9c179e\"], [0.4444444444444444, \"#bd3786\"], [0.5555555555555556, \"#d8576b\"], [0.6666666666666666, \"#ed7953\"], [0.7777777777777778, \"#fb9f3a\"], [0.8888888888888888, \"#fdca26\"], [1.0, \"#f0f921\"]], \"sequentialminus\": [[0.0, \"#0d0887\"], [0.1111111111111111, \"#46039f\"], [0.2222222222222222, \"#7201a8\"], [0.3333333333333333, \"#9c179e\"], [0.4444444444444444, \"#bd3786\"], [0.5555555555555556, \"#d8576b\"], [0.6666666666666666, \"#ed7953\"], [0.7777777777777778, \"#fb9f3a\"], [0.8888888888888888, \"#fdca26\"], [1.0, \"#f0f921\"]]}, \"colorway\": [\"#636efa\", \"#EF553B\", \"#00cc96\", \"#ab63fa\", \"#FFA15A\", \"#19d3f3\", \"#FF6692\", \"#B6E880\", \"#FF97FF\", \"#FECB52\"], \"font\": {\"color\": \"#2a3f5f\"}, \"geo\": {\"bgcolor\": \"white\", \"lakecolor\": \"white\", \"landcolor\": \"#E5ECF6\", \"showlakes\": true, \"showland\": true, \"subunitcolor\": \"white\"}, \"hoverlabel\": {\"align\": \"left\"}, \"hovermode\": \"closest\", \"mapbox\": {\"style\": \"light\"}, \"paper_bgcolor\": \"white\", \"plot_bgcolor\": \"#E5ECF6\", \"polar\": {\"angularaxis\": {\"gridcolor\": \"white\", \"linecolor\": \"white\", \"ticks\": \"\"}, \"bgcolor\": \"#E5ECF6\", \"radialaxis\": {\"gridcolor\": \"white\", \"linecolor\": \"white\", \"ticks\": \"\"}}, \"scene\": {\"xaxis\": {\"backgroundcolor\": \"#E5ECF6\", \"gridcolor\": \"white\", \"gridwidth\": 2, \"linecolor\": \"white\", \"showbackground\": true, \"ticks\": \"\", \"zerolinecolor\": \"white\"}, \"yaxis\": {\"backgroundcolor\": \"#E5ECF6\", \"gridcolor\": \"white\", \"gridwidth\": 2, \"linecolor\": \"white\", \"showbackground\": true, \"ticks\": \"\", \"zerolinecolor\": \"white\"}, \"zaxis\": {\"backgroundcolor\": \"#E5ECF6\", \"gridcolor\": \"white\", \"gridwidth\": 2, \"linecolor\": \"white\", \"showbackground\": true, \"ticks\": \"\", \"zerolinecolor\": \"white\"}}, \"shapedefaults\": {\"line\": {\"color\": \"#2a3f5f\"}}, \"ternary\": {\"aaxis\": {\"gridcolor\": \"white\", \"linecolor\": \"white\", \"ticks\": \"\"}, \"baxis\": {\"gridcolor\": \"white\", \"linecolor\": \"white\", \"ticks\": \"\"}, \"bgcolor\": \"#E5ECF6\", \"caxis\": {\"gridcolor\": \"white\", \"linecolor\": \"white\", \"ticks\": \"\"}}, \"title\": {\"x\": 0.05}, \"xaxis\": {\"automargin\": true, \"gridcolor\": \"white\", \"linecolor\": \"white\", \"ticks\": \"\", \"title\": {\"standoff\": 15}, \"zerolinecolor\": \"white\", \"zerolinewidth\": 2}, \"yaxis\": {\"automargin\": true, \"gridcolor\": \"white\", \"linecolor\": \"white\", \"ticks\": \"\", \"title\": {\"standoff\": 15}, \"zerolinecolor\": \"white\", \"zerolinewidth\": 2}}}, \"xaxis\": {\"anchor\": \"y\", \"categoryarray\": [\"5 Stars\", \"4 Stars\", \"3 Stars\", \"2 Stars\", \"1 Star\"], \"categoryorder\": \"array\", \"domain\": [0.0, 1.0], \"title\": {\"text\": \"index\"}}, \"yaxis\": {\"anchor\": \"x\", \"domain\": [0.0, 1.0], \"title\": {\"text\": \"count\"}}},                        {\"responsive\": true}                    ).then(function(){\n",
       "                            \n",
       "var gd = document.getElementById('09f4086a-a812-43b6-84ff-63343afe7565');\n",
       "var x = new MutationObserver(function (mutations, observer) {{\n",
       "        var display = window.getComputedStyle(gd).display;\n",
       "        if (!display || display === 'none') {{\n",
       "            console.log([gd, 'removed!']);\n",
       "            Plotly.purge(gd);\n",
       "            observer.disconnect();\n",
       "        }}\n",
       "}});\n",
       "\n",
       "// Listen for the removal of the full notebook cells\n",
       "var notebookContainer = gd.closest('#notebook-container');\n",
       "if (notebookContainer) {{\n",
       "    x.observe(notebookContainer, {childList: true});\n",
       "}}\n",
       "\n",
       "// Listen for the clearing of the current output cell\n",
       "var outputEl = gd.closest('.output');\n",
       "if (outputEl) {{\n",
       "    x.observe(outputEl, {childList: true});\n",
       "}}\n",
       "\n",
       "                        })                };                });            </script>        </div>"
      ]
     },
     "metadata": {},
     "output_type": "display_data"
    }
   ],
   "source": [
    "data_hp = hp_avg_rat\n",
    "fig = px.bar(data_hp, x=hp_avg_rat.index, y='count',color=hp_avg_rat.index,height=400)\n",
    "fig.show()"
   ]
  },
  {
   "cell_type": "markdown",
   "id": "characteristic-match",
   "metadata": {},
   "source": [
    "**Let's make a list with all the genres, and make a graph to see which genre is the most popular**"
   ]
  },
  {
   "cell_type": "code",
   "execution_count": 125,
   "id": "naughty-inspiration",
   "metadata": {
    "scrolled": true
   },
   "outputs": [
    {
     "name": "stdout",
     "output_type": "stream",
     "text": [
      "['Classics', 'Fiction', 'Romance', 'Historical > Historical Fiction', 'Gothic', 'Literature', 'Historical', 'Literature > 19th Century', 'Academic > School', 'Classics > Classic Literature']\n",
      "['Fiction', 'Contemporary', 'Womens Fiction > Chick Lit', 'Young Adult', 'Drama', 'Adult', 'Adult Fiction', 'Realistic Fiction', 'Family', 'Novels']\n",
      "['Historical > Historical Fiction', 'Romance', 'Fantasy', 'Fiction', 'Science Fiction > Time Travel', 'Historical', 'Romance > Historical Romance', 'Adult', 'Audiobook', 'Cultural > Scotland']\n",
      "['Fantasy', 'Classics', 'Fiction', 'Young Adult', 'Childrens', 'Christian', 'Adventure', 'Childrens > Middle Grade', 'Science Fiction Fantasy', 'Christian Fiction']\n",
      "['Young Adult', 'Romance', 'Fiction', 'Contemporary', 'Realistic Fiction', 'Young Adult > Teen', 'Young Adult > Coming Of Age', 'Novels', 'Drama', 'Love']\n",
      "['Fantasy', 'Young Adult', 'Fiction', 'Childrens', 'Adventure', 'Science Fiction', 'Childrens > Middle Grade', 'Science Fiction Fantasy', 'Science Fiction > Steampunk', 'Classics']\n",
      "['Fiction', 'Mystery', 'Young Adult', 'Contemporary', 'Fantasy', 'Mystery > Crime', 'Adult', 'Adult Fiction', 'Thriller', 'Drama']\n",
      "['Fiction', 'Historical > Historical Fiction', 'Contemporary', 'Novels', 'Historical', 'War', 'Adult', 'Adult Fiction', 'Drama', 'Literature']\n",
      "['Classics', 'Fiction', 'Science Fiction', 'Science Fiction > Dystopia', 'Academic > School', 'Literature', 'Novels', 'Fantasy', 'Adult', 'Audiobook']\n",
      "['Young Adult', 'Science Fiction > Dystopia', 'Fiction', 'Fantasy', 'Science Fiction', 'Romance', 'Adventure', 'Young Adult > Teen', 'Apocalyptic > Post Apocalyptic', 'Action']\n",
      "['Fantasy', 'Fiction', 'Fantasy > Epic Fantasy', 'Adult', 'Fantasy > High Fantasy', 'Science Fiction Fantasy', 'Adventure', 'Audiobook', 'Fantasy > Dragons', 'Epic']\n",
      "['Fantasy', 'Young Adult', 'Fiction', 'Fantasy > Magic', 'Childrens', 'Adventure', 'Audiobook', 'Childrens > Middle Grade', 'Classics', 'Science Fiction Fantasy']\n",
      "['Classics', 'Fiction', 'Poetry', 'Fantasy > Mythology', 'Fantasy', 'Academic > School', 'Literature', 'Adventure', 'Academic > Read For School', 'Historical > Historical Fiction']\n",
      "['Classics', 'Fiction', 'Historical > Historical Fiction', 'Young Adult', 'Young Adult > Coming Of Age', 'Historical', 'Literature', 'New York', 'Novels', 'Book Club']\n",
      "['Horror', 'Fiction', 'Fantasy', 'Science Fiction', 'Apocalyptic > Post Apocalyptic', 'Thriller', 'Science Fiction > Dystopia', 'Science Fiction > Apocalyptic', 'Audiobook', 'Classics']\n",
      "['Classics', 'Fiction', 'Literature', 'Adventure', 'Novels', 'Historical > Historical Fiction', 'Literature > American', 'Literature > 19th Century', 'Classics > Classic Literature', 'Audiobook']\n",
      "['Classics', 'Fiction', 'Fantasy', 'Childrens', 'Cultural > France', 'Young Adult', 'Philosophy', 'Literature', 'Childrens > Middle Grade', 'European Literature > French Literature']\n",
      "['Classics', 'Fiction', 'Romance', 'Cultural > Russia', 'Historical > Historical Fiction', 'Literature > Russian Literature', 'Literature', 'Novels', 'Literature > 19th Century', 'Historical']\n",
      "['Classics', 'Fiction', 'Historical > Historical Fiction', 'War', 'Humor', 'Literature', 'Novels', 'Literature > American', 'Unfinished', 'Historical']\n",
      "['Classics', 'Fiction', 'Science Fiction > Dystopia', 'Fantasy', 'Literature', 'Politics', 'Academic > School', 'Science Fiction', 'Novels', 'Academic > Read For School']\n",
      "['Classics', 'Horror', 'Fiction', 'Fantasy', 'Paranormal > Vampires', 'Gothic', 'Fantasy > Paranormal', 'Literature', 'Audiobook', 'Literature > 19th Century']\n",
      "['Classics', 'Fiction', 'Mystery', 'Gothic', 'Romance', 'Historical > Historical Fiction', 'Thriller', 'Suspense', 'Thriller > Mystery Thriller', 'Horror']\n",
      "['Classics', 'Plays', 'Fiction', 'Romance', 'Academic > School', 'Drama', 'Academic > Read For School', 'Literature', 'Young Adult > High School', 'Poetry']\n",
      "['Fiction', 'Classics', 'Fantasy', 'Philosophy', 'Novels', 'Spirituality', 'Self Help', 'Literature', 'Adventure', 'Inspirational']\n",
      "['Classics', 'Historical > Historical Fiction', 'Fiction', 'Romance', 'Historical', 'War', 'Literature', 'Military History > Civil War', 'Romance > Historical Romance', 'Novels']\n",
      "['Fiction', 'Romance', 'Fantasy', 'Science Fiction > Time Travel', 'Science Fiction', 'Contemporary', 'Adult', 'Womens Fiction > Chick Lit', 'Adult Fiction', 'Magical Realism']\n",
      "['Classics', 'Fiction', 'Romance', 'Historical > Historical Fiction', 'Literature', 'Historical', 'Novels', 'Romance > Historical Romance', 'Adult', 'Audiobook']\n",
      "['Historical > Historical Fiction', 'Fiction', 'Young Adult', 'Historical', 'Classics', 'War', 'World War II > Holocaust', 'War > World War II', 'Writing > Books About Books', 'Audiobook']\n",
      "['Classics', 'Fiction', 'Historical > Historical Fiction', 'Young Adult', 'Romance', 'Historical', 'Literature', 'Childrens', 'Classics > Classic Literature', 'Novels']\n",
      "['Classics', 'Fiction', 'Historical > Historical Fiction', 'Literature', 'Historical', 'Novels', 'Academic > School', 'Classics > Classic Literature', 'Literature > 19th Century', 'European Literature > British Literature']\n",
      "['Childrens', 'Childrens > Picture Books', 'Fiction', 'Classics', 'Fantasy', 'Adventure', 'Young Adult', 'Animals', 'Kids', 'Folklore > Monsters']\n",
      "['Fantasy', 'Young Adult', 'Fiction', 'Fantasy > Magic', 'Childrens', 'Adventure', 'Audiobook', 'Childrens > Middle Grade', 'Classics', 'Science Fiction Fantasy']\n",
      "['Classics', 'Fiction', 'Literature', 'Novels', 'Literature > American', 'Academic > School', 'Adventure', 'Classics > Classic Literature', 'Literary Fiction', 'Literature > 20th Century']\n",
      "['Fantasy', 'Fiction', 'Classics', 'Romance', 'Humor', 'Young Adult', 'Adventure', 'Humor > Comedy', 'Science Fiction Fantasy', 'Fantasy > Fairy Tales']\n",
      "['Young Adult', 'Fiction', 'Contemporary', 'Young Adult > Coming Of Age', 'Romance', 'Realistic Fiction', 'Classics', 'LGBT', 'Health > Mental Health', 'Young Adult > Teen']\n",
      "['Classics', 'Young Adult', 'Fiction', 'Academic > School', 'Academic > Read For School', 'Realistic Fiction', 'Young Adult > Coming Of Age', 'Historical > Historical Fiction', 'Contemporary', 'Young Adult > Teen']\n",
      "['Childrens', 'Childrens > Picture Books', 'Classics', 'Fiction', 'Poetry', 'Fantasy', 'Humor', 'Kids', 'Food and Drink > Food', 'Young Adult']\n",
      "['Classics', 'Poetry', 'Horror', 'Fiction', 'Short Stories', 'Mystery', 'Gothic', 'Literature', 'Fantasy', 'Classics > Classic Literature']\n",
      "['Classics', 'Childrens', 'Fiction', 'Young Adult', 'Fantasy', 'Animals', 'Childrens > Middle Grade', 'Academic > School', 'Childrens > Juvenile', 'Childrens > Chapter Books']\n",
      "['Classics', 'Fantasy', 'Fiction', 'Childrens', 'Young Adult', 'Literature', 'Adventure', 'Childrens > Middle Grade', 'Novels', 'Literature > 19th Century']\n",
      "['Classics', 'Fiction', 'Historical > Historical Fiction', 'Literature', 'Cultural > France', 'Historical', 'Novels', 'European Literature > French Literature', 'Romance', 'Classics > Classic Literature']\n",
      "['Fiction', 'Mystery', 'Thriller', 'Mystery > Crime', 'Thriller > Mystery Thriller', 'Suspense', 'Contemporary', 'Adult', 'Adult Fiction', 'Novels']\n",
      "['Nonfiction', 'Autobiography > Memoir', 'Biography', 'Classics', 'Cultural > Ireland', 'Biography > Autobiography', 'Biography Memoir', 'History', 'European Literature > Irish Literature', 'Historical']\n",
      "['Young Adult', 'Fantasy > Paranormal', 'Romance', 'Fantasy > Urban Fantasy', 'Fiction', 'Paranormal > Vampires', 'Fantasy > Supernatural', 'Paranormal > Angels', 'Fantasy > Magic', 'Young Adult > Young Adult Fantasy']\n",
      "['Classics', 'Fiction', 'Literature', 'Historical > Historical Fiction', 'Academic > School', 'Novels', 'Literature > 19th Century', 'Classics > Classic Literature', 'European Literature > British Literature', 'Historical > Victorian']\n",
      "['Classics', 'Fiction', 'Historical > Historical Fiction', 'Academic > School', 'Literature', 'Young Adult', 'Historical', 'Novels', 'Academic > Read For School', 'Young Adult > High School']\n",
      "['Young Adult', 'Fiction', 'Science Fiction > Dystopia', 'Fantasy', 'Science Fiction', 'Romance', 'Adventure', 'Young Adult > Teen', 'Apocalyptic > Post Apocalyptic', 'Action']\n",
      "['Fantasy', 'Young Adult', 'Fantasy > Mythology', 'Fiction', 'Childrens > Middle Grade', 'Adventure', 'Childrens', 'Mythology > Greek Mythology', 'Fantasy > Urban Fantasy', 'Fantasy > Magic']\n",
      "['Classics', 'Fiction', 'Historical > Historical Fiction', 'Literature', 'Young Adult', 'Adventure', 'Academic > School', 'Novels', 'Academic > Read For School', 'Literature > American']\n",
      "['Classics', 'Fiction', 'Childrens', 'Young Adult', 'Historical > Historical Fiction', 'Childrens > Middle Grade', 'Fantasy', 'Literature', 'Historical', 'Audiobook']\n",
      "['Fantasy', 'Fiction', 'Young Adult', 'Fantasy > Magic', 'Childrens', 'Childrens > Middle Grade', 'Adventure', 'Classics', 'Audiobook', 'Science Fiction Fantasy']\n",
      "['Fantasy', 'Fiction', 'Classics', 'Adventure', 'Science Fiction Fantasy', 'Fantasy > Epic Fantasy', 'Fantasy > High Fantasy', 'Young Adult', 'Literature', 'Fantasy > Magic']\n",
      "['Fiction', 'Classics', 'Magical Realism', 'Literature', 'Novels', 'Fantasy', 'Historical > Historical Fiction', 'European Literature > Spanish Literature', 'Literary Fiction', 'Cultural > Latin American']\n",
      "['Fantasy', 'Classics', 'Fiction', 'Adventure', 'Science Fiction Fantasy', 'Fantasy > High Fantasy', 'Fantasy > Epic Fantasy', 'Young Adult', 'Novels', 'Fantasy > Magic']\n",
      "['Classics', 'Fiction', 'Psychology', 'Literature', 'Novels', 'Health > Mental Health', 'Academic > School', 'Literature > American', 'Mental Health > Mental Illness', 'Contemporary']\n",
      "['Fantasy', 'Fiction', 'Classics', 'Young Adult', 'Science Fiction', 'Childrens', 'Childrens > Middle Grade', 'Science Fiction > Time Travel', 'Adventure', 'Science Fiction Fantasy']\n",
      "['Romance', 'Fiction', 'Womens Fiction > Chick Lit', 'Contemporary', 'Adult', 'Adult Fiction', 'Romance > Contemporary Romance', 'Classics', 'Love', 'Drama']\n",
      "['Young Adult', 'Fantasy', 'Paranormal > Vampires', 'Fantasy > Paranormal', 'Romance', 'Fantasy > Urban Fantasy', 'Fiction', 'Fantasy > Supernatural', 'Romance > Paranormal Romance', 'Fantasy > Magic']\n",
      "['Classics', 'Fiction', 'Horror', 'Science Fiction', 'Gothic', 'Fantasy', 'Academic > School', 'Literature', 'Novels', 'Academic > Read For School']\n",
      "['Classics', 'Mystery', 'Fiction', 'Short Stories', 'Mystery > Crime', 'Mystery > Detective', 'Thriller > Mystery Thriller', 'Literature', 'Audiobook', 'Adventure']\n",
      "['Young Adult', 'Fiction', 'Classics', 'Science Fiction > Dystopia', 'Science Fiction', 'Fantasy', 'Academic > School', 'Childrens', 'Childrens > Middle Grade', 'Academic > Read For School']\n",
      "['Childrens', 'Childrens > Picture Books', 'Fiction', 'Classics', 'Poetry', 'Young Adult', 'Fantasy', 'Childrens > Juvenile', 'Kids', 'Short Stories']\n",
      "['Science Fiction', 'Fiction', 'Young Adult', 'Fantasy', 'Classics', 'Science Fiction Fantasy', 'Science Fiction > Dystopia', 'War', 'Audiobook', 'Adventure']\n",
      "['Classics', 'Fiction', 'Literature', 'European Literature > Spanish Literature', 'Adventure', 'Novels', 'Historical > Historical Fiction', 'Cultural > Spain', 'Humor', 'Classics > Classic Literature']\n",
      "['Fiction', 'Classics', 'Science Fiction > Dystopia', 'Science Fiction', 'Feminism', 'Fantasy', 'Adult', 'Audiobook', 'Literature', 'Novels']\n",
      "['Science Fiction', 'Fiction', 'Humor', 'Fantasy', 'Classics', 'Humor > Comedy', 'Science Fiction Fantasy', 'Audiobook', 'Adventure', 'Novels']\n",
      "['Childrens', 'Fiction', 'Classics', 'Fantasy', 'Childrens > Middle Grade', 'Young Adult', 'Humor', 'Audiobook', 'Fantasy > Magic', 'Childrens > Juvenile']\n",
      "['Classics', 'Fiction', 'Science Fiction', 'Science Fiction > Dystopia', 'Literature', 'Novels', 'Politics', 'Academic > School', 'Fantasy', 'Adult']\n",
      "['Classics', 'Fiction', 'Science Fiction', 'Science Fiction > Dystopia', 'Literature', 'Novels', 'Horror', 'Thriller', 'Mystery > Crime', 'Classics > Modern Classics']\n",
      "['Young Adult', 'Fantasy', 'Romance', 'Fiction', 'Paranormal > Vampires', 'Fantasy > Paranormal', 'Romance > Paranormal Romance', 'Fantasy > Supernatural', 'Young Adult > Teen', 'Fantasy > Urban Fantasy']\n",
      "['Fiction', 'Fantasy', 'Classics', 'Adventure', 'Contemporary', 'Novels', 'Magical Realism', 'Literature', 'Cultural > India', 'Philosophy']\n",
      "['Fiction', 'Historical > Historical Fiction', 'Romance', 'Historical', 'Adult', 'Adult Fiction', 'Contemporary', 'Book Club', 'Novels', 'Audiobook']\n",
      "['Horror', 'Fantasy', 'Fiction', 'Paranormal > Vampires', 'Fantasy > Paranormal', 'Classics', 'Fantasy > Supernatural', 'Gothic', 'Fantasy > Urban Fantasy', 'Historical > Historical Fiction']\n",
      "['Fiction', 'Classics', 'Contemporary', 'Literature', 'Novels', 'Literary Fiction', 'Historical > Historical Fiction', 'Young Adult > Coming Of Age', 'Adult Fiction', 'Literature > American']\n",
      "['Science Fiction', 'Fiction', 'Fantasy', 'Classics', 'Science Fiction Fantasy', 'Audiobook', 'Space > Space Opera', 'Novels', 'Adventure', 'Adult']\n",
      "['Fiction', 'Historical > Historical Fiction', 'Historical', 'Adult', 'Adult Fiction', 'Contemporary', 'Classics', 'Audiobook', 'Book Club', 'Womens Fiction > Chick Lit']\n",
      "['Classics', 'Fiction', 'Academic > School', 'Historical > Historical Fiction', 'Literature', 'Romance', 'Novels', 'Academic > Read For School', 'Young Adult > High School', 'Literature > American']\n",
      "['Classics', 'Fiction', 'Cultural > Russia', 'Literature', 'Literature > Russian Literature', 'Philosophy', 'Novels', 'Literature > 19th Century', 'Classics > Classic Literature', 'Religion']\n",
      "['Classics', 'Fiction', 'Science Fiction', 'War', 'Historical > Historical Fiction', 'Literature', 'Novels', 'Science Fiction > Time Travel', 'Literature > American', 'Fantasy']\n",
      "['Fantasy', 'Young Adult', 'Fiction', 'Fantasy > Magic', 'Childrens', 'Childrens > Middle Grade', 'Adventure', 'Audiobook', 'Classics', 'Science Fiction Fantasy']\n",
      "['Historical > Historical Fiction', 'Fiction', 'Historical', 'Fantasy', 'Classics', 'Historical > Medieval', 'Audiobook', 'Novels', 'European Literature > British Literature', 'Adult']\n",
      "['Classics', 'Fiction', 'Young Adult', 'Literature', 'Academic > School', 'Novels', 'Young Adult > Coming Of Age', 'Young Adult > High School', 'Literature > American', 'Academic > Read For School']\n",
      "['Classics', 'Fiction', 'Science Fiction', 'Science Fiction > Dystopia', 'Literature', 'Novels', 'Academic > School', 'Fantasy', 'Philosophy', 'Science Fiction Fantasy']\n",
      "['Classics', 'Fiction', 'Philosophy', 'Spirituality', 'Religion', 'Literature', 'Religion > Buddhism', 'European Literature > German Literature', 'Novels', 'Historical > Historical Fiction']\n",
      "['Classics', 'Fiction', 'Historical > Historical Fiction', 'Feminism', 'LGBT', 'Historical', 'Cultural > African American', 'Literature', 'Novels', 'Adult']\n",
      "['Classics', 'Fiction', 'Horror', 'Fantasy', 'Literature', 'Gothic', 'Novels', 'Literature > 19th Century', 'LGBT', 'Classics > Classic Literature']\n",
      "['Classics', 'Fiction', 'Romance', 'Gothic', 'Literature', 'Historical > Historical Fiction', 'Literature > 19th Century', 'Novels', 'Classics > Classic Literature', 'Historical']\n",
      "['Fiction', 'Science Fiction', 'Science Fiction > Dystopia', 'Apocalyptic > Post Apocalyptic', 'Classics', 'Horror', 'Literature', 'Novels', 'Science Fiction > Apocalyptic', 'Contemporary']\n",
      "['Classics', 'Fiction', 'Feminism', 'Health > Mental Health', 'Psychology', 'Literature', 'Mental Health > Mental Illness', 'Novels', 'Poetry', 'Literary Fiction']\n",
      "['Fiction', 'Classics', 'Philosophy', 'Literature', 'Politics', 'Science Fiction', 'Novels', 'Science Fiction > Dystopia', 'Economics', 'Business']\n",
      "['Classics', 'Fiction', 'Cultural > Russia', 'Literature', 'Literature > Russian Literature', 'Philosophy', 'Novels', 'Mystery > Crime', 'Literature > 19th Century', 'Academic > School']\n",
      "['Fiction', 'Historical > Historical Fiction', 'Cultural > Africa', 'Classics', 'Historical', 'Literary Fiction', 'Literature', 'Novels', 'Religion', 'Adult Fiction']\n",
      "['Classics', 'Fiction', 'Literature', 'Novels', 'Cultural > Russia', 'Romance', 'Literature > Russian Literature', 'Literary Fiction', 'Literature > 20th Century', 'Adult']\n",
      "['Classics', 'Fiction', 'Young Adult', 'Academic > School', 'Literature', 'Science Fiction > Dystopia', 'Novels', 'Academic > Read For School', 'Young Adult > High School', 'Adventure']\n",
      "['Classics', 'Fiction', 'Fantasy', 'Young Adult', 'Animals', 'Childrens', 'Adventure', 'Literature', 'Novels', 'Audiobook']\n",
      "['Fiction', 'Historical > Historical Fiction', 'Contemporary', 'Classics', 'Novels', 'Historical', 'Adult', 'Literature', 'Adult Fiction', 'Drama']\n",
      "['Classics', 'Fiction', 'Young Adult', 'Childrens', 'Historical > Historical Fiction', 'Childrens > Middle Grade', 'Historical', 'Audiobook', 'Cultural > Canada', 'Young Adult > Coming Of Age']\n",
      "['Classics', 'Fiction', 'Academic > School', 'Historical > Historical Fiction', 'Literature', 'Academic > Read For School', 'Novels', 'Young Adult > High School', 'Literature > American', 'Classics > Classic Literature']\n",
      "['Fiction', 'Historical > Historical Fiction', 'Romance', 'Historical', 'Classics', 'Cultural > Japan', 'Adult', 'Novels', 'Cultural > Asia', 'Adult Fiction']\n",
      "['Fiction', 'Mystery', 'Thriller', 'Suspense', 'Thriller > Mystery Thriller', 'Historical > Historical Fiction', 'Adventure', 'Novels', 'Mystery > Crime', 'Adult']\n",
      "['Classics', 'Childrens', 'Fiction', 'Fantasy', 'Animals', 'Childrens > Picture Books', 'Young Adult', 'Audiobook', 'Childrens > Middle Grade', 'Childrens > Juvenile']\n"
     ]
    }
   ],
   "source": [
    "genre = []\n",
    "for i in range(0,books.shape[0]):\n",
    "    print(books.iloc[i]['genres'])\n",
    "    row_genre = eval(books.iloc[i]['genres'])\n",
    "    genre = genre + row_genre"
   ]
  },
  {
   "cell_type": "code",
   "execution_count": 147,
   "id": "extreme-multimedia",
   "metadata": {},
   "outputs": [
    {
     "data": {
      "text/plain": [
       "['Classics',\n",
       " 'Fiction',\n",
       " 'Romance',\n",
       " 'Historical > Historical Fiction',\n",
       " 'Gothic',\n",
       " 'Literature',\n",
       " 'Historical',\n",
       " 'Literature > 19th Century',\n",
       " 'Academic > School',\n",
       " 'Classics > Classic Literature',\n",
       " 'Fiction',\n",
       " 'Contemporary',\n",
       " 'Womens Fiction > Chick Lit',\n",
       " 'Young Adult',\n",
       " 'Drama',\n",
       " 'Adult',\n",
       " 'Adult Fiction',\n",
       " 'Realistic Fiction',\n",
       " 'Family',\n",
       " 'Novels',\n",
       " 'Historical > Historical Fiction',\n",
       " 'Romance',\n",
       " 'Fantasy',\n",
       " 'Fiction',\n",
       " 'Science Fiction > Time Travel',\n",
       " 'Historical',\n",
       " 'Romance > Historical Romance',\n",
       " 'Adult',\n",
       " 'Audiobook',\n",
       " 'Cultural > Scotland',\n",
       " 'Fantasy',\n",
       " 'Classics',\n",
       " 'Fiction',\n",
       " 'Young Adult',\n",
       " 'Childrens',\n",
       " 'Christian',\n",
       " 'Adventure',\n",
       " 'Childrens > Middle Grade',\n",
       " 'Science Fiction Fantasy',\n",
       " 'Christian Fiction',\n",
       " 'Young Adult',\n",
       " 'Romance',\n",
       " 'Fiction',\n",
       " 'Contemporary',\n",
       " 'Realistic Fiction',\n",
       " 'Young Adult > Teen',\n",
       " 'Young Adult > Coming Of Age',\n",
       " 'Novels',\n",
       " 'Drama',\n",
       " 'Love',\n",
       " 'Fantasy',\n",
       " 'Young Adult',\n",
       " 'Fiction',\n",
       " 'Childrens',\n",
       " 'Adventure',\n",
       " 'Science Fiction',\n",
       " 'Childrens > Middle Grade',\n",
       " 'Science Fiction Fantasy',\n",
       " 'Science Fiction > Steampunk',\n",
       " 'Classics',\n",
       " 'Fiction',\n",
       " 'Mystery',\n",
       " 'Young Adult',\n",
       " 'Contemporary',\n",
       " 'Fantasy',\n",
       " 'Mystery > Crime',\n",
       " 'Adult',\n",
       " 'Adult Fiction',\n",
       " 'Thriller',\n",
       " 'Drama',\n",
       " 'Fiction',\n",
       " 'Historical > Historical Fiction',\n",
       " 'Contemporary',\n",
       " 'Novels',\n",
       " 'Historical',\n",
       " 'War',\n",
       " 'Adult',\n",
       " 'Adult Fiction',\n",
       " 'Drama',\n",
       " 'Literature',\n",
       " 'Classics',\n",
       " 'Fiction',\n",
       " 'Science Fiction',\n",
       " 'Science Fiction > Dystopia',\n",
       " 'Academic > School',\n",
       " 'Literature',\n",
       " 'Novels',\n",
       " 'Fantasy',\n",
       " 'Adult',\n",
       " 'Audiobook',\n",
       " 'Young Adult',\n",
       " 'Science Fiction > Dystopia',\n",
       " 'Fiction',\n",
       " 'Fantasy',\n",
       " 'Science Fiction',\n",
       " 'Romance',\n",
       " 'Adventure',\n",
       " 'Young Adult > Teen',\n",
       " 'Apocalyptic > Post Apocalyptic',\n",
       " 'Action',\n",
       " 'Fantasy',\n",
       " 'Fiction',\n",
       " 'Fantasy > Epic Fantasy',\n",
       " 'Adult',\n",
       " 'Fantasy > High Fantasy',\n",
       " 'Science Fiction Fantasy',\n",
       " 'Adventure',\n",
       " 'Audiobook',\n",
       " 'Fantasy > Dragons',\n",
       " 'Epic',\n",
       " 'Fantasy',\n",
       " 'Young Adult',\n",
       " 'Fiction',\n",
       " 'Fantasy > Magic',\n",
       " 'Childrens',\n",
       " 'Adventure',\n",
       " 'Audiobook',\n",
       " 'Childrens > Middle Grade',\n",
       " 'Classics',\n",
       " 'Science Fiction Fantasy',\n",
       " 'Classics',\n",
       " 'Fiction',\n",
       " 'Poetry',\n",
       " 'Fantasy > Mythology',\n",
       " 'Fantasy',\n",
       " 'Academic > School',\n",
       " 'Literature',\n",
       " 'Adventure',\n",
       " 'Academic > Read For School',\n",
       " 'Historical > Historical Fiction',\n",
       " 'Classics',\n",
       " 'Fiction',\n",
       " 'Historical > Historical Fiction',\n",
       " 'Young Adult',\n",
       " 'Young Adult > Coming Of Age',\n",
       " 'Historical',\n",
       " 'Literature',\n",
       " 'New York',\n",
       " 'Novels',\n",
       " 'Book Club',\n",
       " 'Horror',\n",
       " 'Fiction',\n",
       " 'Fantasy',\n",
       " 'Science Fiction',\n",
       " 'Apocalyptic > Post Apocalyptic',\n",
       " 'Thriller',\n",
       " 'Science Fiction > Dystopia',\n",
       " 'Science Fiction > Apocalyptic',\n",
       " 'Audiobook',\n",
       " 'Classics',\n",
       " 'Classics',\n",
       " 'Fiction',\n",
       " 'Literature',\n",
       " 'Adventure',\n",
       " 'Novels',\n",
       " 'Historical > Historical Fiction',\n",
       " 'Literature > American',\n",
       " 'Literature > 19th Century',\n",
       " 'Classics > Classic Literature',\n",
       " 'Audiobook',\n",
       " 'Classics',\n",
       " 'Fiction',\n",
       " 'Fantasy',\n",
       " 'Childrens',\n",
       " 'Cultural > France',\n",
       " 'Young Adult',\n",
       " 'Philosophy',\n",
       " 'Literature',\n",
       " 'Childrens > Middle Grade',\n",
       " 'European Literature > French Literature',\n",
       " 'Classics',\n",
       " 'Fiction',\n",
       " 'Romance',\n",
       " 'Cultural > Russia',\n",
       " 'Historical > Historical Fiction',\n",
       " 'Literature > Russian Literature',\n",
       " 'Literature',\n",
       " 'Novels',\n",
       " 'Literature > 19th Century',\n",
       " 'Historical',\n",
       " 'Classics',\n",
       " 'Fiction',\n",
       " 'Historical > Historical Fiction',\n",
       " 'War',\n",
       " 'Humor',\n",
       " 'Literature',\n",
       " 'Novels',\n",
       " 'Literature > American',\n",
       " 'Unfinished',\n",
       " 'Historical',\n",
       " 'Classics',\n",
       " 'Fiction',\n",
       " 'Science Fiction > Dystopia',\n",
       " 'Fantasy',\n",
       " 'Literature',\n",
       " 'Politics',\n",
       " 'Academic > School',\n",
       " 'Science Fiction',\n",
       " 'Novels',\n",
       " 'Academic > Read For School',\n",
       " 'Classics',\n",
       " 'Horror',\n",
       " 'Fiction',\n",
       " 'Fantasy',\n",
       " 'Paranormal > Vampires',\n",
       " 'Gothic',\n",
       " 'Fantasy > Paranormal',\n",
       " 'Literature',\n",
       " 'Audiobook',\n",
       " 'Literature > 19th Century',\n",
       " 'Classics',\n",
       " 'Fiction',\n",
       " 'Mystery',\n",
       " 'Gothic',\n",
       " 'Romance',\n",
       " 'Historical > Historical Fiction',\n",
       " 'Thriller',\n",
       " 'Suspense',\n",
       " 'Thriller > Mystery Thriller',\n",
       " 'Horror',\n",
       " 'Classics',\n",
       " 'Plays',\n",
       " 'Fiction',\n",
       " 'Romance',\n",
       " 'Academic > School',\n",
       " 'Drama',\n",
       " 'Academic > Read For School',\n",
       " 'Literature',\n",
       " 'Young Adult > High School',\n",
       " 'Poetry',\n",
       " 'Fiction',\n",
       " 'Classics',\n",
       " 'Fantasy',\n",
       " 'Philosophy',\n",
       " 'Novels',\n",
       " 'Spirituality',\n",
       " 'Self Help',\n",
       " 'Literature',\n",
       " 'Adventure',\n",
       " 'Inspirational',\n",
       " 'Classics',\n",
       " 'Historical > Historical Fiction',\n",
       " 'Fiction',\n",
       " 'Romance',\n",
       " 'Historical',\n",
       " 'War',\n",
       " 'Literature',\n",
       " 'Military History > Civil War',\n",
       " 'Romance > Historical Romance',\n",
       " 'Novels',\n",
       " 'Fiction',\n",
       " 'Romance',\n",
       " 'Fantasy',\n",
       " 'Science Fiction > Time Travel',\n",
       " 'Science Fiction',\n",
       " 'Contemporary',\n",
       " 'Adult',\n",
       " 'Womens Fiction > Chick Lit',\n",
       " 'Adult Fiction',\n",
       " 'Magical Realism',\n",
       " 'Classics',\n",
       " 'Fiction',\n",
       " 'Romance',\n",
       " 'Historical > Historical Fiction',\n",
       " 'Literature',\n",
       " 'Historical',\n",
       " 'Novels',\n",
       " 'Romance > Historical Romance',\n",
       " 'Adult',\n",
       " 'Audiobook',\n",
       " 'Historical > Historical Fiction',\n",
       " 'Fiction',\n",
       " 'Young Adult',\n",
       " 'Historical',\n",
       " 'Classics',\n",
       " 'War',\n",
       " 'World War II > Holocaust',\n",
       " 'War > World War II',\n",
       " 'Writing > Books About Books',\n",
       " 'Audiobook',\n",
       " 'Classics',\n",
       " 'Fiction',\n",
       " 'Historical > Historical Fiction',\n",
       " 'Young Adult',\n",
       " 'Romance',\n",
       " 'Historical',\n",
       " 'Literature',\n",
       " 'Childrens',\n",
       " 'Classics > Classic Literature',\n",
       " 'Novels',\n",
       " 'Classics',\n",
       " 'Fiction',\n",
       " 'Historical > Historical Fiction',\n",
       " 'Literature',\n",
       " 'Historical',\n",
       " 'Novels',\n",
       " 'Academic > School',\n",
       " 'Classics > Classic Literature',\n",
       " 'Literature > 19th Century',\n",
       " 'European Literature > British Literature',\n",
       " 'Childrens',\n",
       " 'Childrens > Picture Books',\n",
       " 'Fiction',\n",
       " 'Classics',\n",
       " 'Fantasy',\n",
       " 'Adventure',\n",
       " 'Young Adult',\n",
       " 'Animals',\n",
       " 'Kids',\n",
       " 'Folklore > Monsters',\n",
       " 'Fantasy',\n",
       " 'Young Adult',\n",
       " 'Fiction',\n",
       " 'Fantasy > Magic',\n",
       " 'Childrens',\n",
       " 'Adventure',\n",
       " 'Audiobook',\n",
       " 'Childrens > Middle Grade',\n",
       " 'Classics',\n",
       " 'Science Fiction Fantasy',\n",
       " 'Classics',\n",
       " 'Fiction',\n",
       " 'Literature',\n",
       " 'Novels',\n",
       " 'Literature > American',\n",
       " 'Academic > School',\n",
       " 'Adventure',\n",
       " 'Classics > Classic Literature',\n",
       " 'Literary Fiction',\n",
       " 'Literature > 20th Century',\n",
       " 'Fantasy',\n",
       " 'Fiction',\n",
       " 'Classics',\n",
       " 'Romance',\n",
       " 'Humor',\n",
       " 'Young Adult',\n",
       " 'Adventure',\n",
       " 'Humor > Comedy',\n",
       " 'Science Fiction Fantasy',\n",
       " 'Fantasy > Fairy Tales',\n",
       " 'Young Adult',\n",
       " 'Fiction',\n",
       " 'Contemporary',\n",
       " 'Young Adult > Coming Of Age',\n",
       " 'Romance',\n",
       " 'Realistic Fiction',\n",
       " 'Classics',\n",
       " 'LGBT',\n",
       " 'Health > Mental Health',\n",
       " 'Young Adult > Teen',\n",
       " 'Classics',\n",
       " 'Young Adult',\n",
       " 'Fiction',\n",
       " 'Academic > School',\n",
       " 'Academic > Read For School',\n",
       " 'Realistic Fiction',\n",
       " 'Young Adult > Coming Of Age',\n",
       " 'Historical > Historical Fiction',\n",
       " 'Contemporary',\n",
       " 'Young Adult > Teen',\n",
       " 'Childrens',\n",
       " 'Childrens > Picture Books',\n",
       " 'Classics',\n",
       " 'Fiction',\n",
       " 'Poetry',\n",
       " 'Fantasy',\n",
       " 'Humor',\n",
       " 'Kids',\n",
       " 'Food and Drink > Food',\n",
       " 'Young Adult',\n",
       " 'Classics',\n",
       " 'Poetry',\n",
       " 'Horror',\n",
       " 'Fiction',\n",
       " 'Short Stories',\n",
       " 'Mystery',\n",
       " 'Gothic',\n",
       " 'Literature',\n",
       " 'Fantasy',\n",
       " 'Classics > Classic Literature',\n",
       " 'Classics',\n",
       " 'Childrens',\n",
       " 'Fiction',\n",
       " 'Young Adult',\n",
       " 'Fantasy',\n",
       " 'Animals',\n",
       " 'Childrens > Middle Grade',\n",
       " 'Academic > School',\n",
       " 'Childrens > Juvenile',\n",
       " 'Childrens > Chapter Books',\n",
       " 'Classics',\n",
       " 'Fantasy',\n",
       " 'Fiction',\n",
       " 'Childrens',\n",
       " 'Young Adult',\n",
       " 'Literature',\n",
       " 'Adventure',\n",
       " 'Childrens > Middle Grade',\n",
       " 'Novels',\n",
       " 'Literature > 19th Century',\n",
       " 'Classics',\n",
       " 'Fiction',\n",
       " 'Historical > Historical Fiction',\n",
       " 'Literature',\n",
       " 'Cultural > France',\n",
       " 'Historical',\n",
       " 'Novels',\n",
       " 'European Literature > French Literature',\n",
       " 'Romance',\n",
       " 'Classics > Classic Literature',\n",
       " 'Fiction',\n",
       " 'Mystery',\n",
       " 'Thriller',\n",
       " 'Mystery > Crime',\n",
       " 'Thriller > Mystery Thriller',\n",
       " 'Suspense',\n",
       " 'Contemporary',\n",
       " 'Adult',\n",
       " 'Adult Fiction',\n",
       " 'Novels',\n",
       " 'Nonfiction',\n",
       " 'Autobiography > Memoir',\n",
       " 'Biography',\n",
       " 'Classics',\n",
       " 'Cultural > Ireland',\n",
       " 'Biography > Autobiography',\n",
       " 'Biography Memoir',\n",
       " 'History',\n",
       " 'European Literature > Irish Literature',\n",
       " 'Historical',\n",
       " 'Young Adult',\n",
       " 'Fantasy > Paranormal',\n",
       " 'Romance',\n",
       " 'Fantasy > Urban Fantasy',\n",
       " 'Fiction',\n",
       " 'Paranormal > Vampires',\n",
       " 'Fantasy > Supernatural',\n",
       " 'Paranormal > Angels',\n",
       " 'Fantasy > Magic',\n",
       " 'Young Adult > Young Adult Fantasy',\n",
       " 'Classics',\n",
       " 'Fiction',\n",
       " 'Literature',\n",
       " 'Historical > Historical Fiction',\n",
       " 'Academic > School',\n",
       " 'Novels',\n",
       " 'Literature > 19th Century',\n",
       " 'Classics > Classic Literature',\n",
       " 'European Literature > British Literature',\n",
       " 'Historical > Victorian',\n",
       " 'Classics',\n",
       " 'Fiction',\n",
       " 'Historical > Historical Fiction',\n",
       " 'Academic > School',\n",
       " 'Literature',\n",
       " 'Young Adult',\n",
       " 'Historical',\n",
       " 'Novels',\n",
       " 'Academic > Read For School',\n",
       " 'Young Adult > High School',\n",
       " 'Young Adult',\n",
       " 'Fiction',\n",
       " 'Science Fiction > Dystopia',\n",
       " 'Fantasy',\n",
       " 'Science Fiction',\n",
       " 'Romance',\n",
       " 'Adventure',\n",
       " 'Young Adult > Teen',\n",
       " 'Apocalyptic > Post Apocalyptic',\n",
       " 'Action',\n",
       " 'Fantasy',\n",
       " 'Young Adult',\n",
       " 'Fantasy > Mythology',\n",
       " 'Fiction',\n",
       " 'Childrens > Middle Grade',\n",
       " 'Adventure',\n",
       " 'Childrens',\n",
       " 'Mythology > Greek Mythology',\n",
       " 'Fantasy > Urban Fantasy',\n",
       " 'Fantasy > Magic',\n",
       " 'Classics',\n",
       " 'Fiction',\n",
       " 'Historical > Historical Fiction',\n",
       " 'Literature',\n",
       " 'Young Adult',\n",
       " 'Adventure',\n",
       " 'Academic > School',\n",
       " 'Novels',\n",
       " 'Academic > Read For School',\n",
       " 'Literature > American',\n",
       " 'Classics',\n",
       " 'Fiction',\n",
       " 'Childrens',\n",
       " 'Young Adult',\n",
       " 'Historical > Historical Fiction',\n",
       " 'Childrens > Middle Grade',\n",
       " 'Fantasy',\n",
       " 'Literature',\n",
       " 'Historical',\n",
       " 'Audiobook',\n",
       " 'Fantasy',\n",
       " 'Fiction',\n",
       " 'Young Adult',\n",
       " 'Fantasy > Magic',\n",
       " 'Childrens',\n",
       " 'Childrens > Middle Grade',\n",
       " 'Adventure',\n",
       " 'Classics',\n",
       " 'Audiobook',\n",
       " 'Science Fiction Fantasy',\n",
       " 'Fantasy',\n",
       " 'Fiction',\n",
       " 'Classics',\n",
       " 'Adventure',\n",
       " 'Science Fiction Fantasy',\n",
       " 'Fantasy > Epic Fantasy',\n",
       " 'Fantasy > High Fantasy',\n",
       " 'Young Adult',\n",
       " 'Literature',\n",
       " 'Fantasy > Magic',\n",
       " 'Fiction',\n",
       " 'Classics',\n",
       " 'Magical Realism',\n",
       " 'Literature',\n",
       " 'Novels',\n",
       " 'Fantasy',\n",
       " 'Historical > Historical Fiction',\n",
       " 'European Literature > Spanish Literature',\n",
       " 'Literary Fiction',\n",
       " 'Cultural > Latin American',\n",
       " 'Fantasy',\n",
       " 'Classics',\n",
       " 'Fiction',\n",
       " 'Adventure',\n",
       " 'Science Fiction Fantasy',\n",
       " 'Fantasy > High Fantasy',\n",
       " 'Fantasy > Epic Fantasy',\n",
       " 'Young Adult',\n",
       " 'Novels',\n",
       " 'Fantasy > Magic',\n",
       " 'Classics',\n",
       " 'Fiction',\n",
       " 'Psychology',\n",
       " 'Literature',\n",
       " 'Novels',\n",
       " 'Health > Mental Health',\n",
       " 'Academic > School',\n",
       " 'Literature > American',\n",
       " 'Mental Health > Mental Illness',\n",
       " 'Contemporary',\n",
       " 'Fantasy',\n",
       " 'Fiction',\n",
       " 'Classics',\n",
       " 'Young Adult',\n",
       " 'Science Fiction',\n",
       " 'Childrens',\n",
       " 'Childrens > Middle Grade',\n",
       " 'Science Fiction > Time Travel',\n",
       " 'Adventure',\n",
       " 'Science Fiction Fantasy',\n",
       " 'Romance',\n",
       " 'Fiction',\n",
       " 'Womens Fiction > Chick Lit',\n",
       " 'Contemporary',\n",
       " 'Adult',\n",
       " 'Adult Fiction',\n",
       " 'Romance > Contemporary Romance',\n",
       " 'Classics',\n",
       " 'Love',\n",
       " 'Drama',\n",
       " 'Young Adult',\n",
       " 'Fantasy',\n",
       " 'Paranormal > Vampires',\n",
       " 'Fantasy > Paranormal',\n",
       " 'Romance',\n",
       " 'Fantasy > Urban Fantasy',\n",
       " 'Fiction',\n",
       " 'Fantasy > Supernatural',\n",
       " 'Romance > Paranormal Romance',\n",
       " 'Fantasy > Magic',\n",
       " 'Classics',\n",
       " 'Fiction',\n",
       " 'Horror',\n",
       " 'Science Fiction',\n",
       " 'Gothic',\n",
       " 'Fantasy',\n",
       " 'Academic > School',\n",
       " 'Literature',\n",
       " 'Novels',\n",
       " 'Academic > Read For School',\n",
       " 'Classics',\n",
       " 'Mystery',\n",
       " 'Fiction',\n",
       " 'Short Stories',\n",
       " 'Mystery > Crime',\n",
       " 'Mystery > Detective',\n",
       " 'Thriller > Mystery Thriller',\n",
       " 'Literature',\n",
       " 'Audiobook',\n",
       " 'Adventure',\n",
       " 'Young Adult',\n",
       " 'Fiction',\n",
       " 'Classics',\n",
       " 'Science Fiction > Dystopia',\n",
       " 'Science Fiction',\n",
       " 'Fantasy',\n",
       " 'Academic > School',\n",
       " 'Childrens',\n",
       " 'Childrens > Middle Grade',\n",
       " 'Academic > Read For School',\n",
       " 'Childrens',\n",
       " 'Childrens > Picture Books',\n",
       " 'Fiction',\n",
       " 'Classics',\n",
       " 'Poetry',\n",
       " 'Young Adult',\n",
       " 'Fantasy',\n",
       " 'Childrens > Juvenile',\n",
       " 'Kids',\n",
       " 'Short Stories',\n",
       " 'Science Fiction',\n",
       " 'Fiction',\n",
       " 'Young Adult',\n",
       " 'Fantasy',\n",
       " 'Classics',\n",
       " 'Science Fiction Fantasy',\n",
       " 'Science Fiction > Dystopia',\n",
       " 'War',\n",
       " 'Audiobook',\n",
       " 'Adventure',\n",
       " 'Classics',\n",
       " 'Fiction',\n",
       " 'Literature',\n",
       " 'European Literature > Spanish Literature',\n",
       " 'Adventure',\n",
       " 'Novels',\n",
       " 'Historical > Historical Fiction',\n",
       " 'Cultural > Spain',\n",
       " 'Humor',\n",
       " 'Classics > Classic Literature',\n",
       " 'Fiction',\n",
       " 'Classics',\n",
       " 'Science Fiction > Dystopia',\n",
       " 'Science Fiction',\n",
       " 'Feminism',\n",
       " 'Fantasy',\n",
       " 'Adult',\n",
       " 'Audiobook',\n",
       " 'Literature',\n",
       " 'Novels',\n",
       " 'Science Fiction',\n",
       " 'Fiction',\n",
       " 'Humor',\n",
       " 'Fantasy',\n",
       " 'Classics',\n",
       " 'Humor > Comedy',\n",
       " 'Science Fiction Fantasy',\n",
       " 'Audiobook',\n",
       " 'Adventure',\n",
       " 'Novels',\n",
       " 'Childrens',\n",
       " 'Fiction',\n",
       " 'Classics',\n",
       " 'Fantasy',\n",
       " 'Childrens > Middle Grade',\n",
       " 'Young Adult',\n",
       " 'Humor',\n",
       " 'Audiobook',\n",
       " 'Fantasy > Magic',\n",
       " 'Childrens > Juvenile',\n",
       " 'Classics',\n",
       " 'Fiction',\n",
       " 'Science Fiction',\n",
       " 'Science Fiction > Dystopia',\n",
       " 'Literature',\n",
       " 'Novels',\n",
       " 'Politics',\n",
       " 'Academic > School',\n",
       " 'Fantasy',\n",
       " 'Adult',\n",
       " 'Classics',\n",
       " 'Fiction',\n",
       " 'Science Fiction',\n",
       " 'Science Fiction > Dystopia',\n",
       " 'Literature',\n",
       " 'Novels',\n",
       " 'Horror',\n",
       " 'Thriller',\n",
       " 'Mystery > Crime',\n",
       " 'Classics > Modern Classics',\n",
       " 'Young Adult',\n",
       " 'Fantasy',\n",
       " 'Romance',\n",
       " 'Fiction',\n",
       " 'Paranormal > Vampires',\n",
       " 'Fantasy > Paranormal',\n",
       " 'Romance > Paranormal Romance',\n",
       " 'Fantasy > Supernatural',\n",
       " 'Young Adult > Teen',\n",
       " 'Fantasy > Urban Fantasy',\n",
       " 'Fiction',\n",
       " 'Fantasy',\n",
       " 'Classics',\n",
       " 'Adventure',\n",
       " 'Contemporary',\n",
       " 'Novels',\n",
       " 'Magical Realism',\n",
       " 'Literature',\n",
       " 'Cultural > India',\n",
       " 'Philosophy',\n",
       " 'Fiction',\n",
       " 'Historical > Historical Fiction',\n",
       " 'Romance',\n",
       " 'Historical',\n",
       " 'Adult',\n",
       " 'Adult Fiction',\n",
       " 'Contemporary',\n",
       " 'Book Club',\n",
       " 'Novels',\n",
       " 'Audiobook',\n",
       " 'Horror',\n",
       " 'Fantasy',\n",
       " 'Fiction',\n",
       " 'Paranormal > Vampires',\n",
       " 'Fantasy > Paranormal',\n",
       " 'Classics',\n",
       " 'Fantasy > Supernatural',\n",
       " 'Gothic',\n",
       " 'Fantasy > Urban Fantasy',\n",
       " 'Historical > Historical Fiction',\n",
       " 'Fiction',\n",
       " 'Classics',\n",
       " 'Contemporary',\n",
       " 'Literature',\n",
       " 'Novels',\n",
       " 'Literary Fiction',\n",
       " 'Historical > Historical Fiction',\n",
       " 'Young Adult > Coming Of Age',\n",
       " 'Adult Fiction',\n",
       " 'Literature > American',\n",
       " 'Science Fiction',\n",
       " 'Fiction',\n",
       " 'Fantasy',\n",
       " 'Classics',\n",
       " 'Science Fiction Fantasy',\n",
       " 'Audiobook',\n",
       " 'Space > Space Opera',\n",
       " 'Novels',\n",
       " 'Adventure',\n",
       " 'Adult',\n",
       " 'Fiction',\n",
       " 'Historical > Historical Fiction',\n",
       " 'Historical',\n",
       " 'Adult',\n",
       " 'Adult Fiction',\n",
       " 'Contemporary',\n",
       " 'Classics',\n",
       " 'Audiobook',\n",
       " 'Book Club',\n",
       " 'Womens Fiction > Chick Lit',\n",
       " 'Classics',\n",
       " 'Fiction',\n",
       " 'Academic > School',\n",
       " 'Historical > Historical Fiction',\n",
       " 'Literature',\n",
       " 'Romance',\n",
       " 'Novels',\n",
       " 'Academic > Read For School',\n",
       " 'Young Adult > High School',\n",
       " 'Literature > American',\n",
       " 'Classics',\n",
       " 'Fiction',\n",
       " 'Cultural > Russia',\n",
       " 'Literature',\n",
       " 'Literature > Russian Literature',\n",
       " 'Philosophy',\n",
       " 'Novels',\n",
       " 'Literature > 19th Century',\n",
       " 'Classics > Classic Literature',\n",
       " 'Religion',\n",
       " 'Classics',\n",
       " 'Fiction',\n",
       " 'Science Fiction',\n",
       " 'War',\n",
       " 'Historical > Historical Fiction',\n",
       " 'Literature',\n",
       " 'Novels',\n",
       " 'Science Fiction > Time Travel',\n",
       " 'Literature > American',\n",
       " 'Fantasy',\n",
       " 'Fantasy',\n",
       " 'Young Adult',\n",
       " 'Fiction',\n",
       " 'Fantasy > Magic',\n",
       " 'Childrens',\n",
       " 'Childrens > Middle Grade',\n",
       " 'Adventure',\n",
       " 'Audiobook',\n",
       " 'Classics',\n",
       " 'Science Fiction Fantasy',\n",
       " 'Historical > Historical Fiction',\n",
       " 'Fiction',\n",
       " 'Historical',\n",
       " 'Fantasy',\n",
       " 'Classics',\n",
       " 'Historical > Medieval',\n",
       " 'Audiobook',\n",
       " 'Novels',\n",
       " 'European Literature > British Literature',\n",
       " 'Adult',\n",
       " 'Classics',\n",
       " 'Fiction',\n",
       " 'Young Adult',\n",
       " 'Literature',\n",
       " 'Academic > School',\n",
       " 'Novels',\n",
       " 'Young Adult > Coming Of Age',\n",
       " 'Young Adult > High School',\n",
       " 'Literature > American',\n",
       " 'Academic > Read For School',\n",
       " 'Classics',\n",
       " 'Fiction',\n",
       " 'Science Fiction',\n",
       " 'Science Fiction > Dystopia',\n",
       " 'Literature',\n",
       " 'Novels',\n",
       " 'Academic > School',\n",
       " 'Fantasy',\n",
       " 'Philosophy',\n",
       " 'Science Fiction Fantasy',\n",
       " 'Classics',\n",
       " 'Fiction',\n",
       " 'Philosophy',\n",
       " 'Spirituality',\n",
       " 'Religion',\n",
       " 'Literature',\n",
       " 'Religion > Buddhism',\n",
       " 'European Literature > German Literature',\n",
       " 'Novels',\n",
       " 'Historical > Historical Fiction',\n",
       " 'Classics',\n",
       " 'Fiction',\n",
       " 'Historical > Historical Fiction',\n",
       " 'Feminism',\n",
       " 'LGBT',\n",
       " 'Historical',\n",
       " 'Cultural > African American',\n",
       " 'Literature',\n",
       " 'Novels',\n",
       " 'Adult',\n",
       " 'Classics',\n",
       " 'Fiction',\n",
       " 'Horror',\n",
       " 'Fantasy',\n",
       " 'Literature',\n",
       " 'Gothic',\n",
       " 'Novels',\n",
       " 'Literature > 19th Century',\n",
       " 'LGBT',\n",
       " 'Classics > Classic Literature',\n",
       " 'Classics',\n",
       " 'Fiction',\n",
       " 'Romance',\n",
       " 'Gothic',\n",
       " 'Literature',\n",
       " 'Historical > Historical Fiction',\n",
       " 'Literature > 19th Century',\n",
       " 'Novels',\n",
       " 'Classics > Classic Literature',\n",
       " 'Historical',\n",
       " 'Fiction',\n",
       " 'Science Fiction',\n",
       " 'Science Fiction > Dystopia',\n",
       " 'Apocalyptic > Post Apocalyptic',\n",
       " 'Classics',\n",
       " 'Horror',\n",
       " 'Literature',\n",
       " 'Novels',\n",
       " 'Science Fiction > Apocalyptic',\n",
       " 'Contemporary',\n",
       " 'Classics',\n",
       " 'Fiction',\n",
       " 'Feminism',\n",
       " 'Health > Mental Health',\n",
       " 'Psychology',\n",
       " 'Literature',\n",
       " 'Mental Health > Mental Illness',\n",
       " 'Novels',\n",
       " 'Poetry',\n",
       " 'Literary Fiction',\n",
       " 'Fiction',\n",
       " 'Classics',\n",
       " 'Philosophy',\n",
       " 'Literature',\n",
       " 'Politics',\n",
       " 'Science Fiction',\n",
       " 'Novels',\n",
       " 'Science Fiction > Dystopia',\n",
       " 'Economics',\n",
       " 'Business',\n",
       " 'Classics',\n",
       " 'Fiction',\n",
       " 'Cultural > Russia',\n",
       " 'Literature',\n",
       " 'Literature > Russian Literature',\n",
       " 'Philosophy',\n",
       " 'Novels',\n",
       " 'Mystery > Crime',\n",
       " 'Literature > 19th Century',\n",
       " 'Academic > School',\n",
       " 'Fiction',\n",
       " 'Historical > Historical Fiction',\n",
       " 'Cultural > Africa',\n",
       " 'Classics',\n",
       " 'Historical',\n",
       " 'Literary Fiction',\n",
       " 'Literature',\n",
       " 'Novels',\n",
       " 'Religion',\n",
       " 'Adult Fiction',\n",
       " 'Classics',\n",
       " 'Fiction',\n",
       " 'Literature',\n",
       " 'Novels',\n",
       " 'Cultural > Russia',\n",
       " 'Romance',\n",
       " 'Literature > Russian Literature',\n",
       " 'Literary Fiction',\n",
       " 'Literature > 20th Century',\n",
       " 'Adult',\n",
       " 'Classics',\n",
       " 'Fiction',\n",
       " 'Young Adult',\n",
       " 'Academic > School',\n",
       " 'Literature',\n",
       " 'Science Fiction > Dystopia',\n",
       " 'Novels',\n",
       " 'Academic > Read For School',\n",
       " 'Young Adult > High School',\n",
       " 'Adventure',\n",
       " 'Classics',\n",
       " 'Fiction',\n",
       " 'Fantasy',\n",
       " 'Young Adult',\n",
       " 'Animals',\n",
       " 'Childrens',\n",
       " 'Adventure',\n",
       " 'Literature',\n",
       " 'Novels',\n",
       " 'Audiobook',\n",
       " 'Fiction',\n",
       " 'Historical > Historical Fiction',\n",
       " 'Contemporary',\n",
       " 'Classics',\n",
       " 'Novels',\n",
       " 'Historical',\n",
       " 'Adult',\n",
       " 'Literature',\n",
       " 'Adult Fiction',\n",
       " 'Drama',\n",
       " 'Classics',\n",
       " 'Fiction',\n",
       " 'Young Adult',\n",
       " 'Childrens',\n",
       " 'Historical > Historical Fiction',\n",
       " 'Childrens > Middle Grade',\n",
       " 'Historical',\n",
       " 'Audiobook',\n",
       " 'Cultural > Canada',\n",
       " 'Young Adult > Coming Of Age',\n",
       " 'Classics',\n",
       " 'Fiction',\n",
       " 'Academic > School',\n",
       " 'Historical > Historical Fiction',\n",
       " 'Literature',\n",
       " 'Academic > Read For School',\n",
       " 'Novels',\n",
       " 'Young Adult > High School',\n",
       " 'Literature > American',\n",
       " 'Classics > Classic Literature',\n",
       " 'Fiction',\n",
       " 'Historical > Historical Fiction',\n",
       " 'Romance',\n",
       " 'Historical',\n",
       " 'Classics',\n",
       " 'Cultural > Japan',\n",
       " 'Adult',\n",
       " 'Novels',\n",
       " 'Cultural > Asia',\n",
       " 'Adult Fiction',\n",
       " 'Fiction',\n",
       " 'Mystery',\n",
       " 'Thriller',\n",
       " 'Suspense',\n",
       " 'Thriller > Mystery Thriller',\n",
       " 'Historical > Historical Fiction',\n",
       " 'Adventure',\n",
       " 'Novels',\n",
       " 'Mystery > Crime',\n",
       " 'Adult',\n",
       " ...]"
      ]
     },
     "execution_count": 147,
     "metadata": {},
     "output_type": "execute_result"
    }
   ],
   "source": [
    "genre"
   ]
  },
  {
   "cell_type": "markdown",
   "id": "pointed-cover",
   "metadata": {},
   "source": [
    "**Find the total number of genres**"
   ]
  },
  {
   "cell_type": "code",
   "execution_count": 172,
   "id": "prescription-indication",
   "metadata": {},
   "outputs": [
    {
     "data": {
      "text/plain": [
       "129"
      ]
     },
     "execution_count": 172,
     "metadata": {},
     "output_type": "execute_result"
    }
   ],
   "source": [
    "len(set(genre))"
   ]
  },
  {
   "cell_type": "markdown",
   "id": "elder-tobacco",
   "metadata": {},
   "source": [
    "**using seaborn**"
   ]
  },
  {
   "cell_type": "code",
   "execution_count": 176,
   "id": "regulation-seating",
   "metadata": {},
   "outputs": [
    {
     "data": {
      "image/png": "[encoded data removed]",
      "text/plain": [
       "<Figure size 1080x576 with 1 Axes>"
      ]
     },
     "metadata": {
      "needs_background": "light"
     },
     "output_type": "display_data"
    }
   ],
   "source": [
    "from collections import Counter\n",
    "\n",
    "genredf = pd.DataFrame.from_dict((Counter(genre)),orient='index')\n",
    "genredf.columns=['count']\n",
    "#filter to get just the top 20 genres\n",
    "genrefilt = genredf.sort_values('count',ascending=False)[:20]\n",
    "plt.figure(figsize=(15,8))\n",
    "sns.barplot(x=genrefilt.index,y=genrefilt['count'])\n",
    "plt.xticks(rotation=90)\n",
    "plt.show()"
   ]
  },
  {
   "cell_type": "markdown",
   "id": "polish-processing",
   "metadata": {},
   "source": [
    "**using plotly**"
   ]
  },
  {
   "cell_type": "code",
   "execution_count": 177,
   "id": "animal-orange",
   "metadata": {},
   "outputs": [
    {
     "data": {
      "application/vnd.plotly.v1+json": {
       "config": {
        "plotlyServerURL": "https://plot.ly"
       },
       "data": [
        {
         "alignmentgroup": "True",
         "hovertemplate": "index=%{x}<br>count=%{y}<extra></extra>",
         "legendgroup": "Fiction",
         "marker": {
          "color": "#636efa"
         },
         "name": "Fiction",
         "offsetgroup": "Fiction",
         "orientation": "v",
         "showlegend": true,
         "textposition": "auto",
         "type": "bar",
         "x": [
          "Fiction"
         ],
         "xaxis": "x",
         "y": [
          100
         ],
         "yaxis": "y"
        },
        {
         "alignmentgroup": "True",
         "hovertemplate": "index=%{x}<br>count=%{y}<extra></extra>",
         "legendgroup": "Classics",
         "marker": {
          "color": "#EF553B"
         },
         "name": "Classics",
         "offsetgroup": "Classics",
         "orientation": "v",
         "showlegend": true,
         "textposition": "auto",
         "type": "bar",
         "x": [
          "Classics"
         ],
         "xaxis": "x",
         "y": [
          85
         ],
         "yaxis": "y"
        },
        {
         "alignmentgroup": "True",
         "hovertemplate": "index=%{x}<br>count=%{y}<extra></extra>",
         "legendgroup": "Novels",
         "marker": {
          "color": "#00cc96"
         },
         "name": "Novels",
         "offsetgroup": "Novels",
         "orientation": "v",
         "showlegend": true,
         "textposition": "auto",
         "type": "bar",
         "x": [
          "Novels"
         ],
         "xaxis": "x",
         "y": [
          56
         ],
         "yaxis": "y"
        },
        {
         "alignmentgroup": "True",
         "hovertemplate": "index=%{x}<br>count=%{y}<extra></extra>",
         "legendgroup": "Literature",
         "marker": {
          "color": "#ab63fa"
         },
         "name": "Literature",
         "offsetgroup": "Literature",
         "orientation": "v",
         "showlegend": true,
         "textposition": "auto",
         "type": "bar",
         "x": [
          "Literature"
         ],
         "xaxis": "x",
         "y": [
          55
         ],
         "yaxis": "y"
        },
        {
         "alignmentgroup": "True",
         "hovertemplate": "index=%{x}<br>count=%{y}<extra></extra>",
         "legendgroup": "Fantasy",
         "marker": {
          "color": "#FFA15A"
         },
         "name": "Fantasy",
         "offsetgroup": "Fantasy",
         "orientation": "v",
         "showlegend": true,
         "textposition": "auto",
         "type": "bar",
         "x": [
          "Fantasy"
         ],
         "xaxis": "x",
         "y": [
          50
         ],
         "yaxis": "y"
        },
        {
         "alignmentgroup": "True",
         "hovertemplate": "index=%{x}<br>count=%{y}<extra></extra>",
         "legendgroup": "Young Adult",
         "marker": {
          "color": "#19d3f3"
         },
         "name": "Young Adult",
         "offsetgroup": "Young Adult",
         "orientation": "v",
         "showlegend": true,
         "textposition": "auto",
         "type": "bar",
         "x": [
          "Young Adult"
         ],
         "xaxis": "x",
         "y": [
          41
         ],
         "yaxis": "y"
        },
        {
         "alignmentgroup": "True",
         "hovertemplate": "index=%{x}<br>count=%{y}<extra></extra>",
         "legendgroup": "Historical > Historical Fiction",
         "marker": {
          "color": "#FF6692"
         },
         "name": "Historical > Historical Fiction",
         "offsetgroup": "Historical > Historical Fiction",
         "orientation": "v",
         "showlegend": true,
         "textposition": "auto",
         "type": "bar",
         "x": [
          "Historical > Historical Fiction"
         ],
         "xaxis": "x",
         "y": [
          38
         ],
         "yaxis": "y"
        },
        {
         "alignmentgroup": "True",
         "hovertemplate": "index=%{x}<br>count=%{y}<extra></extra>",
         "legendgroup": "Adventure",
         "marker": {
          "color": "#B6E880"
         },
         "name": "Adventure",
         "offsetgroup": "Adventure",
         "orientation": "v",
         "showlegend": true,
         "textposition": "auto",
         "type": "bar",
         "x": [
          "Adventure"
         ],
         "xaxis": "x",
         "y": [
          30
         ],
         "yaxis": "y"
        },
        {
         "alignmentgroup": "True",
         "hovertemplate": "index=%{x}<br>count=%{y}<extra></extra>",
         "legendgroup": "Audiobook",
         "marker": {
          "color": "#FF97FF"
         },
         "name": "Audiobook",
         "offsetgroup": "Audiobook",
         "orientation": "v",
         "showlegend": true,
         "textposition": "auto",
         "type": "bar",
         "x": [
          "Audiobook"
         ],
         "xaxis": "x",
         "y": [
          25
         ],
         "yaxis": "y"
        },
        {
         "alignmentgroup": "True",
         "hovertemplate": "index=%{x}<br>count=%{y}<extra></extra>",
         "legendgroup": "Romance",
         "marker": {
          "color": "#FECB52"
         },
         "name": "Romance",
         "offsetgroup": "Romance",
         "orientation": "v",
         "showlegend": true,
         "textposition": "auto",
         "type": "bar",
         "x": [
          "Romance"
         ],
         "xaxis": "x",
         "y": [
          24
         ],
         "yaxis": "y"
        },
        {
         "alignmentgroup": "True",
         "hovertemplate": "index=%{x}<br>count=%{y}<extra></extra>",
         "legendgroup": "Historical",
         "marker": {
          "color": "#636efa"
         },
         "name": "Historical",
         "offsetgroup": "Historical",
         "orientation": "v",
         "showlegend": true,
         "textposition": "auto",
         "type": "bar",
         "x": [
          "Historical"
         ],
         "xaxis": "x",
         "y": [
          24
         ],
         "yaxis": "y"
        },
        {
         "alignmentgroup": "True",
         "hovertemplate": "index=%{x}<br>count=%{y}<extra></extra>",
         "legendgroup": "Academic > School",
         "marker": {
          "color": "#EF553B"
         },
         "name": "Academic > School",
         "offsetgroup": "Academic > School",
         "orientation": "v",
         "showlegend": true,
         "textposition": "auto",
         "type": "bar",
         "x": [
          "Academic > School"
         ],
         "xaxis": "x",
         "y": [
          22
         ],
         "yaxis": "y"
        },
        {
         "alignmentgroup": "True",
         "hovertemplate": "index=%{x}<br>count=%{y}<extra></extra>",
         "legendgroup": "Adult",
         "marker": {
          "color": "#00cc96"
         },
         "name": "Adult",
         "offsetgroup": "Adult",
         "orientation": "v",
         "showlegend": true,
         "textposition": "auto",
         "type": "bar",
         "x": [
          "Adult"
         ],
         "xaxis": "x",
         "y": [
          21
         ],
         "yaxis": "y"
        },
        {
         "alignmentgroup": "True",
         "hovertemplate": "index=%{x}<br>count=%{y}<extra></extra>",
         "legendgroup": "Childrens",
         "marker": {
          "color": "#ab63fa"
         },
         "name": "Childrens",
         "offsetgroup": "Childrens",
         "orientation": "v",
         "showlegend": true,
         "textposition": "auto",
         "type": "bar",
         "x": [
          "Childrens"
         ],
         "xaxis": "x",
         "y": [
          21
         ],
         "yaxis": "y"
        },
        {
         "alignmentgroup": "True",
         "hovertemplate": "index=%{x}<br>count=%{y}<extra></extra>",
         "legendgroup": "Science Fiction",
         "marker": {
          "color": "#FFA15A"
         },
         "name": "Science Fiction",
         "offsetgroup": "Science Fiction",
         "orientation": "v",
         "showlegend": true,
         "textposition": "auto",
         "type": "bar",
         "x": [
          "Science Fiction"
         ],
         "xaxis": "x",
         "y": [
          20
         ],
         "yaxis": "y"
        },
        {
         "alignmentgroup": "True",
         "hovertemplate": "index=%{x}<br>count=%{y}<extra></extra>",
         "legendgroup": "Contemporary",
         "marker": {
          "color": "#19d3f3"
         },
         "name": "Contemporary",
         "offsetgroup": "Contemporary",
         "orientation": "v",
         "showlegend": true,
         "textposition": "auto",
         "type": "bar",
         "x": [
          "Contemporary"
         ],
         "xaxis": "x",
         "y": [
          16
         ],
         "yaxis": "y"
        },
        {
         "alignmentgroup": "True",
         "hovertemplate": "index=%{x}<br>count=%{y}<extra></extra>",
         "legendgroup": "Childrens > Middle Grade",
         "marker": {
          "color": "#FF6692"
         },
         "name": "Childrens > Middle Grade",
         "offsetgroup": "Childrens > Middle Grade",
         "orientation": "v",
         "showlegend": true,
         "textposition": "auto",
         "type": "bar",
         "x": [
          "Childrens > Middle Grade"
         ],
         "xaxis": "x",
         "y": [
          16
         ],
         "yaxis": "y"
        },
        {
         "alignmentgroup": "True",
         "hovertemplate": "index=%{x}<br>count=%{y}<extra></extra>",
         "legendgroup": "Science Fiction Fantasy",
         "marker": {
          "color": "#B6E880"
         },
         "name": "Science Fiction Fantasy",
         "offsetgroup": "Science Fiction Fantasy",
         "orientation": "v",
         "showlegend": true,
         "textposition": "auto",
         "type": "bar",
         "x": [
          "Science Fiction Fantasy"
         ],
         "xaxis": "x",
         "y": [
          15
         ],
         "yaxis": "y"
        },
        {
         "alignmentgroup": "True",
         "hovertemplate": "index=%{x}<br>count=%{y}<extra></extra>",
         "legendgroup": "Science Fiction > Dystopia",
         "marker": {
          "color": "#FF97FF"
         },
         "name": "Science Fiction > Dystopia",
         "offsetgroup": "Science Fiction > Dystopia",
         "orientation": "v",
         "showlegend": true,
         "textposition": "auto",
         "type": "bar",
         "x": [
          "Science Fiction > Dystopia"
         ],
         "xaxis": "x",
         "y": [
          14
         ],
         "yaxis": "y"
        },
        {
         "alignmentgroup": "True",
         "hovertemplate": "index=%{x}<br>count=%{y}<extra></extra>",
         "legendgroup": "Classics > Classic Literature",
         "marker": {
          "color": "#FECB52"
         },
         "name": "Classics > Classic Literature",
         "offsetgroup": "Classics > Classic Literature",
         "orientation": "v",
         "showlegend": true,
         "textposition": "auto",
         "type": "bar",
         "x": [
          "Classics > Classic Literature"
         ],
         "xaxis": "x",
         "y": [
          13
         ],
         "yaxis": "y"
        }
       ],
       "layout": {
        "barmode": "relative",
        "height": 500,
        "legend": {
         "title": {
          "text": "index"
         },
         "tracegroupgap": 0
        },
        "margin": {
         "t": 60
        },
        "template": {
         "data": {
          "bar": [
           {
            "error_x": {
             "color": "#2a3f5f"
            },
            "error_y": {
             "color": "#2a3f5f"
            },
            "marker": {
             "line": {
              "color": "#E5ECF6",
              "width": 0.5
             }
            },
            "type": "bar"
           }
          ],
          "barpolar": [
           {
            "marker": {
             "line": {
              "color": "#E5ECF6",
              "width": 0.5
             }
            },
            "type": "barpolar"
           }
          ],
          "carpet": [
           {
            "aaxis": {
             "endlinecolor": "#2a3f5f",
             "gridcolor": "white",
             "linecolor": "white",
             "minorgridcolor": "white",
             "startlinecolor": "#2a3f5f"
            },
            "baxis": {
             "endlinecolor": "#2a3f5f",
             "gridcolor": "white",
             "linecolor": "white",
             "minorgridcolor": "white",
             "startlinecolor": "#2a3f5f"
            },
            "type": "carpet"
           }
          ],
          "choropleth": [
           {
            "colorbar": {
             "outlinewidth": 0,
             "ticks": ""
            },
            "type": "choropleth"
           }
          ],
          "contour": [
           {
            "colorbar": {
             "outlinewidth": 0,
             "ticks": ""
            },
            "colorscale": [
             [
              0,
              "#0d0887"
             ],
             [
              0.1111111111111111,
              "#46039f"
             ],
             [
              0.2222222222222222,
              "#7201a8"
             ],
             [
              0.3333333333333333,
              "#9c179e"
             ],
             [
              0.4444444444444444,
              "#bd3786"
             ],
             [
              0.5555555555555556,
              "#d8576b"
             ],
             [
              0.6666666666666666,
              "#ed7953"
             ],
             [
              0.7777777777777778,
              "#fb9f3a"
             ],
             [
              0.8888888888888888,
              "#fdca26"
             ],
             [
              1,
              "#f0f921"
             ]
            ],
            "type": "contour"
           }
          ],
          "contourcarpet": [
           {
            "colorbar": {
             "outlinewidth": 0,
             "ticks": ""
            },
            "type": "contourcarpet"
           }
          ],
          "heatmap": [
           {
            "colorbar": {
             "outlinewidth": 0,
             "ticks": ""
            },
            "colorscale": [
             [
              0,
              "#0d0887"
             ],
             [
              0.1111111111111111,
              "#46039f"
             ],
             [
              0.2222222222222222,
              "#7201a8"
             ],
             [
              0.3333333333333333,
              "#9c179e"
             ],
             [
              0.4444444444444444,
              "#bd3786"
             ],
             [
              0.5555555555555556,
              "#d8576b"
             ],
             [
              0.6666666666666666,
              "#ed7953"
             ],
             [
              0.7777777777777778,
              "#fb9f3a"
             ],
             [
              0.8888888888888888,
              "#fdca26"
             ],
             [
              1,
              "#f0f921"
             ]
            ],
            "type": "heatmap"
           }
          ],
          "heatmapgl": [
           {
            "colorbar": {
             "outlinewidth": 0,
             "ticks": ""
            },
            "colorscale": [
             [
              0,
              "#0d0887"
             ],
             [
              0.1111111111111111,
              "#46039f"
             ],
             [
              0.2222222222222222,
              "#7201a8"
             ],
             [
              0.3333333333333333,
              "#9c179e"
             ],
             [
              0.4444444444444444,
              "#bd3786"
             ],
             [
              0.5555555555555556,
              "#d8576b"
             ],
             [
              0.6666666666666666,
              "#ed7953"
             ],
             [
              0.7777777777777778,
              "#fb9f3a"
             ],
             [
              0.8888888888888888,
              "#fdca26"
             ],
             [
              1,
              "#f0f921"
             ]
            ],
            "type": "heatmapgl"
           }
          ],
          "histogram": [
           {
            "marker": {
             "colorbar": {
              "outlinewidth": 0,
              "ticks": ""
             }
            },
            "type": "histogram"
           }
          ],
          "histogram2d": [
           {
            "colorbar": {
             "outlinewidth": 0,
             "ticks": ""
            },
            "colorscale": [
             [
              0,
              "#0d0887"
             ],
             [
              0.1111111111111111,
              "#46039f"
             ],
             [
              0.2222222222222222,
              "#7201a8"
             ],
             [
              0.3333333333333333,
              "#9c179e"
             ],
             [
              0.4444444444444444,
              "#bd3786"
             ],
             [
              0.5555555555555556,
              "#d8576b"
             ],
             [
              0.6666666666666666,
              "#ed7953"
             ],
             [
              0.7777777777777778,
              "#fb9f3a"
             ],
             [
              0.8888888888888888,
              "#fdca26"
             ],
             [
              1,
              "#f0f921"
             ]
            ],
            "type": "histogram2d"
           }
          ],
          "histogram2dcontour": [
           {
            "colorbar": {
             "outlinewidth": 0,
             "ticks": ""
            },
            "colorscale": [
             [
              0,
              "#0d0887"
             ],
             [
              0.1111111111111111,
              "#46039f"
             ],
             [
              0.2222222222222222,
              "#7201a8"
             ],
             [
              0.3333333333333333,
              "#9c179e"
             ],
             [
              0.4444444444444444,
              "#bd3786"
             ],
             [
              0.5555555555555556,
              "#d8576b"
             ],
             [
              0.6666666666666666,
              "#ed7953"
             ],
             [
              0.7777777777777778,
              "#fb9f3a"
             ],
             [
              0.8888888888888888,
              "#fdca26"
             ],
             [
              1,
              "#f0f921"
             ]
            ],
            "type": "histogram2dcontour"
           }
          ],
          "mesh3d": [
           {
            "colorbar": {
             "outlinewidth": 0,
             "ticks": ""
            },
            "type": "mesh3d"
           }
          ],
          "parcoords": [
           {
            "line": {
             "colorbar": {
              "outlinewidth": 0,
              "ticks": ""
             }
            },
            "type": "parcoords"
           }
          ],
          "pie": [
           {
            "automargin": true,
            "type": "pie"
           }
          ],
          "scatter": [
           {
            "marker": {
             "colorbar": {
              "outlinewidth": 0,
              "ticks": ""
             }
            },
            "type": "scatter"
           }
          ],
          "scatter3d": [
           {
            "line": {
             "colorbar": {
              "outlinewidth": 0,
              "ticks": ""
             }
            },
            "marker": {
             "colorbar": {
              "outlinewidth": 0,
              "ticks": ""
             }
            },
            "type": "scatter3d"
           }
          ],
          "scattercarpet": [
           {
            "marker": {
             "colorbar": {
              "outlinewidth": 0,
              "ticks": ""
             }
            },
            "type": "scattercarpet"
           }
          ],
          "scattergeo": [
           {
            "marker": {
             "colorbar": {
              "outlinewidth": 0,
              "ticks": ""
             }
            },
            "type": "scattergeo"
           }
          ],
          "scattergl": [
           {
            "marker": {
             "colorbar": {
              "outlinewidth": 0,
              "ticks": ""
             }
            },
            "type": "scattergl"
           }
          ],
          "scattermapbox": [
           {
            "marker": {
             "colorbar": {
              "outlinewidth": 0,
              "ticks": ""
             }
            },
            "type": "scattermapbox"
           }
          ],
          "scatterpolar": [
           {
            "marker": {
             "colorbar": {
              "outlinewidth": 0,
              "ticks": ""
             }
            },
            "type": "scatterpolar"
           }
          ],
          "scatterpolargl": [
           {
            "marker": {
             "colorbar": {
              "outlinewidth": 0,
              "ticks": ""
             }
            },
            "type": "scatterpolargl"
           }
          ],
          "scatterternary": [
           {
            "marker": {
             "colorbar": {
              "outlinewidth": 0,
              "ticks": ""
             }
            },
            "type": "scatterternary"
           }
          ],
          "surface": [
           {
            "colorbar": {
             "outlinewidth": 0,
             "ticks": ""
            },
            "colorscale": [
             [
              0,
              "#0d0887"
             ],
             [
              0.1111111111111111,
              "#46039f"
             ],
             [
              0.2222222222222222,
              "#7201a8"
             ],
             [
              0.3333333333333333,
              "#9c179e"
             ],
             [
              0.4444444444444444,
              "#bd3786"
             ],
             [
              0.5555555555555556,
              "#d8576b"
             ],
             [
              0.6666666666666666,
              "#ed7953"
             ],
             [
              0.7777777777777778,
              "#fb9f3a"
             ],
             [
              0.8888888888888888,
              "#fdca26"
             ],
             [
              1,
              "#f0f921"
             ]
            ],
            "type": "surface"
           }
          ],
          "table": [
           {
            "cells": {
             "fill": {
              "color": "#EBF0F8"
             },
             "line": {
              "color": "white"
             }
            },
            "header": {
             "fill": {
              "color": "#C8D4E3"
             },
             "line": {
              "color": "white"
             }
            },
            "type": "table"
           }
          ]
         },
         "layout": {
          "annotationdefaults": {
           "arrowcolor": "#2a3f5f",
           "arrowhead": 0,
           "arrowwidth": 1
          },
          "coloraxis": {
           "colorbar": {
            "outlinewidth": 0,
            "ticks": ""
           }
          },
          "colorscale": {
           "diverging": [
            [
             0,
             "#8e0152"
            ],
            [
             0.1,
             "#c51b7d"
            ],
            [
             0.2,
             "#de77ae"
            ],
            [
             0.3,
             "#f1b6da"
            ],
            [
             0.4,
             "#fde0ef"
            ],
            [
             0.5,
             "#f7f7f7"
            ],
            [
             0.6,
             "#e6f5d0"
            ],
            [
             0.7,
             "#b8e186"
            ],
            [
             0.8,
             "#7fbc41"
            ],
            [
             0.9,
             "#4d9221"
            ],
            [
             1,
             "#276419"
            ]
           ],
           "sequential": [
            [
             0,
             "#0d0887"
            ],
            [
             0.1111111111111111,
             "#46039f"
            ],
            [
             0.2222222222222222,
             "#7201a8"
            ],
            [
             0.3333333333333333,
             "#9c179e"
            ],
            [
             0.4444444444444444,
             "#bd3786"
            ],
            [
             0.5555555555555556,
             "#d8576b"
            ],
            [
             0.6666666666666666,
             "#ed7953"
            ],
            [
             0.7777777777777778,
             "#fb9f3a"
            ],
            [
             0.8888888888888888,
             "#fdca26"
            ],
            [
             1,
             "#f0f921"
            ]
           ],
           "sequentialminus": [
            [
             0,
             "#0d0887"
            ],
            [
             0.1111111111111111,
             "#46039f"
            ],
            [
             0.2222222222222222,
             "#7201a8"
            ],
            [
             0.3333333333333333,
             "#9c179e"
            ],
            [
             0.4444444444444444,
             "#bd3786"
            ],
            [
             0.5555555555555556,
             "#d8576b"
            ],
            [
             0.6666666666666666,
             "#ed7953"
            ],
            [
             0.7777777777777778,
             "#fb9f3a"
            ],
            [
             0.8888888888888888,
             "#fdca26"
            ],
            [
             1,
             "#f0f921"
            ]
           ]
          },
          "colorway": [
           "#636efa",
           "#EF553B",
           "#00cc96",
           "#ab63fa",
           "#FFA15A",
           "#19d3f3",
           "#FF6692",
           "#B6E880",
           "#FF97FF",
           "#FECB52"
          ],
          "font": {
           "color": "#2a3f5f"
          },
          "geo": {
           "bgcolor": "white",
           "lakecolor": "white",
           "landcolor": "#E5ECF6",
           "showlakes": true,
           "showland": true,
           "subunitcolor": "white"
          },
          "hoverlabel": {
           "align": "left"
          },
          "hovermode": "closest",
          "mapbox": {
           "style": "light"
          },
          "paper_bgcolor": "white",
          "plot_bgcolor": "#E5ECF6",
          "polar": {
           "angularaxis": {
            "gridcolor": "white",
            "linecolor": "white",
            "ticks": ""
           },
           "bgcolor": "#E5ECF6",
           "radialaxis": {
            "gridcolor": "white",
            "linecolor": "white",
            "ticks": ""
           }
          },
          "scene": {
           "xaxis": {
            "backgroundcolor": "#E5ECF6",
            "gridcolor": "white",
            "gridwidth": 2,
            "linecolor": "white",
            "showbackground": true,
            "ticks": "",
            "zerolinecolor": "white"
           },
           "yaxis": {
            "backgroundcolor": "#E5ECF6",
            "gridcolor": "white",
            "gridwidth": 2,
            "linecolor": "white",
            "showbackground": true,
            "ticks": "",
            "zerolinecolor": "white"
           },
           "zaxis": {
            "backgroundcolor": "#E5ECF6",
            "gridcolor": "white",
            "gridwidth": 2,
            "linecolor": "white",
            "showbackground": true,
            "ticks": "",
            "zerolinecolor": "white"
           }
          },
          "shapedefaults": {
           "line": {
            "color": "#2a3f5f"
           }
          },
          "ternary": {
           "aaxis": {
            "gridcolor": "white",
            "linecolor": "white",
            "ticks": ""
           },
           "baxis": {
            "gridcolor": "white",
            "linecolor": "white",
            "ticks": ""
           },
           "bgcolor": "#E5ECF6",
           "caxis": {
            "gridcolor": "white",
            "linecolor": "white",
            "ticks": ""
           }
          },
          "title": {
           "x": 0.05
          },
          "xaxis": {
           "automargin": true,
           "gridcolor": "white",
           "linecolor": "white",
           "ticks": "",
           "title": {
            "standoff": 15
           },
           "zerolinecolor": "white",
           "zerolinewidth": 2
          },
          "yaxis": {
           "automargin": true,
           "gridcolor": "white",
           "linecolor": "white",
           "ticks": "",
           "title": {
            "standoff": 15
           },
           "zerolinecolor": "white",
           "zerolinewidth": 2
          }
         }
        },
        "xaxis": {
         "anchor": "y",
         "categoryarray": [
          "Fiction",
          "Classics",
          "Novels",
          "Literature",
          "Fantasy",
          "Young Adult",
          "Historical > Historical Fiction",
          "Adventure",
          "Audiobook",
          "Romance",
          "Historical",
          "Academic > School",
          "Adult",
          "Childrens",
          "Science Fiction",
          "Contemporary",
          "Childrens > Middle Grade",
          "Science Fiction Fantasy",
          "Science Fiction > Dystopia",
          "Classics > Classic Literature"
         ],
         "categoryorder": "array",
         "domain": [
          0,
          1
         ],
         "title": {
          "text": "index"
         }
        },
        "yaxis": {
         "anchor": "x",
         "domain": [
          0,
          1
         ],
         "title": {
          "text": "count"
         }
        }
       }
      },
      "text/html": [
       "<div>                            <div id=\"3f879340-c48a-45e0-925d-4fa642f08122\" class=\"plotly-graph-div\" style=\"height:500px; width:100%;\"></div>            <script type=\"text/javascript\">                require([\"plotly\"], function(Plotly) {                    window.PLOTLYENV=window.PLOTLYENV || {};                                    if (document.getElementById(\"3f879340-c48a-45e0-925d-4fa642f08122\")) {                    Plotly.newPlot(                        \"3f879340-c48a-45e0-925d-4fa642f08122\",                        [{\"alignmentgroup\": \"True\", \"hovertemplate\": \"index=%{x}<br>count=%{y}<extra></extra>\", \"legendgroup\": \"Fiction\", \"marker\": {\"color\": \"#636efa\"}, \"name\": \"Fiction\", \"offsetgroup\": \"Fiction\", \"orientation\": \"v\", \"showlegend\": true, \"textposition\": \"auto\", \"type\": \"bar\", \"x\": [\"Fiction\"], \"xaxis\": \"x\", \"y\": [100], \"yaxis\": \"y\"}, {\"alignmentgroup\": \"True\", \"hovertemplate\": \"index=%{x}<br>count=%{y}<extra></extra>\", \"legendgroup\": \"Classics\", \"marker\": {\"color\": \"#EF553B\"}, \"name\": \"Classics\", \"offsetgroup\": \"Classics\", \"orientation\": \"v\", \"showlegend\": true, \"textposition\": \"auto\", \"type\": \"bar\", \"x\": [\"Classics\"], \"xaxis\": \"x\", \"y\": [85], \"yaxis\": \"y\"}, {\"alignmentgroup\": \"True\", \"hovertemplate\": \"index=%{x}<br>count=%{y}<extra></extra>\", \"legendgroup\": \"Novels\", \"marker\": {\"color\": \"#00cc96\"}, \"name\": \"Novels\", \"offsetgroup\": \"Novels\", \"orientation\": \"v\", \"showlegend\": true, \"textposition\": \"auto\", \"type\": \"bar\", \"x\": [\"Novels\"], \"xaxis\": \"x\", \"y\": [56], \"yaxis\": \"y\"}, {\"alignmentgroup\": \"True\", \"hovertemplate\": \"index=%{x}<br>count=%{y}<extra></extra>\", \"legendgroup\": \"Literature\", \"marker\": {\"color\": \"#ab63fa\"}, \"name\": \"Literature\", \"offsetgroup\": \"Literature\", \"orientation\": \"v\", \"showlegend\": true, \"textposition\": \"auto\", \"type\": \"bar\", \"x\": [\"Literature\"], \"xaxis\": \"x\", \"y\": [55], \"yaxis\": \"y\"}, {\"alignmentgroup\": \"True\", \"hovertemplate\": \"index=%{x}<br>count=%{y}<extra></extra>\", \"legendgroup\": \"Fantasy\", \"marker\": {\"color\": \"#FFA15A\"}, \"name\": \"Fantasy\", \"offsetgroup\": \"Fantasy\", \"orientation\": \"v\", \"showlegend\": true, \"textposition\": \"auto\", \"type\": \"bar\", \"x\": [\"Fantasy\"], \"xaxis\": \"x\", \"y\": [50], \"yaxis\": \"y\"}, {\"alignmentgroup\": \"True\", \"hovertemplate\": \"index=%{x}<br>count=%{y}<extra></extra>\", \"legendgroup\": \"Young Adult\", \"marker\": {\"color\": \"#19d3f3\"}, \"name\": \"Young Adult\", \"offsetgroup\": \"Young Adult\", \"orientation\": \"v\", \"showlegend\": true, \"textposition\": \"auto\", \"type\": \"bar\", \"x\": [\"Young Adult\"], \"xaxis\": \"x\", \"y\": [41], \"yaxis\": \"y\"}, {\"alignmentgroup\": \"True\", \"hovertemplate\": \"index=%{x}<br>count=%{y}<extra></extra>\", \"legendgroup\": \"Historical > Historical Fiction\", \"marker\": {\"color\": \"#FF6692\"}, \"name\": \"Historical > Historical Fiction\", \"offsetgroup\": \"Historical > Historical Fiction\", \"orientation\": \"v\", \"showlegend\": true, \"textposition\": \"auto\", \"type\": \"bar\", \"x\": [\"Historical > Historical Fiction\"], \"xaxis\": \"x\", \"y\": [38], \"yaxis\": \"y\"}, {\"alignmentgroup\": \"True\", \"hovertemplate\": \"index=%{x}<br>count=%{y}<extra></extra>\", \"legendgroup\": \"Adventure\", \"marker\": {\"color\": \"#B6E880\"}, \"name\": \"Adventure\", \"offsetgroup\": \"Adventure\", \"orientation\": \"v\", \"showlegend\": true, \"textposition\": \"auto\", \"type\": \"bar\", \"x\": [\"Adventure\"], \"xaxis\": \"x\", \"y\": [30], \"yaxis\": \"y\"}, {\"alignmentgroup\": \"True\", \"hovertemplate\": \"index=%{x}<br>count=%{y}<extra></extra>\", \"legendgroup\": \"Audiobook\", \"marker\": {\"color\": \"#FF97FF\"}, \"name\": \"Audiobook\", \"offsetgroup\": \"Audiobook\", \"orientation\": \"v\", \"showlegend\": true, \"textposition\": \"auto\", \"type\": \"bar\", \"x\": [\"Audiobook\"], \"xaxis\": \"x\", \"y\": [25], \"yaxis\": \"y\"}, {\"alignmentgroup\": \"True\", \"hovertemplate\": \"index=%{x}<br>count=%{y}<extra></extra>\", \"legendgroup\": \"Romance\", \"marker\": {\"color\": \"#FECB52\"}, \"name\": \"Romance\", \"offsetgroup\": \"Romance\", \"orientation\": \"v\", \"showlegend\": true, \"textposition\": \"auto\", \"type\": \"bar\", \"x\": [\"Romance\"], \"xaxis\": \"x\", \"y\": [24], \"yaxis\": \"y\"}, {\"alignmentgroup\": \"True\", \"hovertemplate\": \"index=%{x}<br>count=%{y}<extra></extra>\", \"legendgroup\": \"Historical\", \"marker\": {\"color\": \"#636efa\"}, \"name\": \"Historical\", \"offsetgroup\": \"Historical\", \"orientation\": \"v\", \"showlegend\": true, \"textposition\": \"auto\", \"type\": \"bar\", \"x\": [\"Historical\"], \"xaxis\": \"x\", \"y\": [24], \"yaxis\": \"y\"}, {\"alignmentgroup\": \"True\", \"hovertemplate\": \"index=%{x}<br>count=%{y}<extra></extra>\", \"legendgroup\": \"Academic > School\", \"marker\": {\"color\": \"#EF553B\"}, \"name\": \"Academic > School\", \"offsetgroup\": \"Academic > School\", \"orientation\": \"v\", \"showlegend\": true, \"textposition\": \"auto\", \"type\": \"bar\", \"x\": [\"Academic > School\"], \"xaxis\": \"x\", \"y\": [22], \"yaxis\": \"y\"}, {\"alignmentgroup\": \"True\", \"hovertemplate\": \"index=%{x}<br>count=%{y}<extra></extra>\", \"legendgroup\": \"Adult\", \"marker\": {\"color\": \"#00cc96\"}, \"name\": \"Adult\", \"offsetgroup\": \"Adult\", \"orientation\": \"v\", \"showlegend\": true, \"textposition\": \"auto\", \"type\": \"bar\", \"x\": [\"Adult\"], \"xaxis\": \"x\", \"y\": [21], \"yaxis\": \"y\"}, {\"alignmentgroup\": \"True\", \"hovertemplate\": \"index=%{x}<br>count=%{y}<extra></extra>\", \"legendgroup\": \"Childrens\", \"marker\": {\"color\": \"#ab63fa\"}, \"name\": \"Childrens\", \"offsetgroup\": \"Childrens\", \"orientation\": \"v\", \"showlegend\": true, \"textposition\": \"auto\", \"type\": \"bar\", \"x\": [\"Childrens\"], \"xaxis\": \"x\", \"y\": [21], \"yaxis\": \"y\"}, {\"alignmentgroup\": \"True\", \"hovertemplate\": \"index=%{x}<br>count=%{y}<extra></extra>\", \"legendgroup\": \"Science Fiction\", \"marker\": {\"color\": \"#FFA15A\"}, \"name\": \"Science Fiction\", \"offsetgroup\": \"Science Fiction\", \"orientation\": \"v\", \"showlegend\": true, \"textposition\": \"auto\", \"type\": \"bar\", \"x\": [\"Science Fiction\"], \"xaxis\": \"x\", \"y\": [20], \"yaxis\": \"y\"}, {\"alignmentgroup\": \"True\", \"hovertemplate\": \"index=%{x}<br>count=%{y}<extra></extra>\", \"legendgroup\": \"Contemporary\", \"marker\": {\"color\": \"#19d3f3\"}, \"name\": \"Contemporary\", \"offsetgroup\": \"Contemporary\", \"orientation\": \"v\", \"showlegend\": true, \"textposition\": \"auto\", \"type\": \"bar\", \"x\": [\"Contemporary\"], \"xaxis\": \"x\", \"y\": [16], \"yaxis\": \"y\"}, {\"alignmentgroup\": \"True\", \"hovertemplate\": \"index=%{x}<br>count=%{y}<extra></extra>\", \"legendgroup\": \"Childrens > Middle Grade\", \"marker\": {\"color\": \"#FF6692\"}, \"name\": \"Childrens > Middle Grade\", \"offsetgroup\": \"Childrens > Middle Grade\", \"orientation\": \"v\", \"showlegend\": true, \"textposition\": \"auto\", \"type\": \"bar\", \"x\": [\"Childrens > Middle Grade\"], \"xaxis\": \"x\", \"y\": [16], \"yaxis\": \"y\"}, {\"alignmentgroup\": \"True\", \"hovertemplate\": \"index=%{x}<br>count=%{y}<extra></extra>\", \"legendgroup\": \"Science Fiction Fantasy\", \"marker\": {\"color\": \"#B6E880\"}, \"name\": \"Science Fiction Fantasy\", \"offsetgroup\": \"Science Fiction Fantasy\", \"orientation\": \"v\", \"showlegend\": true, \"textposition\": \"auto\", \"type\": \"bar\", \"x\": [\"Science Fiction Fantasy\"], \"xaxis\": \"x\", \"y\": [15], \"yaxis\": \"y\"}, {\"alignmentgroup\": \"True\", \"hovertemplate\": \"index=%{x}<br>count=%{y}<extra></extra>\", \"legendgroup\": \"Science Fiction > Dystopia\", \"marker\": {\"color\": \"#FF97FF\"}, \"name\": \"Science Fiction > Dystopia\", \"offsetgroup\": \"Science Fiction > Dystopia\", \"orientation\": \"v\", \"showlegend\": true, \"textposition\": \"auto\", \"type\": \"bar\", \"x\": [\"Science Fiction > Dystopia\"], \"xaxis\": \"x\", \"y\": [14], \"yaxis\": \"y\"}, {\"alignmentgroup\": \"True\", \"hovertemplate\": \"index=%{x}<br>count=%{y}<extra></extra>\", \"legendgroup\": \"Classics > Classic Literature\", \"marker\": {\"color\": \"#FECB52\"}, \"name\": \"Classics > Classic Literature\", \"offsetgroup\": \"Classics > Classic Literature\", \"orientation\": \"v\", \"showlegend\": true, \"textposition\": \"auto\", \"type\": \"bar\", \"x\": [\"Classics > Classic Literature\"], \"xaxis\": \"x\", \"y\": [13], \"yaxis\": \"y\"}],                        {\"barmode\": \"relative\", \"height\": 500, \"legend\": {\"title\": {\"text\": \"index\"}, \"tracegroupgap\": 0}, \"margin\": {\"t\": 60}, \"template\": {\"data\": {\"bar\": [{\"error_x\": {\"color\": \"#2a3f5f\"}, \"error_y\": {\"color\": \"#2a3f5f\"}, \"marker\": {\"line\": {\"color\": \"#E5ECF6\", \"width\": 0.5}}, \"type\": \"bar\"}], \"barpolar\": [{\"marker\": {\"line\": {\"color\": \"#E5ECF6\", \"width\": 0.5}}, \"type\": \"barpolar\"}], \"carpet\": [{\"aaxis\": {\"endlinecolor\": \"#2a3f5f\", \"gridcolor\": \"white\", \"linecolor\": \"white\", \"minorgridcolor\": \"white\", \"startlinecolor\": \"#2a3f5f\"}, \"baxis\": {\"endlinecolor\": \"#2a3f5f\", \"gridcolor\": \"white\", \"linecolor\": \"white\", \"minorgridcolor\": \"white\", \"startlinecolor\": \"#2a3f5f\"}, \"type\": \"carpet\"}], \"choropleth\": [{\"colorbar\": {\"outlinewidth\": 0, \"ticks\": \"\"}, \"type\": \"choropleth\"}], \"contour\": [{\"colorbar\": {\"outlinewidth\": 0, \"ticks\": \"\"}, \"colorscale\": [[0.0, \"#0d0887\"], [0.1111111111111111, \"#46039f\"], [0.2222222222222222, \"#7201a8\"], [0.3333333333333333, \"#9c179e\"], [0.4444444444444444, \"#bd3786\"], [0.5555555555555556, \"#d8576b\"], [0.6666666666666666, \"#ed7953\"], [0.7777777777777778, \"#fb9f3a\"], [0.8888888888888888, \"#fdca26\"], [1.0, \"#f0f921\"]], \"type\": \"contour\"}], \"contourcarpet\": [{\"colorbar\": {\"outlinewidth\": 0, \"ticks\": \"\"}, \"type\": \"contourcarpet\"}], \"heatmap\": [{\"colorbar\": {\"outlinewidth\": 0, \"ticks\": \"\"}, \"colorscale\": [[0.0, \"#0d0887\"], [0.1111111111111111, \"#46039f\"], [0.2222222222222222, \"#7201a8\"], [0.3333333333333333, \"#9c179e\"], [0.4444444444444444, \"#bd3786\"], [0.5555555555555556, \"#d8576b\"], [0.6666666666666666, \"#ed7953\"], [0.7777777777777778, \"#fb9f3a\"], [0.8888888888888888, \"#fdca26\"], [1.0, \"#f0f921\"]], \"type\": \"heatmap\"}], \"heatmapgl\": [{\"colorbar\": {\"outlinewidth\": 0, \"ticks\": \"\"}, \"colorscale\": [[0.0, \"#0d0887\"], [0.1111111111111111, \"#46039f\"], [0.2222222222222222, \"#7201a8\"], [0.3333333333333333, \"#9c179e\"], [0.4444444444444444, \"#bd3786\"], [0.5555555555555556, \"#d8576b\"], [0.6666666666666666, \"#ed7953\"], [0.7777777777777778, \"#fb9f3a\"], [0.8888888888888888, \"#fdca26\"], [1.0, \"#f0f921\"]], \"type\": \"heatmapgl\"}], \"histogram\": [{\"marker\": {\"colorbar\": {\"outlinewidth\": 0, \"ticks\": \"\"}}, \"type\": \"histogram\"}], \"histogram2d\": [{\"colorbar\": {\"outlinewidth\": 0, \"ticks\": \"\"}, \"colorscale\": [[0.0, \"#0d0887\"], [0.1111111111111111, \"#46039f\"], [0.2222222222222222, \"#7201a8\"], [0.3333333333333333, \"#9c179e\"], [0.4444444444444444, \"#bd3786\"], [0.5555555555555556, \"#d8576b\"], [0.6666666666666666, \"#ed7953\"], [0.7777777777777778, \"#fb9f3a\"], [0.8888888888888888, \"#fdca26\"], [1.0, \"#f0f921\"]], \"type\": \"histogram2d\"}], \"histogram2dcontour\": [{\"colorbar\": {\"outlinewidth\": 0, \"ticks\": \"\"}, \"colorscale\": [[0.0, \"#0d0887\"], [0.1111111111111111, \"#46039f\"], [0.2222222222222222, \"#7201a8\"], [0.3333333333333333, \"#9c179e\"], [0.4444444444444444, \"#bd3786\"], [0.5555555555555556, \"#d8576b\"], [0.6666666666666666, \"#ed7953\"], [0.7777777777777778, \"#fb9f3a\"], [0.8888888888888888, \"#fdca26\"], [1.0, \"#f0f921\"]], \"type\": \"histogram2dcontour\"}], \"mesh3d\": [{\"colorbar\": {\"outlinewidth\": 0, \"ticks\": \"\"}, \"type\": \"mesh3d\"}], \"parcoords\": [{\"line\": {\"colorbar\": {\"outlinewidth\": 0, \"ticks\": \"\"}}, \"type\": \"parcoords\"}], \"pie\": [{\"automargin\": true, \"type\": \"pie\"}], \"scatter\": [{\"marker\": {\"colorbar\": {\"outlinewidth\": 0, \"ticks\": \"\"}}, \"type\": \"scatter\"}], \"scatter3d\": [{\"line\": {\"colorbar\": {\"outlinewidth\": 0, \"ticks\": \"\"}}, \"marker\": {\"colorbar\": {\"outlinewidth\": 0, \"ticks\": \"\"}}, \"type\": \"scatter3d\"}], \"scattercarpet\": [{\"marker\": {\"colorbar\": {\"outlinewidth\": 0, \"ticks\": \"\"}}, \"type\": \"scattercarpet\"}], \"scattergeo\": [{\"marker\": {\"colorbar\": {\"outlinewidth\": 0, \"ticks\": \"\"}}, \"type\": \"scattergeo\"}], \"scattergl\": [{\"marker\": {\"colorbar\": {\"outlinewidth\": 0, \"ticks\": \"\"}}, \"type\": \"scattergl\"}], \"scattermapbox\": [{\"marker\": {\"colorbar\": {\"outlinewidth\": 0, \"ticks\": \"\"}}, \"type\": \"scattermapbox\"}], \"scatterpolar\": [{\"marker\": {\"colorbar\": {\"outlinewidth\": 0, \"ticks\": \"\"}}, \"type\": \"scatterpolar\"}], \"scatterpolargl\": [{\"marker\": {\"colorbar\": {\"outlinewidth\": 0, \"ticks\": \"\"}}, \"type\": \"scatterpolargl\"}], \"scatterternary\": [{\"marker\": {\"colorbar\": {\"outlinewidth\": 0, \"ticks\": \"\"}}, \"type\": \"scatterternary\"}], \"surface\": [{\"colorbar\": {\"outlinewidth\": 0, \"ticks\": \"\"}, \"colorscale\": [[0.0, \"#0d0887\"], [0.1111111111111111, \"#46039f\"], [0.2222222222222222, \"#7201a8\"], [0.3333333333333333, \"#9c179e\"], [0.4444444444444444, \"#bd3786\"], [0.5555555555555556, \"#d8576b\"], [0.6666666666666666, \"#ed7953\"], [0.7777777777777778, \"#fb9f3a\"], [0.8888888888888888, \"#fdca26\"], [1.0, \"#f0f921\"]], \"type\": \"surface\"}], \"table\": [{\"cells\": {\"fill\": {\"color\": \"#EBF0F8\"}, \"line\": {\"color\": \"white\"}}, \"header\": {\"fill\": {\"color\": \"#C8D4E3\"}, \"line\": {\"color\": \"white\"}}, \"type\": \"table\"}]}, \"layout\": {\"annotationdefaults\": {\"arrowcolor\": \"#2a3f5f\", \"arrowhead\": 0, \"arrowwidth\": 1}, \"coloraxis\": {\"colorbar\": {\"outlinewidth\": 0, \"ticks\": \"\"}}, \"colorscale\": {\"diverging\": [[0, \"#8e0152\"], [0.1, \"#c51b7d\"], [0.2, \"#de77ae\"], [0.3, \"#f1b6da\"], [0.4, \"#fde0ef\"], [0.5, \"#f7f7f7\"], [0.6, \"#e6f5d0\"], [0.7, \"#b8e186\"], [0.8, \"#7fbc41\"], [0.9, \"#4d9221\"], [1, \"#276419\"]], \"sequential\": [[0.0, \"#0d0887\"], [0.1111111111111111, \"#46039f\"], [0.2222222222222222, \"#7201a8\"], [0.3333333333333333, \"#9c179e\"], [0.4444444444444444, \"#bd3786\"], [0.5555555555555556, \"#d8576b\"], [0.6666666666666666, \"#ed7953\"], [0.7777777777777778, \"#fb9f3a\"], [0.8888888888888888, \"#fdca26\"], [1.0, \"#f0f921\"]], \"sequentialminus\": [[0.0, \"#0d0887\"], [0.1111111111111111, \"#46039f\"], [0.2222222222222222, \"#7201a8\"], [0.3333333333333333, \"#9c179e\"], [0.4444444444444444, \"#bd3786\"], [0.5555555555555556, \"#d8576b\"], [0.6666666666666666, \"#ed7953\"], [0.7777777777777778, \"#fb9f3a\"], [0.8888888888888888, \"#fdca26\"], [1.0, \"#f0f921\"]]}, \"colorway\": [\"#636efa\", \"#EF553B\", \"#00cc96\", \"#ab63fa\", \"#FFA15A\", \"#19d3f3\", \"#FF6692\", \"#B6E880\", \"#FF97FF\", \"#FECB52\"], \"font\": {\"color\": \"#2a3f5f\"}, \"geo\": {\"bgcolor\": \"white\", \"lakecolor\": \"white\", \"landcolor\": \"#E5ECF6\", \"showlakes\": true, \"showland\": true, \"subunitcolor\": \"white\"}, \"hoverlabel\": {\"align\": \"left\"}, \"hovermode\": \"closest\", \"mapbox\": {\"style\": \"light\"}, \"paper_bgcolor\": \"white\", \"plot_bgcolor\": \"#E5ECF6\", \"polar\": {\"angularaxis\": {\"gridcolor\": \"white\", \"linecolor\": \"white\", \"ticks\": \"\"}, \"bgcolor\": \"#E5ECF6\", \"radialaxis\": {\"gridcolor\": \"white\", \"linecolor\": \"white\", \"ticks\": \"\"}}, \"scene\": {\"xaxis\": {\"backgroundcolor\": \"#E5ECF6\", \"gridcolor\": \"white\", \"gridwidth\": 2, \"linecolor\": \"white\", \"showbackground\": true, \"ticks\": \"\", \"zerolinecolor\": \"white\"}, \"yaxis\": {\"backgroundcolor\": \"#E5ECF6\", \"gridcolor\": \"white\", \"gridwidth\": 2, \"linecolor\": \"white\", \"showbackground\": true, \"ticks\": \"\", \"zerolinecolor\": \"white\"}, \"zaxis\": {\"backgroundcolor\": \"#E5ECF6\", \"gridcolor\": \"white\", \"gridwidth\": 2, \"linecolor\": \"white\", \"showbackground\": true, \"ticks\": \"\", \"zerolinecolor\": \"white\"}}, \"shapedefaults\": {\"line\": {\"color\": \"#2a3f5f\"}}, \"ternary\": {\"aaxis\": {\"gridcolor\": \"white\", \"linecolor\": \"white\", \"ticks\": \"\"}, \"baxis\": {\"gridcolor\": \"white\", \"linecolor\": \"white\", \"ticks\": \"\"}, \"bgcolor\": \"#E5ECF6\", \"caxis\": {\"gridcolor\": \"white\", \"linecolor\": \"white\", \"ticks\": \"\"}}, \"title\": {\"x\": 0.05}, \"xaxis\": {\"automargin\": true, \"gridcolor\": \"white\", \"linecolor\": \"white\", \"ticks\": \"\", \"title\": {\"standoff\": 15}, \"zerolinecolor\": \"white\", \"zerolinewidth\": 2}, \"yaxis\": {\"automargin\": true, \"gridcolor\": \"white\", \"linecolor\": \"white\", \"ticks\": \"\", \"title\": {\"standoff\": 15}, \"zerolinecolor\": \"white\", \"zerolinewidth\": 2}}}, \"xaxis\": {\"anchor\": \"y\", \"categoryarray\": [\"Fiction\", \"Classics\", \"Novels\", \"Literature\", \"Fantasy\", \"Young Adult\", \"Historical > Historical Fiction\", \"Adventure\", \"Audiobook\", \"Romance\", \"Historical\", \"Academic > School\", \"Adult\", \"Childrens\", \"Science Fiction\", \"Contemporary\", \"Childrens > Middle Grade\", \"Science Fiction Fantasy\", \"Science Fiction > Dystopia\", \"Classics > Classic Literature\"], \"categoryorder\": \"array\", \"domain\": [0.0, 1.0], \"title\": {\"text\": \"index\"}}, \"yaxis\": {\"anchor\": \"x\", \"domain\": [0.0, 1.0], \"title\": {\"text\": \"count\"}}},                        {\"responsive\": true}                    ).then(function(){\n",
       "                            \n",
       "var gd = document.getElementById('3f879340-c48a-45e0-925d-4fa642f08122');\n",
       "var x = new MutationObserver(function (mutations, observer) {{\n",
       "        var display = window.getComputedStyle(gd).display;\n",
       "        if (!display || display === 'none') {{\n",
       "            console.log([gd, 'removed!']);\n",
       "            Plotly.purge(gd);\n",
       "            observer.disconnect();\n",
       "        }}\n",
       "}});\n",
       "\n",
       "// Listen for the removal of the full notebook cells\n",
       "var notebookContainer = gd.closest('#notebook-container');\n",
       "if (notebookContainer) {{\n",
       "    x.observe(notebookContainer, {childList: true});\n",
       "}}\n",
       "\n",
       "// Listen for the clearing of the current output cell\n",
       "var outputEl = gd.closest('.output');\n",
       "if (outputEl) {{\n",
       "    x.observe(outputEl, {childList: true});\n",
       "}}\n",
       "\n",
       "                        })                };                });            </script>        </div>"
      ]
     },
     "metadata": {},
     "output_type": "display_data"
    }
   ],
   "source": [
    "fig = px.bar(genrefilt, x=genrefilt.index, y='count',color=genrefilt.index,height=500)\n",
    "fig.show()"
   ]
  },
  {
   "cell_type": "code",
   "execution_count": 168,
   "id": "protecting-innocent",
   "metadata": {},
   "outputs": [
    {
     "data": {
      "text/html": [
       "<div>\n",
       "<style scoped>\n",
       "    .dataframe tbody tr th:only-of-type {\n",
       "        vertical-align: middle;\n",
       "    }\n",
       "\n",
       "    .dataframe tbody tr th {\n",
       "        vertical-align: top;\n",
       "    }\n",
       "\n",
       "    .dataframe thead th {\n",
       "        text-align: right;\n",
       "    }\n",
       "</style>\n",
       "<table border=\"1\" class=\"dataframe\">\n",
       "  <thead>\n",
       "    <tr style=\"text-align: right;\">\n",
       "      <th></th>\n",
       "      <th>book_id_title</th>\n",
       "      <th>book_id</th>\n",
       "      <th>book_title</th>\n",
       "      <th>book_series</th>\n",
       "      <th>book_series_uri</th>\n",
       "      <th>isbn</th>\n",
       "      <th>isbn13</th>\n",
       "      <th>year_first_published</th>\n",
       "      <th>author</th>\n",
       "      <th>num_pages</th>\n",
       "      <th>genres</th>\n",
       "      <th>shelves</th>\n",
       "      <th>lists</th>\n",
       "      <th>num_ratings</th>\n",
       "      <th>num_reviews</th>\n",
       "      <th>average_rating</th>\n",
       "      <th>rating_distribution</th>\n",
       "    </tr>\n",
       "  </thead>\n",
       "  <tbody>\n",
       "    <tr>\n",
       "      <th>0</th>\n",
       "      <td>10210.Jane_Eyre</td>\n",
       "      <td>10210</td>\n",
       "      <td>Jane Eyre</td>\n",
       "      <td>NaN</td>\n",
       "      <td>NaN</td>\n",
       "      <td>1551111802</td>\n",
       "      <td>9781551111803</td>\n",
       "      <td>1846.0</td>\n",
       "      <td>Charlotte Brontë</td>\n",
       "      <td>532</td>\n",
       "      <td>['Classics', 'Fiction', 'Romance', 'Historical...</td>\n",
       "      <td>{'to-read': 861870, 'currently-reading': 57625...</td>\n",
       "      <td>{'Best': 197, 'Books': 134, '100': 1603, 'Big'...</td>\n",
       "      <td>1743436</td>\n",
       "      <td>46769</td>\n",
       "      <td>4.13</td>\n",
       "      <td>{'5 Stars': 805768, '4 Stars': 537570, '3 Star...</td>\n",
       "    </tr>\n",
       "    <tr>\n",
       "      <th>1</th>\n",
       "      <td>10917.My_Sister_s_Keeper</td>\n",
       "      <td>10917</td>\n",
       "      <td>My Sister's Keeper</td>\n",
       "      <td>NaN</td>\n",
       "      <td>NaN</td>\n",
       "      <td>0743486196</td>\n",
       "      <td>9780743486194</td>\n",
       "      <td>2004.0</td>\n",
       "      <td>Jodi Picoult</td>\n",
       "      <td>423</td>\n",
       "      <td>['Fiction', 'Contemporary', 'Womens Fiction &gt; ...</td>\n",
       "      <td>{'to-read': 268381, 'currently-reading': 7028,...</td>\n",
       "      <td>{'Best': 2065, 'Books': 675, 'The': 222, \"Coul...</td>\n",
       "      <td>1101809</td>\n",
       "      <td>34139</td>\n",
       "      <td>4.08</td>\n",
       "      <td>{'5 Stars': 447945, '4 Stars': 387514, '3 Star...</td>\n",
       "    </tr>\n",
       "    <tr>\n",
       "      <th>2</th>\n",
       "      <td>10964.Outlander</td>\n",
       "      <td>10964</td>\n",
       "      <td>Outlander</td>\n",
       "      <td>Outlander #1</td>\n",
       "      <td>/series/43943-outlander</td>\n",
       "      <td>0440212561</td>\n",
       "      <td>9780440212560</td>\n",
       "      <td>1991.0</td>\n",
       "      <td>Diana Gabaldon</td>\n",
       "      <td>850</td>\n",
       "      <td>['Historical &gt; Historical Fiction', 'Romance',...</td>\n",
       "      <td>{'to-read': 586400, 'currently-reading': 59918...</td>\n",
       "      <td>{'Best': 258, 'The': 77, 'Favorite': 182, 'All...</td>\n",
       "      <td>892738</td>\n",
       "      <td>47637</td>\n",
       "      <td>4.23</td>\n",
       "      <td>{'5 Stars': 488529, '4 Stars': 225164, '3 Star...</td>\n",
       "    </tr>\n",
       "    <tr>\n",
       "      <th>3</th>\n",
       "      <td>11127.The_Chronicles_of_Narnia</td>\n",
       "      <td>11127</td>\n",
       "      <td>The Chronicles of Narnia</td>\n",
       "      <td>The Chronicles of Narnia (Publication Order</td>\n",
       "      <td>/series/49073-the-chronicles-of-narnia-publica...</td>\n",
       "      <td>0060598247</td>\n",
       "      <td>9780060598242</td>\n",
       "      <td>1956.0</td>\n",
       "      <td>C.S. Lewis</td>\n",
       "      <td>767</td>\n",
       "      <td>['Fantasy', 'Classics', 'Fiction', 'Young Adul...</td>\n",
       "      <td>{'to-read': 213905, 'currently-reading': 13025...</td>\n",
       "      <td>{'Best': 11, 'Books': 21, 'The': 10, 'What': 6...</td>\n",
       "      <td>561302</td>\n",
       "      <td>10847</td>\n",
       "      <td>4.26</td>\n",
       "      <td>{'5 Stars': 276979, '4 Stars': 180820, '3 Star...</td>\n",
       "    </tr>\n",
       "    <tr>\n",
       "      <th>4</th>\n",
       "      <td>11870085-the-fault-in-our-stars</td>\n",
       "      <td>11870085</td>\n",
       "      <td>The Fault in Our Stars</td>\n",
       "      <td>NaN</td>\n",
       "      <td>NaN</td>\n",
       "      <td>8415594011</td>\n",
       "      <td>9780142424179</td>\n",
       "      <td>NaN</td>\n",
       "      <td>John Green</td>\n",
       "      <td>313</td>\n",
       "      <td>['Young Adult', 'Romance', 'Fiction', 'Contemp...</td>\n",
       "      <td>{'to-read': 76948, 'currently-reading': 58616,...</td>\n",
       "      <td>{'Best': 235, 'YA': 66, 'TO': 770, 'Books': 99...</td>\n",
       "      <td>3924262</td>\n",
       "      <td>160263</td>\n",
       "      <td>4.18</td>\n",
       "      <td>{'5 Stars': 1932037, '4 Stars': 1138642, '3 St...</td>\n",
       "    </tr>\n",
       "  </tbody>\n",
       "</table>\n",
       "</div>"
      ],
      "text/plain": [
       "                     book_id_title   book_id                book_title  \\\n",
       "0                  10210.Jane_Eyre     10210                 Jane Eyre   \n",
       "1         10917.My_Sister_s_Keeper     10917        My Sister's Keeper   \n",
       "2                  10964.Outlander     10964                 Outlander   \n",
       "3   11127.The_Chronicles_of_Narnia     11127  The Chronicles of Narnia   \n",
       "4  11870085-the-fault-in-our-stars  11870085    The Fault in Our Stars   \n",
       "\n",
       "                                   book_series  \\\n",
       "0                                          NaN   \n",
       "1                                          NaN   \n",
       "2                                 Outlander #1   \n",
       "3  The Chronicles of Narnia (Publication Order   \n",
       "4                                          NaN   \n",
       "\n",
       "                                     book_series_uri        isbn  \\\n",
       "0                                                NaN  1551111802   \n",
       "1                                                NaN  0743486196   \n",
       "2                            /series/43943-outlander  0440212561   \n",
       "3  /series/49073-the-chronicles-of-narnia-publica...  0060598247   \n",
       "4                                                NaN  8415594011   \n",
       "\n",
       "          isbn13  year_first_published            author  num_pages  \\\n",
       "0  9781551111803                1846.0  Charlotte Brontë        532   \n",
       "1  9780743486194                2004.0      Jodi Picoult        423   \n",
       "2  9780440212560                1991.0    Diana Gabaldon        850   \n",
       "3  9780060598242                1956.0        C.S. Lewis        767   \n",
       "4  9780142424179                   NaN        John Green        313   \n",
       "\n",
       "                                              genres  \\\n",
       "0  ['Classics', 'Fiction', 'Romance', 'Historical...   \n",
       "1  ['Fiction', 'Contemporary', 'Womens Fiction > ...   \n",
       "2  ['Historical > Historical Fiction', 'Romance',...   \n",
       "3  ['Fantasy', 'Classics', 'Fiction', 'Young Adul...   \n",
       "4  ['Young Adult', 'Romance', 'Fiction', 'Contemp...   \n",
       "\n",
       "                                             shelves  \\\n",
       "0  {'to-read': 861870, 'currently-reading': 57625...   \n",
       "1  {'to-read': 268381, 'currently-reading': 7028,...   \n",
       "2  {'to-read': 586400, 'currently-reading': 59918...   \n",
       "3  {'to-read': 213905, 'currently-reading': 13025...   \n",
       "4  {'to-read': 76948, 'currently-reading': 58616,...   \n",
       "\n",
       "                                               lists  num_ratings  \\\n",
       "0  {'Best': 197, 'Books': 134, '100': 1603, 'Big'...      1743436   \n",
       "1  {'Best': 2065, 'Books': 675, 'The': 222, \"Coul...      1101809   \n",
       "2  {'Best': 258, 'The': 77, 'Favorite': 182, 'All...       892738   \n",
       "3  {'Best': 11, 'Books': 21, 'The': 10, 'What': 6...       561302   \n",
       "4  {'Best': 235, 'YA': 66, 'TO': 770, 'Books': 99...      3924262   \n",
       "\n",
       "   num_reviews  average_rating  \\\n",
       "0        46769            4.13   \n",
       "1        34139            4.08   \n",
       "2        47637            4.23   \n",
       "3        10847            4.26   \n",
       "4       160263            4.18   \n",
       "\n",
       "                                 rating_distribution  \n",
       "0  {'5 Stars': 805768, '4 Stars': 537570, '3 Star...  \n",
       "1  {'5 Stars': 447945, '4 Stars': 387514, '3 Star...  \n",
       "2  {'5 Stars': 488529, '4 Stars': 225164, '3 Star...  \n",
       "3  {'5 Stars': 276979, '4 Stars': 180820, '3 Star...  \n",
       "4  {'5 Stars': 1932037, '4 Stars': 1138642, '3 St...  "
      ]
     },
     "execution_count": 168,
     "metadata": {},
     "output_type": "execute_result"
    }
   ],
   "source": [
    "books.head()"
   ]
  },
  {
   "cell_type": "code",
   "execution_count": 198,
   "id": "killing-essex",
   "metadata": {
    "scrolled": true
   },
   "outputs": [
    {
     "data": {
      "text/html": [
       "<div>\n",
       "<style scoped>\n",
       "    .dataframe tbody tr th:only-of-type {\n",
       "        vertical-align: middle;\n",
       "    }\n",
       "\n",
       "    .dataframe tbody tr th {\n",
       "        vertical-align: top;\n",
       "    }\n",
       "\n",
       "    .dataframe thead th {\n",
       "        text-align: right;\n",
       "    }\n",
       "</style>\n",
       "<table border=\"1\" class=\"dataframe\">\n",
       "  <thead>\n",
       "    <tr style=\"text-align: right;\">\n",
       "      <th></th>\n",
       "      <th>book_id_title</th>\n",
       "      <th>book_id</th>\n",
       "      <th>book_title</th>\n",
       "      <th>book_series</th>\n",
       "      <th>book_series_uri</th>\n",
       "      <th>isbn</th>\n",
       "      <th>isbn13</th>\n",
       "      <th>year_first_published</th>\n",
       "      <th>author</th>\n",
       "      <th>num_pages</th>\n",
       "      <th>genres</th>\n",
       "      <th>shelves</th>\n",
       "      <th>lists</th>\n",
       "      <th>num_ratings</th>\n",
       "      <th>num_reviews</th>\n",
       "      <th>average_rating</th>\n",
       "      <th>rating_distribution</th>\n",
       "    </tr>\n",
       "  </thead>\n",
       "  <tbody>\n",
       "    <tr>\n",
       "      <th>11</th>\n",
       "      <td>136251.Harry_Potter_and_the_Deathly_Hallows</td>\n",
       "      <td>136251</td>\n",
       "      <td>Harry Potter and the Deathly Hallows</td>\n",
       "      <td>Harry Potter #7</td>\n",
       "      <td>/series/45175-harry-potter</td>\n",
       "      <td>0747591059</td>\n",
       "      <td>9780747591054</td>\n",
       "      <td>NaN</td>\n",
       "      <td>J.K. Rowling</td>\n",
       "      <td>759</td>\n",
       "      <td>['Fantasy', 'Young Adult', 'Fiction', 'Fantasy...</td>\n",
       "      <td>{'to-read': 422123, 'fantasy': 50991, 'favorit...</td>\n",
       "      <td>{'Best': 491, 'Books': 108, 'The': 256, \"Could...</td>\n",
       "      <td>3041745</td>\n",
       "      <td>70066</td>\n",
       "      <td>4.62</td>\n",
       "      <td>{'5 Stars': 2204449, '4 Stars': 597125, '3 Sta...</td>\n",
       "    </tr>\n",
       "    <tr>\n",
       "      <th>10</th>\n",
       "      <td>13496.A_Game_of_Thrones</td>\n",
       "      <td>13496</td>\n",
       "      <td>A Game of Thrones</td>\n",
       "      <td>A Song of Ice and Fire #1</td>\n",
       "      <td>/series/43790-a-song-of-ice-and-fire</td>\n",
       "      <td>isbn not found</td>\n",
       "      <td>isbn13 not found</td>\n",
       "      <td>1996.0</td>\n",
       "      <td>George R.R. Martin</td>\n",
       "      <td>835</td>\n",
       "      <td>['Fantasy', 'Fiction', 'Fantasy &gt; Epic Fantasy...</td>\n",
       "      <td>{'to-read': 830018, 'currently-reading': 10194...</td>\n",
       "      <td>{'The': 12050, 'Best': 63, 'Books': 113, 'Big'...</td>\n",
       "      <td>2129544</td>\n",
       "      <td>56147</td>\n",
       "      <td>4.44</td>\n",
       "      <td>{'5 Stars': 1307611, '4 Stars': 573117, '3 Sta...</td>\n",
       "    </tr>\n",
       "    <tr>\n",
       "      <th>7</th>\n",
       "      <td>128029.A_Thousand_Splendid_Suns</td>\n",
       "      <td>128029</td>\n",
       "      <td>A Thousand Splendid Suns</td>\n",
       "      <td>NaN</td>\n",
       "      <td>NaN</td>\n",
       "      <td>0747582971</td>\n",
       "      <td>9781594483851</td>\n",
       "      <td>2007.0</td>\n",
       "      <td>Khaled Hosseini</td>\n",
       "      <td>372</td>\n",
       "      <td>['Fiction', 'Historical &gt; Historical Fiction',...</td>\n",
       "      <td>{'to-read': 588364, 'currently-reading': 27018...</td>\n",
       "      <td>{'Best': 768, 'Books': 2739, \"Everyone's\": 461...</td>\n",
       "      <td>1241293</td>\n",
       "      <td>58304</td>\n",
       "      <td>4.39</td>\n",
       "      <td>{'5 Stars': 681411, '4 Stars': 400627, '3 Star...</td>\n",
       "    </tr>\n",
       "    <tr>\n",
       "      <th>14</th>\n",
       "      <td>149267.The_Stand</td>\n",
       "      <td>149267</td>\n",
       "      <td>The Stand</td>\n",
       "      <td>NaN</td>\n",
       "      <td>NaN</td>\n",
       "      <td>0451169530</td>\n",
       "      <td>9780451169532</td>\n",
       "      <td>1978.0</td>\n",
       "      <td>Stephen King</td>\n",
       "      <td>1152</td>\n",
       "      <td>['Horror', 'Fiction', 'Fantasy', 'Science Fict...</td>\n",
       "      <td>{'to-read': 16133, 'horror': 9322, 'favorites'...</td>\n",
       "      <td>{'Best': 39, 'Books': 36, 'Big': 149, '100': 1...</td>\n",
       "      <td>663704</td>\n",
       "      <td>23317</td>\n",
       "      <td>4.34</td>\n",
       "      <td>{'5 Stars': 367531, '4 Stars': 189469, '3 Star...</td>\n",
       "    </tr>\n",
       "    <tr>\n",
       "      <th>16</th>\n",
       "      <td>157993.The_Little_Prince</td>\n",
       "      <td>157993</td>\n",
       "      <td>The Little Prince</td>\n",
       "      <td>NaN</td>\n",
       "      <td>NaN</td>\n",
       "      <td>3125971403</td>\n",
       "      <td>9783125971400</td>\n",
       "      <td>1943.0</td>\n",
       "      <td>Antoine de Saint-Exupéry</td>\n",
       "      <td>96</td>\n",
       "      <td>['Classics', 'Fiction', 'Fantasy', 'Childrens'...</td>\n",
       "      <td>{'to-read': 574814, 'currently-reading': 23794...</td>\n",
       "      <td>{'Books': 1106, 'Best': 30, '100': 44, '1001':...</td>\n",
       "      <td>1547947</td>\n",
       "      <td>45424</td>\n",
       "      <td>4.31</td>\n",
       "      <td>{'5 Stars': 870352, '4 Stars': 398730, '3 Star...</td>\n",
       "    </tr>\n",
       "    <tr>\n",
       "      <th>13</th>\n",
       "      <td>14891.A_Tree_Grows_in_Brooklyn</td>\n",
       "      <td>14891</td>\n",
       "      <td>A Tree Grows in Brooklyn</td>\n",
       "      <td>NaN</td>\n",
       "      <td>NaN</td>\n",
       "      <td>0060736267</td>\n",
       "      <td>9780060736262</td>\n",
       "      <td>1943.0</td>\n",
       "      <td>Betty Smith</td>\n",
       "      <td>496</td>\n",
       "      <td>['Classics', 'Fiction', 'Historical &gt; Historic...</td>\n",
       "      <td>{'to-read': 352646, 'currently-reading': 12641...</td>\n",
       "      <td>{'Best': 5, 'Books': 8, '100': 604, 'What': 84...</td>\n",
       "      <td>407677</td>\n",
       "      <td>22026</td>\n",
       "      <td>4.27</td>\n",
       "      <td>{'5 Stars': 203526, '4 Stars': 133955, '3 Star...</td>\n",
       "    </tr>\n",
       "    <tr>\n",
       "      <th>3</th>\n",
       "      <td>11127.The_Chronicles_of_Narnia</td>\n",
       "      <td>11127</td>\n",
       "      <td>The Chronicles of Narnia</td>\n",
       "      <td>The Chronicles of Narnia (Publication Order</td>\n",
       "      <td>/series/49073-the-chronicles-of-narnia-publica...</td>\n",
       "      <td>0060598247</td>\n",
       "      <td>9780060598242</td>\n",
       "      <td>1956.0</td>\n",
       "      <td>C.S. Lewis</td>\n",
       "      <td>767</td>\n",
       "      <td>['Fantasy', 'Classics', 'Fiction', 'Young Adul...</td>\n",
       "      <td>{'to-read': 213905, 'currently-reading': 13025...</td>\n",
       "      <td>{'Best': 11, 'Books': 21, 'The': 10, 'What': 6...</td>\n",
       "      <td>561302</td>\n",
       "      <td>10847</td>\n",
       "      <td>4.26</td>\n",
       "      <td>{'5 Stars': 276979, '4 Stars': 180820, '3 Star...</td>\n",
       "    </tr>\n",
       "    <tr>\n",
       "      <th>2</th>\n",
       "      <td>10964.Outlander</td>\n",
       "      <td>10964</td>\n",
       "      <td>Outlander</td>\n",
       "      <td>Outlander #1</td>\n",
       "      <td>/series/43943-outlander</td>\n",
       "      <td>0440212561</td>\n",
       "      <td>9780440212560</td>\n",
       "      <td>1991.0</td>\n",
       "      <td>Diana Gabaldon</td>\n",
       "      <td>850</td>\n",
       "      <td>['Historical &gt; Historical Fiction', 'Romance',...</td>\n",
       "      <td>{'to-read': 586400, 'currently-reading': 59918...</td>\n",
       "      <td>{'Best': 258, 'The': 77, 'Favorite': 182, 'All...</td>\n",
       "      <td>892738</td>\n",
       "      <td>47637</td>\n",
       "      <td>4.23</td>\n",
       "      <td>{'5 Stars': 488529, '4 Stars': 225164, '3 Star...</td>\n",
       "    </tr>\n",
       "    <tr>\n",
       "      <th>4</th>\n",
       "      <td>11870085-the-fault-in-our-stars</td>\n",
       "      <td>11870085</td>\n",
       "      <td>The Fault in Our Stars</td>\n",
       "      <td>NaN</td>\n",
       "      <td>NaN</td>\n",
       "      <td>8415594011</td>\n",
       "      <td>9780142424179</td>\n",
       "      <td>NaN</td>\n",
       "      <td>John Green</td>\n",
       "      <td>313</td>\n",
       "      <td>['Young Adult', 'Romance', 'Fiction', 'Contemp...</td>\n",
       "      <td>{'to-read': 76948, 'currently-reading': 58616,...</td>\n",
       "      <td>{'Best': 235, 'YA': 66, 'TO': 770, 'Books': 99...</td>\n",
       "      <td>3924262</td>\n",
       "      <td>160263</td>\n",
       "      <td>4.18</td>\n",
       "      <td>{'5 Stars': 1932037, '4 Stars': 1138642, '3 St...</td>\n",
       "    </tr>\n",
       "    <tr>\n",
       "      <th>9</th>\n",
       "      <td>13335037-divergent</td>\n",
       "      <td>13335037</td>\n",
       "      <td>Divergent</td>\n",
       "      <td>Divergent #1</td>\n",
       "      <td>/series/57530-divergent</td>\n",
       "      <td>0062024027</td>\n",
       "      <td>9780062024022</td>\n",
       "      <td>2011.0</td>\n",
       "      <td>Veronica Roth</td>\n",
       "      <td>487</td>\n",
       "      <td>['Young Adult', 'Science Fiction &gt; Dystopia', ...</td>\n",
       "      <td>{'to-read': 904084, 'currently-reading': 39692...</td>\n",
       "      <td>{'Best': 942, '2011': 598, \"What's\": 8768, 'Ju...</td>\n",
       "      <td>3175437</td>\n",
       "      <td>110735</td>\n",
       "      <td>4.18</td>\n",
       "      <td>{'5 Stars': 1520627, '4 Stars': 963569, '3 Sta...</td>\n",
       "    </tr>\n",
       "    <tr>\n",
       "      <th>0</th>\n",
       "      <td>10210.Jane_Eyre</td>\n",
       "      <td>10210</td>\n",
       "      <td>Jane Eyre</td>\n",
       "      <td>NaN</td>\n",
       "      <td>NaN</td>\n",
       "      <td>1551111802</td>\n",
       "      <td>9781551111803</td>\n",
       "      <td>1846.0</td>\n",
       "      <td>Charlotte Brontë</td>\n",
       "      <td>532</td>\n",
       "      <td>['Classics', 'Fiction', 'Romance', 'Historical...</td>\n",
       "      <td>{'to-read': 861870, 'currently-reading': 57625...</td>\n",
       "      <td>{'Best': 197, 'Books': 134, '100': 1603, 'Big'...</td>\n",
       "      <td>1743436</td>\n",
       "      <td>46769</td>\n",
       "      <td>4.13</td>\n",
       "      <td>{'5 Stars': 805768, '4 Stars': 537570, '3 Star...</td>\n",
       "    </tr>\n",
       "    <tr>\n",
       "      <th>1</th>\n",
       "      <td>10917.My_Sister_s_Keeper</td>\n",
       "      <td>10917</td>\n",
       "      <td>My Sister's Keeper</td>\n",
       "      <td>NaN</td>\n",
       "      <td>NaN</td>\n",
       "      <td>0743486196</td>\n",
       "      <td>9780743486194</td>\n",
       "      <td>2004.0</td>\n",
       "      <td>Jodi Picoult</td>\n",
       "      <td>423</td>\n",
       "      <td>['Fiction', 'Contemporary', 'Womens Fiction &gt; ...</td>\n",
       "      <td>{'to-read': 268381, 'currently-reading': 7028,...</td>\n",
       "      <td>{'Best': 2065, 'Books': 675, 'The': 222, \"Coul...</td>\n",
       "      <td>1101809</td>\n",
       "      <td>34139</td>\n",
       "      <td>4.08</td>\n",
       "      <td>{'5 Stars': 447945, '4 Stars': 387514, '3 Star...</td>\n",
       "    </tr>\n",
       "    <tr>\n",
       "      <th>17</th>\n",
       "      <td>15823480-anna-karenina</td>\n",
       "      <td>15823480</td>\n",
       "      <td>Anna Karenina</td>\n",
       "      <td>NaN</td>\n",
       "      <td>NaN</td>\n",
       "      <td>0451528611</td>\n",
       "      <td>9780451528612</td>\n",
       "      <td>1877.0</td>\n",
       "      <td>Leo Tolstoy</td>\n",
       "      <td>964</td>\n",
       "      <td>['Classics', 'Fiction', 'Romance', 'Cultural &gt;...</td>\n",
       "      <td>{'to-read': 812579, 'currently-reading': 71583...</td>\n",
       "      <td>{'Best': 857, 'Books': 469, 'The': 8, 'Big': 7...</td>\n",
       "      <td>713072</td>\n",
       "      <td>26717</td>\n",
       "      <td>4.06</td>\n",
       "      <td>{'5 Stars': 299416, '4 Stars': 233102, '3 Star...</td>\n",
       "    </tr>\n",
       "    <tr>\n",
       "      <th>5</th>\n",
       "      <td>119322.The_Golden_Compass</td>\n",
       "      <td>119322</td>\n",
       "      <td>The Golden Compass</td>\n",
       "      <td>His Dark Materials #1</td>\n",
       "      <td>/series/44427-his-dark-materials</td>\n",
       "      <td>0590660543</td>\n",
       "      <td>9780590660549</td>\n",
       "      <td>1995.0</td>\n",
       "      <td>Philip Pullman</td>\n",
       "      <td>399</td>\n",
       "      <td>['Fantasy', 'Young Adult', 'Fiction', 'Childre...</td>\n",
       "      <td>{'to-read': 470371, 'fantasy': 26078, 'current...</td>\n",
       "      <td>{'Best': 1745, 'The': 413, 'Most': 686, 'Books...</td>\n",
       "      <td>1361442</td>\n",
       "      <td>24041</td>\n",
       "      <td>4.00</td>\n",
       "      <td>{'5 Stars': 548680, '4 Stars': 432345, '3 Star...</td>\n",
       "    </tr>\n",
       "    <tr>\n",
       "      <th>20</th>\n",
       "      <td>17245.Dracula</td>\n",
       "      <td>17245</td>\n",
       "      <td>Dracula</td>\n",
       "      <td>NaN</td>\n",
       "      <td>NaN</td>\n",
       "      <td>0743477367</td>\n",
       "      <td>9780743477369</td>\n",
       "      <td>1897.0</td>\n",
       "      <td>Bram Stoker</td>\n",
       "      <td>488</td>\n",
       "      <td>['Classics', 'Horror', 'Fiction', 'Fantasy', '...</td>\n",
       "      <td>{'to-read': 579473, 'currently-reading': 47225...</td>\n",
       "      <td>{'Best': 72, 'Books': 1155, '100': 20, 'The': ...</td>\n",
       "      <td>1016725</td>\n",
       "      <td>29345</td>\n",
       "      <td>4.00</td>\n",
       "      <td>{'5 Stars': 376634, '4 Stars': 356280, '3 Star...</td>\n",
       "    </tr>\n",
       "    <tr>\n",
       "      <th>8</th>\n",
       "      <td>13079982-fahrenheit-451</td>\n",
       "      <td>13079982</td>\n",
       "      <td>Fahrenheit 451</td>\n",
       "      <td>NaN</td>\n",
       "      <td>NaN</td>\n",
       "      <td>0307347974</td>\n",
       "      <td>9780307347978</td>\n",
       "      <td>1953.0</td>\n",
       "      <td>Ray Bradbury</td>\n",
       "      <td>194</td>\n",
       "      <td>['Classics', 'Fiction', 'Science Fiction', 'Sc...</td>\n",
       "      <td>{'to-read': 976309, 'currently-reading': 30089...</td>\n",
       "      <td>{'Best': 663, 'Books': 1, '100': 2, 'Stories':...</td>\n",
       "      <td>1851972</td>\n",
       "      <td>53295</td>\n",
       "      <td>3.99</td>\n",
       "      <td>{'5 Stars': 675971, '4 Stars': 663713, '3 Star...</td>\n",
       "    </tr>\n",
       "    <tr>\n",
       "      <th>18</th>\n",
       "      <td>168668.Catch_22</td>\n",
       "      <td>168668</td>\n",
       "      <td>Catch-22</td>\n",
       "      <td>Catch-22 #1</td>\n",
       "      <td>/series/180770-catch-22</td>\n",
       "      <td>0099477319</td>\n",
       "      <td>9780099477310</td>\n",
       "      <td>1961.0</td>\n",
       "      <td>Joseph Heller</td>\n",
       "      <td>453</td>\n",
       "      <td>['Classics', 'Fiction', 'Historical &gt; Historic...</td>\n",
       "      <td>{'to-read': 721532, 'currently-reading': 26664...</td>\n",
       "      <td>{'Best': 259, 'Books': 43, 'The': 599, '100': ...</td>\n",
       "      <td>756933</td>\n",
       "      <td>19464</td>\n",
       "      <td>3.98</td>\n",
       "      <td>{'5 Stars': 303363, '4 Stars': 240232, '3 Star...</td>\n",
       "    </tr>\n",
       "    <tr>\n",
       "      <th>6</th>\n",
       "      <td>12232938-the-lovely-bones</td>\n",
       "      <td>12232938</td>\n",
       "      <td>The Lovely Bones</td>\n",
       "      <td>NaN</td>\n",
       "      <td>NaN</td>\n",
       "      <td>0316168815</td>\n",
       "      <td>9780316168816</td>\n",
       "      <td>2002.0</td>\n",
       "      <td>Alice Sebold</td>\n",
       "      <td>372</td>\n",
       "      <td>['Fiction', 'Mystery', 'Young Adult', 'Contemp...</td>\n",
       "      <td>{'to-read': 624061, 'currently-reading': 11694...</td>\n",
       "      <td>{'Best': 1348, 'Books': 5, \"Everyone's\": 4615,...</td>\n",
       "      <td>2118591</td>\n",
       "      <td>41705</td>\n",
       "      <td>3.83</td>\n",
       "      <td>{'5 Stars': 656244, '4 Stars': 741591, '3 Star...</td>\n",
       "    </tr>\n",
       "    <tr>\n",
       "      <th>12</th>\n",
       "      <td>1381.The_Odyssey</td>\n",
       "      <td>1381</td>\n",
       "      <td>The Odyssey</td>\n",
       "      <td>NaN</td>\n",
       "      <td>NaN</td>\n",
       "      <td>0140268863</td>\n",
       "      <td>9780140268867</td>\n",
       "      <td>800.0</td>\n",
       "      <td>Homer</td>\n",
       "      <td>541</td>\n",
       "      <td>['Classics', 'Fiction', 'Poetry', 'Fantasy &gt; M...</td>\n",
       "      <td>{'to-read': 460932, 'currently-reading': 22378...</td>\n",
       "      <td>{'Best': 42, 'Books': 13, 'The': 39, '100': 10...</td>\n",
       "      <td>911576</td>\n",
       "      <td>13674</td>\n",
       "      <td>3.78</td>\n",
       "      <td>{'5 Stars': 284560, '4 Stars': 290837, '3 Star...</td>\n",
       "    </tr>\n",
       "    <tr>\n",
       "      <th>15</th>\n",
       "      <td>153747.Moby_Dick_or_the_Whale</td>\n",
       "      <td>153747</td>\n",
       "      <td>Moby-Dick or, the Whale</td>\n",
       "      <td>NaN</td>\n",
       "      <td>NaN</td>\n",
       "      <td>0553213113</td>\n",
       "      <td>9780553213119</td>\n",
       "      <td>1851.0</td>\n",
       "      <td>Herman Melville</td>\n",
       "      <td>654</td>\n",
       "      <td>['Classics', 'Fiction', 'Literature', 'Adventu...</td>\n",
       "      <td>{'to-read': 2151, 'currently-reading': 41747, ...</td>\n",
       "      <td>{'Best': 60, 'Books': 35, 'The': 27, 'Big': 14...</td>\n",
       "      <td>498670</td>\n",
       "      <td>17138</td>\n",
       "      <td>3.52</td>\n",
       "      <td>{'5 Stars': 136023, '4 Stars': 131515, '3 Star...</td>\n",
       "    </tr>\n",
       "  </tbody>\n",
       "</table>\n",
       "</div>"
      ],
      "text/plain": [
       "                                  book_id_title   book_id  \\\n",
       "11  136251.Harry_Potter_and_the_Deathly_Hallows    136251   \n",
       "10                      13496.A_Game_of_Thrones     13496   \n",
       "7               128029.A_Thousand_Splendid_Suns    128029   \n",
       "14                             149267.The_Stand    149267   \n",
       "16                     157993.The_Little_Prince    157993   \n",
       "13               14891.A_Tree_Grows_in_Brooklyn     14891   \n",
       "3                11127.The_Chronicles_of_Narnia     11127   \n",
       "2                               10964.Outlander     10964   \n",
       "4               11870085-the-fault-in-our-stars  11870085   \n",
       "9                            13335037-divergent  13335037   \n",
       "0                               10210.Jane_Eyre     10210   \n",
       "1                      10917.My_Sister_s_Keeper     10917   \n",
       "17                       15823480-anna-karenina  15823480   \n",
       "5                     119322.The_Golden_Compass    119322   \n",
       "20                                17245.Dracula     17245   \n",
       "8                       13079982-fahrenheit-451  13079982   \n",
       "18                              168668.Catch_22    168668   \n",
       "6                     12232938-the-lovely-bones  12232938   \n",
       "12                             1381.The_Odyssey      1381   \n",
       "15                153747.Moby_Dick_or_the_Whale    153747   \n",
       "\n",
       "                              book_title  \\\n",
       "11  Harry Potter and the Deathly Hallows   \n",
       "10                     A Game of Thrones   \n",
       "7               A Thousand Splendid Suns   \n",
       "14                             The Stand   \n",
       "16                     The Little Prince   \n",
       "13              A Tree Grows in Brooklyn   \n",
       "3               The Chronicles of Narnia   \n",
       "2                              Outlander   \n",
       "4                 The Fault in Our Stars   \n",
       "9                              Divergent   \n",
       "0                              Jane Eyre   \n",
       "1                     My Sister's Keeper   \n",
       "17                         Anna Karenina   \n",
       "5                     The Golden Compass   \n",
       "20                               Dracula   \n",
       "8                         Fahrenheit 451   \n",
       "18                              Catch-22   \n",
       "6                       The Lovely Bones   \n",
       "12                           The Odyssey   \n",
       "15               Moby-Dick or, the Whale   \n",
       "\n",
       "                                    book_series  \\\n",
       "11                              Harry Potter #7   \n",
       "10                    A Song of Ice and Fire #1   \n",
       "7                                           NaN   \n",
       "14                                          NaN   \n",
       "16                                          NaN   \n",
       "13                                          NaN   \n",
       "3   The Chronicles of Narnia (Publication Order   \n",
       "2                                  Outlander #1   \n",
       "4                                           NaN   \n",
       "9                                  Divergent #1   \n",
       "0                                           NaN   \n",
       "1                                           NaN   \n",
       "17                                          NaN   \n",
       "5                         His Dark Materials #1   \n",
       "20                                          NaN   \n",
       "8                                           NaN   \n",
       "18                                  Catch-22 #1   \n",
       "6                                           NaN   \n",
       "12                                          NaN   \n",
       "15                                          NaN   \n",
       "\n",
       "                                      book_series_uri            isbn  \\\n",
       "11                         /series/45175-harry-potter      0747591059   \n",
       "10               /series/43790-a-song-of-ice-and-fire  isbn not found   \n",
       "7                                                 NaN      0747582971   \n",
       "14                                                NaN      0451169530   \n",
       "16                                                NaN      3125971403   \n",
       "13                                                NaN      0060736267   \n",
       "3   /series/49073-the-chronicles-of-narnia-publica...      0060598247   \n",
       "2                             /series/43943-outlander      0440212561   \n",
       "4                                                 NaN      8415594011   \n",
       "9                             /series/57530-divergent      0062024027   \n",
       "0                                                 NaN      1551111802   \n",
       "1                                                 NaN      0743486196   \n",
       "17                                                NaN      0451528611   \n",
       "5                    /series/44427-his-dark-materials      0590660543   \n",
       "20                                                NaN      0743477367   \n",
       "8                                                 NaN      0307347974   \n",
       "18                            /series/180770-catch-22      0099477319   \n",
       "6                                                 NaN      0316168815   \n",
       "12                                                NaN      0140268863   \n",
       "15                                                NaN      0553213113   \n",
       "\n",
       "              isbn13  year_first_published                    author  \\\n",
       "11     9780747591054                   NaN              J.K. Rowling   \n",
       "10  isbn13 not found                1996.0        George R.R. Martin   \n",
       "7      9781594483851                2007.0           Khaled Hosseini   \n",
       "14     9780451169532                1978.0              Stephen King   \n",
       "16     9783125971400                1943.0  Antoine de Saint-Exupéry   \n",
       "13     9780060736262                1943.0               Betty Smith   \n",
       "3      9780060598242                1956.0                C.S. Lewis   \n",
       "2      9780440212560                1991.0            Diana Gabaldon   \n",
       "4      9780142424179                   NaN                John Green   \n",
       "9      9780062024022                2011.0             Veronica Roth   \n",
       "0      9781551111803                1846.0          Charlotte Brontë   \n",
       "1      9780743486194                2004.0              Jodi Picoult   \n",
       "17     9780451528612                1877.0               Leo Tolstoy   \n",
       "5      9780590660549                1995.0            Philip Pullman   \n",
       "20     9780743477369                1897.0               Bram Stoker   \n",
       "8      9780307347978                1953.0              Ray Bradbury   \n",
       "18     9780099477310                1961.0             Joseph Heller   \n",
       "6      9780316168816                2002.0              Alice Sebold   \n",
       "12     9780140268867                 800.0                     Homer   \n",
       "15     9780553213119                1851.0           Herman Melville   \n",
       "\n",
       "    num_pages                                             genres  \\\n",
       "11        759  ['Fantasy', 'Young Adult', 'Fiction', 'Fantasy...   \n",
       "10        835  ['Fantasy', 'Fiction', 'Fantasy > Epic Fantasy...   \n",
       "7         372  ['Fiction', 'Historical > Historical Fiction',...   \n",
       "14       1152  ['Horror', 'Fiction', 'Fantasy', 'Science Fict...   \n",
       "16         96  ['Classics', 'Fiction', 'Fantasy', 'Childrens'...   \n",
       "13        496  ['Classics', 'Fiction', 'Historical > Historic...   \n",
       "3         767  ['Fantasy', 'Classics', 'Fiction', 'Young Adul...   \n",
       "2         850  ['Historical > Historical Fiction', 'Romance',...   \n",
       "4         313  ['Young Adult', 'Romance', 'Fiction', 'Contemp...   \n",
       "9         487  ['Young Adult', 'Science Fiction > Dystopia', ...   \n",
       "0         532  ['Classics', 'Fiction', 'Romance', 'Historical...   \n",
       "1         423  ['Fiction', 'Contemporary', 'Womens Fiction > ...   \n",
       "17        964  ['Classics', 'Fiction', 'Romance', 'Cultural >...   \n",
       "5         399  ['Fantasy', 'Young Adult', 'Fiction', 'Childre...   \n",
       "20        488  ['Classics', 'Horror', 'Fiction', 'Fantasy', '...   \n",
       "8         194  ['Classics', 'Fiction', 'Science Fiction', 'Sc...   \n",
       "18        453  ['Classics', 'Fiction', 'Historical > Historic...   \n",
       "6         372  ['Fiction', 'Mystery', 'Young Adult', 'Contemp...   \n",
       "12        541  ['Classics', 'Fiction', 'Poetry', 'Fantasy > M...   \n",
       "15        654  ['Classics', 'Fiction', 'Literature', 'Adventu...   \n",
       "\n",
       "                                              shelves  \\\n",
       "11  {'to-read': 422123, 'fantasy': 50991, 'favorit...   \n",
       "10  {'to-read': 830018, 'currently-reading': 10194...   \n",
       "7   {'to-read': 588364, 'currently-reading': 27018...   \n",
       "14  {'to-read': 16133, 'horror': 9322, 'favorites'...   \n",
       "16  {'to-read': 574814, 'currently-reading': 23794...   \n",
       "13  {'to-read': 352646, 'currently-reading': 12641...   \n",
       "3   {'to-read': 213905, 'currently-reading': 13025...   \n",
       "2   {'to-read': 586400, 'currently-reading': 59918...   \n",
       "4   {'to-read': 76948, 'currently-reading': 58616,...   \n",
       "9   {'to-read': 904084, 'currently-reading': 39692...   \n",
       "0   {'to-read': 861870, 'currently-reading': 57625...   \n",
       "1   {'to-read': 268381, 'currently-reading': 7028,...   \n",
       "17  {'to-read': 812579, 'currently-reading': 71583...   \n",
       "5   {'to-read': 470371, 'fantasy': 26078, 'current...   \n",
       "20  {'to-read': 579473, 'currently-reading': 47225...   \n",
       "8   {'to-read': 976309, 'currently-reading': 30089...   \n",
       "18  {'to-read': 721532, 'currently-reading': 26664...   \n",
       "6   {'to-read': 624061, 'currently-reading': 11694...   \n",
       "12  {'to-read': 460932, 'currently-reading': 22378...   \n",
       "15  {'to-read': 2151, 'currently-reading': 41747, ...   \n",
       "\n",
       "                                                lists  num_ratings  \\\n",
       "11  {'Best': 491, 'Books': 108, 'The': 256, \"Could...      3041745   \n",
       "10  {'The': 12050, 'Best': 63, 'Books': 113, 'Big'...      2129544   \n",
       "7   {'Best': 768, 'Books': 2739, \"Everyone's\": 461...      1241293   \n",
       "14  {'Best': 39, 'Books': 36, 'Big': 149, '100': 1...       663704   \n",
       "16  {'Books': 1106, 'Best': 30, '100': 44, '1001':...      1547947   \n",
       "13  {'Best': 5, 'Books': 8, '100': 604, 'What': 84...       407677   \n",
       "3   {'Best': 11, 'Books': 21, 'The': 10, 'What': 6...       561302   \n",
       "2   {'Best': 258, 'The': 77, 'Favorite': 182, 'All...       892738   \n",
       "4   {'Best': 235, 'YA': 66, 'TO': 770, 'Books': 99...      3924262   \n",
       "9   {'Best': 942, '2011': 598, \"What's\": 8768, 'Ju...      3175437   \n",
       "0   {'Best': 197, 'Books': 134, '100': 1603, 'Big'...      1743436   \n",
       "1   {'Best': 2065, 'Books': 675, 'The': 222, \"Coul...      1101809   \n",
       "17  {'Best': 857, 'Books': 469, 'The': 8, 'Big': 7...       713072   \n",
       "5   {'Best': 1745, 'The': 413, 'Most': 686, 'Books...      1361442   \n",
       "20  {'Best': 72, 'Books': 1155, '100': 20, 'The': ...      1016725   \n",
       "8   {'Best': 663, 'Books': 1, '100': 2, 'Stories':...      1851972   \n",
       "18  {'Best': 259, 'Books': 43, 'The': 599, '100': ...       756933   \n",
       "6   {'Best': 1348, 'Books': 5, \"Everyone's\": 4615,...      2118591   \n",
       "12  {'Best': 42, 'Books': 13, 'The': 39, '100': 10...       911576   \n",
       "15  {'Best': 60, 'Books': 35, 'The': 27, 'Big': 14...       498670   \n",
       "\n",
       "    num_reviews  average_rating  \\\n",
       "11        70066            4.62   \n",
       "10        56147            4.44   \n",
       "7         58304            4.39   \n",
       "14        23317            4.34   \n",
       "16        45424            4.31   \n",
       "13        22026            4.27   \n",
       "3         10847            4.26   \n",
       "2         47637            4.23   \n",
       "4        160263            4.18   \n",
       "9        110735            4.18   \n",
       "0         46769            4.13   \n",
       "1         34139            4.08   \n",
       "17        26717            4.06   \n",
       "5         24041            4.00   \n",
       "20        29345            4.00   \n",
       "8         53295            3.99   \n",
       "18        19464            3.98   \n",
       "6         41705            3.83   \n",
       "12        13674            3.78   \n",
       "15        17138            3.52   \n",
       "\n",
       "                                  rating_distribution  \n",
       "11  {'5 Stars': 2204449, '4 Stars': 597125, '3 Sta...  \n",
       "10  {'5 Stars': 1307611, '4 Stars': 573117, '3 Sta...  \n",
       "7   {'5 Stars': 681411, '4 Stars': 400627, '3 Star...  \n",
       "14  {'5 Stars': 367531, '4 Stars': 189469, '3 Star...  \n",
       "16  {'5 Stars': 870352, '4 Stars': 398730, '3 Star...  \n",
       "13  {'5 Stars': 203526, '4 Stars': 133955, '3 Star...  \n",
       "3   {'5 Stars': 276979, '4 Stars': 180820, '3 Star...  \n",
       "2   {'5 Stars': 488529, '4 Stars': 225164, '3 Star...  \n",
       "4   {'5 Stars': 1932037, '4 Stars': 1138642, '3 St...  \n",
       "9   {'5 Stars': 1520627, '4 Stars': 963569, '3 Sta...  \n",
       "0   {'5 Stars': 805768, '4 Stars': 537570, '3 Star...  \n",
       "1   {'5 Stars': 447945, '4 Stars': 387514, '3 Star...  \n",
       "17  {'5 Stars': 299416, '4 Stars': 233102, '3 Star...  \n",
       "5   {'5 Stars': 548680, '4 Stars': 432345, '3 Star...  \n",
       "20  {'5 Stars': 376634, '4 Stars': 356280, '3 Star...  \n",
       "8   {'5 Stars': 675971, '4 Stars': 663713, '3 Star...  \n",
       "18  {'5 Stars': 303363, '4 Stars': 240232, '3 Star...  \n",
       "6   {'5 Stars': 656244, '4 Stars': 741591, '3 Star...  \n",
       "12  {'5 Stars': 284560, '4 Stars': 290837, '3 Star...  \n",
       "15  {'5 Stars': 136023, '4 Stars': 131515, '3 Star...  "
      ]
     },
     "execution_count": 198,
     "metadata": {},
     "output_type": "execute_result"
    }
   ],
   "source": [
    "books[books['book_id'].isin(list(books.groupby('author').max('average_rating')['book_id']))][:20].sort_values('average_rating',ascending=False)"
   ]
  },
  {
   "cell_type": "code",
   "execution_count": 194,
   "id": "moderate-nashville",
   "metadata": {},
   "outputs": [
    {
     "data": {
      "text/plain": [
       "[99107,\n",
       " 5129,\n",
       " 12232938,\n",
       " 52892857,\n",
       " 43763,\n",
       " 41817486,\n",
       " 157993,\n",
       " 3590,\n",
       " 929,\n",
       " 18619684,\n",
       " 662,\n",
       " 7244,\n",
       " 14891,\n",
       " 17245,\n",
       " 11127,\n",
       " 256683,\n",
       " 2623,\n",
       " 10210,\n",
       " 6288,\n",
       " 968,\n",
       " 17899948,\n",
       " 10964,\n",
       " 386162,\n",
       " 23772,\n",
       " 24178,\n",
       " 23919,\n",
       " 6185,\n",
       " 2165,\n",
       " 4671,\n",
       " 2998,\n",
       " 44767458,\n",
       " 252577,\n",
       " 7144,\n",
       " 320,\n",
       " 40961427,\n",
       " 13496,\n",
       " 2657,\n",
       " 153747,\n",
       " 52036,\n",
       " 1381,\n",
       " 5107,\n",
       " 136251,\n",
       " 3263607,\n",
       " 1885,\n",
       " 10917,\n",
       " 11870085,\n",
       " 4473,\n",
       " 890,\n",
       " 168668,\n",
       " 4667024,\n",
       " 5043,\n",
       " 332613,\n",
       " 128029,\n",
       " 4981,\n",
       " 8127,\n",
       " 15823480,\n",
       " 24213,\n",
       " 3636,\n",
       " 1934,\n",
       " 33574273,\n",
       " 38447,\n",
       " 18405,\n",
       " 2956,\n",
       " 19063,\n",
       " 35031085,\n",
       " 19543,\n",
       " 3836,\n",
       " 33648131,\n",
       " 375802,\n",
       " 5297,\n",
       " 18144590,\n",
       " 119322,\n",
       " 13079982,\n",
       " 76620,\n",
       " 345627,\n",
       " 28187,\n",
       " 39988,\n",
       " 231804,\n",
       " 43641,\n",
       " 370493,\n",
       " 22628,\n",
       " 149267,\n",
       " 41865,\n",
       " 2429135,\n",
       " 2767052,\n",
       " 6514,\n",
       " 13335037,\n",
       " 24280,\n",
       " 7604,\n",
       " 7624,\n",
       " 21787,\n",
       " 18135,\n",
       " 4214]"
      ]
     },
     "execution_count": 194,
     "metadata": {},
     "output_type": "execute_result"
    }
   ],
   "source": [
    "list(books.groupby('author').max('average_rating')['book_id'].values)"
   ]
  },
  {
   "cell_type": "markdown",
   "id": "personalized-separate",
   "metadata": {},
   "source": [
    "**distribution of the average rating column (plotted in standard pandas plot, plotly and seaborn to compare)**"
   ]
  },
  {
   "cell_type": "code",
   "execution_count": 207,
   "id": "binary-webcam",
   "metadata": {},
   "outputs": [
    {
     "data": {
      "text/plain": [
       "<AxesSubplot:>"
      ]
     },
     "execution_count": 207,
     "metadata": {},
     "output_type": "execute_result"
    },
    {
     "data": {
      "image/png": "[encoded data removed]",
      "text/plain": [
       "<Figure size 432x288 with 1 Axes>"
      ]
     },
     "metadata": {
      "needs_background": "light"
     },
     "output_type": "display_data"
    }
   ],
   "source": [
    "books['average_rating'].hist()"
   ]
  },
  {
   "cell_type": "code",
   "execution_count": 208,
   "id": "posted-latino",
   "metadata": {},
   "outputs": [
    {
     "data": {
      "application/vnd.plotly.v1+json": {
       "config": {
        "plotlyServerURL": "https://plot.ly"
       },
       "data": [
        {
         "alignmentgroup": "True",
         "bingroup": "x",
         "hovertemplate": "x=%{x}<br>count=%{y}<extra></extra>",
         "legendgroup": "",
         "marker": {
          "color": "#636efa"
         },
         "name": "",
         "offsetgroup": "",
         "orientation": "v",
         "showlegend": false,
         "type": "histogram",
         "x": [
          4.13,
          4.08,
          4.23,
          4.26,
          4.18,
          4,
          3.83,
          4.39,
          3.99,
          4.18,
          4.44,
          4.62,
          3.78,
          4.27,
          4.34,
          3.52,
          4.31,
          4.06,
          3.98,
          3.96,
          4,
          4.23,
          3.75,
          3.89,
          4.3,
          3.98,
          4.27,
          4.38,
          4.1,
          3.85,
          4.21,
          4.5,
          3.79,
          4.25,
          4.21,
          4.1,
          4.29,
          4.37,
          4.18,
          4.06,
          4.18,
          4.14,
          4.12,
          4.09,
          3.78,
          4.28,
          4.32,
          4.27,
          3.82,
          4.13,
          4.47,
          4.6,
          4.09,
          4.37,
          4.19,
          3.99,
          4.12,
          4.11,
          3.82,
          4.3,
          4.13,
          4.37,
          4.3,
          3.88,
          4.12,
          4.22,
          4.32,
          4.19,
          3.99,
          3.61,
          3.92,
          4.09,
          4,
          4.23,
          4.24,
          4.46,
          3.93,
          4.33,
          4.08,
          4.57,
          4.32,
          3.81,
          3.99,
          4.04,
          4.23,
          4.09,
          3.87,
          3.97,
          4.02,
          3.69,
          4.23,
          4.07,
          3.88,
          3.69,
          4.06,
          4.31,
          4.26,
          3.88,
          4.13,
          3.87,
          4.31
         ],
         "xaxis": "x",
         "yaxis": "y"
        }
       ],
       "layout": {
        "barmode": "relative",
        "legend": {
         "tracegroupgap": 0
        },
        "margin": {
         "t": 60
        },
        "template": {
         "data": {
          "bar": [
           {
            "error_x": {
             "color": "#2a3f5f"
            },
            "error_y": {
             "color": "#2a3f5f"
            },
            "marker": {
             "line": {
              "color": "#E5ECF6",
              "width": 0.5
             }
            },
            "type": "bar"
           }
          ],
          "barpolar": [
           {
            "marker": {
             "line": {
              "color": "#E5ECF6",
              "width": 0.5
             }
            },
            "type": "barpolar"
           }
          ],
          "carpet": [
           {
            "aaxis": {
             "endlinecolor": "#2a3f5f",
             "gridcolor": "white",
             "linecolor": "white",
             "minorgridcolor": "white",
             "startlinecolor": "#2a3f5f"
            },
            "baxis": {
             "endlinecolor": "#2a3f5f",
             "gridcolor": "white",
             "linecolor": "white",
             "minorgridcolor": "white",
             "startlinecolor": "#2a3f5f"
            },
            "type": "carpet"
           }
          ],
          "choropleth": [
           {
            "colorbar": {
             "outlinewidth": 0,
             "ticks": ""
            },
            "type": "choropleth"
           }
          ],
          "contour": [
           {
            "colorbar": {
             "outlinewidth": 0,
             "ticks": ""
            },
            "colorscale": [
             [
              0,
              "#0d0887"
             ],
             [
              0.1111111111111111,
              "#46039f"
             ],
             [
              0.2222222222222222,
              "#7201a8"
             ],
             [
              0.3333333333333333,
              "#9c179e"
             ],
             [
              0.4444444444444444,
              "#bd3786"
             ],
             [
              0.5555555555555556,
              "#d8576b"
             ],
             [
              0.6666666666666666,
              "#ed7953"
             ],
             [
              0.7777777777777778,
              "#fb9f3a"
             ],
             [
              0.8888888888888888,
              "#fdca26"
             ],
             [
              1,
              "#f0f921"
             ]
            ],
            "type": "contour"
           }
          ],
          "contourcarpet": [
           {
            "colorbar": {
             "outlinewidth": 0,
             "ticks": ""
            },
            "type": "contourcarpet"
           }
          ],
          "heatmap": [
           {
            "colorbar": {
             "outlinewidth": 0,
             "ticks": ""
            },
            "colorscale": [
             [
              0,
              "#0d0887"
             ],
             [
              0.1111111111111111,
              "#46039f"
             ],
             [
              0.2222222222222222,
              "#7201a8"
             ],
             [
              0.3333333333333333,
              "#9c179e"
             ],
             [
              0.4444444444444444,
              "#bd3786"
             ],
             [
              0.5555555555555556,
              "#d8576b"
             ],
             [
              0.6666666666666666,
              "#ed7953"
             ],
             [
              0.7777777777777778,
              "#fb9f3a"
             ],
             [
              0.8888888888888888,
              "#fdca26"
             ],
             [
              1,
              "#f0f921"
             ]
            ],
            "type": "heatmap"
           }
          ],
          "heatmapgl": [
           {
            "colorbar": {
             "outlinewidth": 0,
             "ticks": ""
            },
            "colorscale": [
             [
              0,
              "#0d0887"
             ],
             [
              0.1111111111111111,
              "#46039f"
             ],
             [
              0.2222222222222222,
              "#7201a8"
             ],
             [
              0.3333333333333333,
              "#9c179e"
             ],
             [
              0.4444444444444444,
              "#bd3786"
             ],
             [
              0.5555555555555556,
              "#d8576b"
             ],
             [
              0.6666666666666666,
              "#ed7953"
             ],
             [
              0.7777777777777778,
              "#fb9f3a"
             ],
             [
              0.8888888888888888,
              "#fdca26"
             ],
             [
              1,
              "#f0f921"
             ]
            ],
            "type": "heatmapgl"
           }
          ],
          "histogram": [
           {
            "marker": {
             "colorbar": {
              "outlinewidth": 0,
              "ticks": ""
             }
            },
            "type": "histogram"
           }
          ],
          "histogram2d": [
           {
            "colorbar": {
             "outlinewidth": 0,
             "ticks": ""
            },
            "colorscale": [
             [
              0,
              "#0d0887"
             ],
             [
              0.1111111111111111,
              "#46039f"
             ],
             [
              0.2222222222222222,
              "#7201a8"
             ],
             [
              0.3333333333333333,
              "#9c179e"
             ],
             [
              0.4444444444444444,
              "#bd3786"
             ],
             [
              0.5555555555555556,
              "#d8576b"
             ],
             [
              0.6666666666666666,
              "#ed7953"
             ],
             [
              0.7777777777777778,
              "#fb9f3a"
             ],
             [
              0.8888888888888888,
              "#fdca26"
             ],
             [
              1,
              "#f0f921"
             ]
            ],
            "type": "histogram2d"
           }
          ],
          "histogram2dcontour": [
           {
            "colorbar": {
             "outlinewidth": 0,
             "ticks": ""
            },
            "colorscale": [
             [
              0,
              "#0d0887"
             ],
             [
              0.1111111111111111,
              "#46039f"
             ],
             [
              0.2222222222222222,
              "#7201a8"
             ],
             [
              0.3333333333333333,
              "#9c179e"
             ],
             [
              0.4444444444444444,
              "#bd3786"
             ],
             [
              0.5555555555555556,
              "#d8576b"
             ],
             [
              0.6666666666666666,
              "#ed7953"
             ],
             [
              0.7777777777777778,
              "#fb9f3a"
             ],
             [
              0.8888888888888888,
              "#fdca26"
             ],
             [
              1,
              "#f0f921"
             ]
            ],
            "type": "histogram2dcontour"
           }
          ],
          "mesh3d": [
           {
            "colorbar": {
             "outlinewidth": 0,
             "ticks": ""
            },
            "type": "mesh3d"
           }
          ],
          "parcoords": [
           {
            "line": {
             "colorbar": {
              "outlinewidth": 0,
              "ticks": ""
             }
            },
            "type": "parcoords"
           }
          ],
          "pie": [
           {
            "automargin": true,
            "type": "pie"
           }
          ],
          "scatter": [
           {
            "marker": {
             "colorbar": {
              "outlinewidth": 0,
              "ticks": ""
             }
            },
            "type": "scatter"
           }
          ],
          "scatter3d": [
           {
            "line": {
             "colorbar": {
              "outlinewidth": 0,
              "ticks": ""
             }
            },
            "marker": {
             "colorbar": {
              "outlinewidth": 0,
              "ticks": ""
             }
            },
            "type": "scatter3d"
           }
          ],
          "scattercarpet": [
           {
            "marker": {
             "colorbar": {
              "outlinewidth": 0,
              "ticks": ""
             }
            },
            "type": "scattercarpet"
           }
          ],
          "scattergeo": [
           {
            "marker": {
             "colorbar": {
              "outlinewidth": 0,
              "ticks": ""
             }
            },
            "type": "scattergeo"
           }
          ],
          "scattergl": [
           {
            "marker": {
             "colorbar": {
              "outlinewidth": 0,
              "ticks": ""
             }
            },
            "type": "scattergl"
           }
          ],
          "scattermapbox": [
           {
            "marker": {
             "colorbar": {
              "outlinewidth": 0,
              "ticks": ""
             }
            },
            "type": "scattermapbox"
           }
          ],
          "scatterpolar": [
           {
            "marker": {
             "colorbar": {
              "outlinewidth": 0,
              "ticks": ""
             }
            },
            "type": "scatterpolar"
           }
          ],
          "scatterpolargl": [
           {
            "marker": {
             "colorbar": {
              "outlinewidth": 0,
              "ticks": ""
             }
            },
            "type": "scatterpolargl"
           }
          ],
          "scatterternary": [
           {
            "marker": {
             "colorbar": {
              "outlinewidth": 0,
              "ticks": ""
             }
            },
            "type": "scatterternary"
           }
          ],
          "surface": [
           {
            "colorbar": {
             "outlinewidth": 0,
             "ticks": ""
            },
            "colorscale": [
             [
              0,
              "#0d0887"
             ],
             [
              0.1111111111111111,
              "#46039f"
             ],
             [
              0.2222222222222222,
              "#7201a8"
             ],
             [
              0.3333333333333333,
              "#9c179e"
             ],
             [
              0.4444444444444444,
              "#bd3786"
             ],
             [
              0.5555555555555556,
              "#d8576b"
             ],
             [
              0.6666666666666666,
              "#ed7953"
             ],
             [
              0.7777777777777778,
              "#fb9f3a"
             ],
             [
              0.8888888888888888,
              "#fdca26"
             ],
             [
              1,
              "#f0f921"
             ]
            ],
            "type": "surface"
           }
          ],
          "table": [
           {
            "cells": {
             "fill": {
              "color": "#EBF0F8"
             },
             "line": {
              "color": "white"
             }
            },
            "header": {
             "fill": {
              "color": "#C8D4E3"
             },
             "line": {
              "color": "white"
             }
            },
            "type": "table"
           }
          ]
         },
         "layout": {
          "annotationdefaults": {
           "arrowcolor": "#2a3f5f",
           "arrowhead": 0,
           "arrowwidth": 1
          },
          "coloraxis": {
           "colorbar": {
            "outlinewidth": 0,
            "ticks": ""
           }
          },
          "colorscale": {
           "diverging": [
            [
             0,
             "#8e0152"
            ],
            [
             0.1,
             "#c51b7d"
            ],
            [
             0.2,
             "#de77ae"
            ],
            [
             0.3,
             "#f1b6da"
            ],
            [
             0.4,
             "#fde0ef"
            ],
            [
             0.5,
             "#f7f7f7"
            ],
            [
             0.6,
             "#e6f5d0"
            ],
            [
             0.7,
             "#b8e186"
            ],
            [
             0.8,
             "#7fbc41"
            ],
            [
             0.9,
             "#4d9221"
            ],
            [
             1,
             "#276419"
            ]
           ],
           "sequential": [
            [
             0,
             "#0d0887"
            ],
            [
             0.1111111111111111,
             "#46039f"
            ],
            [
             0.2222222222222222,
             "#7201a8"
            ],
            [
             0.3333333333333333,
             "#9c179e"
            ],
            [
             0.4444444444444444,
             "#bd3786"
            ],
            [
             0.5555555555555556,
             "#d8576b"
            ],
            [
             0.6666666666666666,
             "#ed7953"
            ],
            [
             0.7777777777777778,
             "#fb9f3a"
            ],
            [
             0.8888888888888888,
             "#fdca26"
            ],
            [
             1,
             "#f0f921"
            ]
           ],
           "sequentialminus": [
            [
             0,
             "#0d0887"
            ],
            [
             0.1111111111111111,
             "#46039f"
            ],
            [
             0.2222222222222222,
             "#7201a8"
            ],
            [
             0.3333333333333333,
             "#9c179e"
            ],
            [
             0.4444444444444444,
             "#bd3786"
            ],
            [
             0.5555555555555556,
             "#d8576b"
            ],
            [
             0.6666666666666666,
             "#ed7953"
            ],
            [
             0.7777777777777778,
             "#fb9f3a"
            ],
            [
             0.8888888888888888,
             "#fdca26"
            ],
            [
             1,
             "#f0f921"
            ]
           ]
          },
          "colorway": [
           "#636efa",
           "#EF553B",
           "#00cc96",
           "#ab63fa",
           "#FFA15A",
           "#19d3f3",
           "#FF6692",
           "#B6E880",
           "#FF97FF",
           "#FECB52"
          ],
          "font": {
           "color": "#2a3f5f"
          },
          "geo": {
           "bgcolor": "white",
           "lakecolor": "white",
           "landcolor": "#E5ECF6",
           "showlakes": true,
           "showland": true,
           "subunitcolor": "white"
          },
          "hoverlabel": {
           "align": "left"
          },
          "hovermode": "closest",
          "mapbox": {
           "style": "light"
          },
          "paper_bgcolor": "white",
          "plot_bgcolor": "#E5ECF6",
          "polar": {
           "angularaxis": {
            "gridcolor": "white",
            "linecolor": "white",
            "ticks": ""
           },
           "bgcolor": "#E5ECF6",
           "radialaxis": {
            "gridcolor": "white",
            "linecolor": "white",
            "ticks": ""
           }
          },
          "scene": {
           "xaxis": {
            "backgroundcolor": "#E5ECF6",
            "gridcolor": "white",
            "gridwidth": 2,
            "linecolor": "white",
            "showbackground": true,
            "ticks": "",
            "zerolinecolor": "white"
           },
           "yaxis": {
            "backgroundcolor": "#E5ECF6",
            "gridcolor": "white",
            "gridwidth": 2,
            "linecolor": "white",
            "showbackground": true,
            "ticks": "",
            "zerolinecolor": "white"
           },
           "zaxis": {
            "backgroundcolor": "#E5ECF6",
            "gridcolor": "white",
            "gridwidth": 2,
            "linecolor": "white",
            "showbackground": true,
            "ticks": "",
            "zerolinecolor": "white"
           }
          },
          "shapedefaults": {
           "line": {
            "color": "#2a3f5f"
           }
          },
          "ternary": {
           "aaxis": {
            "gridcolor": "white",
            "linecolor": "white",
            "ticks": ""
           },
           "baxis": {
            "gridcolor": "white",
            "linecolor": "white",
            "ticks": ""
           },
           "bgcolor": "#E5ECF6",
           "caxis": {
            "gridcolor": "white",
            "linecolor": "white",
            "ticks": ""
           }
          },
          "title": {
           "x": 0.05
          },
          "xaxis": {
           "automargin": true,
           "gridcolor": "white",
           "linecolor": "white",
           "ticks": "",
           "title": {
            "standoff": 15
           },
           "zerolinecolor": "white",
           "zerolinewidth": 2
          },
          "yaxis": {
           "automargin": true,
           "gridcolor": "white",
           "linecolor": "white",
           "ticks": "",
           "title": {
            "standoff": 15
           },
           "zerolinecolor": "white",
           "zerolinewidth": 2
          }
         }
        },
        "xaxis": {
         "anchor": "y",
         "domain": [
          0,
          1
         ],
         "title": {
          "text": "x"
         }
        },
        "yaxis": {
         "anchor": "x",
         "domain": [
          0,
          1
         ],
         "title": {
          "text": "count"
         }
        }
       }
      },
      "text/html": [
       "<div>                            <div id=\"34352d7b-d25a-4658-ab6d-7f39fb4c6ecb\" class=\"plotly-graph-div\" style=\"height:525px; width:100%;\"></div>            <script type=\"text/javascript\">                require([\"plotly\"], function(Plotly) {                    window.PLOTLYENV=window.PLOTLYENV || {};                                    if (document.getElementById(\"34352d7b-d25a-4658-ab6d-7f39fb4c6ecb\")) {                    Plotly.newPlot(                        \"34352d7b-d25a-4658-ab6d-7f39fb4c6ecb\",                        [{\"alignmentgroup\": \"True\", \"bingroup\": \"x\", \"hovertemplate\": \"x=%{x}<br>count=%{y}<extra></extra>\", \"legendgroup\": \"\", \"marker\": {\"color\": \"#636efa\"}, \"name\": \"\", \"offsetgroup\": \"\", \"orientation\": \"v\", \"showlegend\": false, \"type\": \"histogram\", \"x\": [4.13, 4.08, 4.23, 4.26, 4.18, 4.0, 3.83, 4.39, 3.99, 4.18, 4.44, 4.62, 3.78, 4.27, 4.34, 3.52, 4.31, 4.06, 3.98, 3.96, 4.0, 4.23, 3.75, 3.89, 4.3, 3.98, 4.27, 4.38, 4.1, 3.85, 4.21, 4.5, 3.79, 4.25, 4.21, 4.1, 4.29, 4.37, 4.18, 4.06, 4.18, 4.14, 4.12, 4.09, 3.78, 4.28, 4.32, 4.27, 3.82, 4.13, 4.47, 4.6, 4.09, 4.37, 4.19, 3.99, 4.12, 4.11, 3.82, 4.3, 4.13, 4.37, 4.3, 3.88, 4.12, 4.22, 4.32, 4.19, 3.99, 3.61, 3.92, 4.09, 4.0, 4.23, 4.24, 4.46, 3.93, 4.33, 4.08, 4.57, 4.32, 3.81, 3.99, 4.04, 4.23, 4.09, 3.87, 3.97, 4.02, 3.69, 4.23, 4.07, 3.88, 3.69, 4.06, 4.31, 4.26, 3.88, 4.13, 3.87, 4.31], \"xaxis\": \"x\", \"yaxis\": \"y\"}],                        {\"barmode\": \"relative\", \"legend\": {\"tracegroupgap\": 0}, \"margin\": {\"t\": 60}, \"template\": {\"data\": {\"bar\": [{\"error_x\": {\"color\": \"#2a3f5f\"}, \"error_y\": {\"color\": \"#2a3f5f\"}, \"marker\": {\"line\": {\"color\": \"#E5ECF6\", \"width\": 0.5}}, \"type\": \"bar\"}], \"barpolar\": [{\"marker\": {\"line\": {\"color\": \"#E5ECF6\", \"width\": 0.5}}, \"type\": \"barpolar\"}], \"carpet\": [{\"aaxis\": {\"endlinecolor\": \"#2a3f5f\", \"gridcolor\": \"white\", \"linecolor\": \"white\", \"minorgridcolor\": \"white\", \"startlinecolor\": \"#2a3f5f\"}, \"baxis\": {\"endlinecolor\": \"#2a3f5f\", \"gridcolor\": \"white\", \"linecolor\": \"white\", \"minorgridcolor\": \"white\", \"startlinecolor\": \"#2a3f5f\"}, \"type\": \"carpet\"}], \"choropleth\": [{\"colorbar\": {\"outlinewidth\": 0, \"ticks\": \"\"}, \"type\": \"choropleth\"}], \"contour\": [{\"colorbar\": {\"outlinewidth\": 0, \"ticks\": \"\"}, \"colorscale\": [[0.0, \"#0d0887\"], [0.1111111111111111, \"#46039f\"], [0.2222222222222222, \"#7201a8\"], [0.3333333333333333, \"#9c179e\"], [0.4444444444444444, \"#bd3786\"], [0.5555555555555556, \"#d8576b\"], [0.6666666666666666, \"#ed7953\"], [0.7777777777777778, \"#fb9f3a\"], [0.8888888888888888, \"#fdca26\"], [1.0, \"#f0f921\"]], \"type\": \"contour\"}], \"contourcarpet\": [{\"colorbar\": {\"outlinewidth\": 0, \"ticks\": \"\"}, \"type\": \"contourcarpet\"}], \"heatmap\": [{\"colorbar\": {\"outlinewidth\": 0, \"ticks\": \"\"}, \"colorscale\": [[0.0, \"#0d0887\"], [0.1111111111111111, \"#46039f\"], [0.2222222222222222, \"#7201a8\"], [0.3333333333333333, \"#9c179e\"], [0.4444444444444444, \"#bd3786\"], [0.5555555555555556, \"#d8576b\"], [0.6666666666666666, \"#ed7953\"], [0.7777777777777778, \"#fb9f3a\"], [0.8888888888888888, \"#fdca26\"], [1.0, \"#f0f921\"]], \"type\": \"heatmap\"}], \"heatmapgl\": [{\"colorbar\": {\"outlinewidth\": 0, \"ticks\": \"\"}, \"colorscale\": [[0.0, \"#0d0887\"], [0.1111111111111111, \"#46039f\"], [0.2222222222222222, \"#7201a8\"], [0.3333333333333333, \"#9c179e\"], [0.4444444444444444, \"#bd3786\"], [0.5555555555555556, \"#d8576b\"], [0.6666666666666666, \"#ed7953\"], [0.7777777777777778, \"#fb9f3a\"], [0.8888888888888888, \"#fdca26\"], [1.0, \"#f0f921\"]], \"type\": \"heatmapgl\"}], \"histogram\": [{\"marker\": {\"colorbar\": {\"outlinewidth\": 0, \"ticks\": \"\"}}, \"type\": \"histogram\"}], \"histogram2d\": [{\"colorbar\": {\"outlinewidth\": 0, \"ticks\": \"\"}, \"colorscale\": [[0.0, \"#0d0887\"], [0.1111111111111111, \"#46039f\"], [0.2222222222222222, \"#7201a8\"], [0.3333333333333333, \"#9c179e\"], [0.4444444444444444, \"#bd3786\"], [0.5555555555555556, \"#d8576b\"], [0.6666666666666666, \"#ed7953\"], [0.7777777777777778, \"#fb9f3a\"], [0.8888888888888888, \"#fdca26\"], [1.0, \"#f0f921\"]], \"type\": \"histogram2d\"}], \"histogram2dcontour\": [{\"colorbar\": {\"outlinewidth\": 0, \"ticks\": \"\"}, \"colorscale\": [[0.0, \"#0d0887\"], [0.1111111111111111, \"#46039f\"], [0.2222222222222222, \"#7201a8\"], [0.3333333333333333, \"#9c179e\"], [0.4444444444444444, \"#bd3786\"], [0.5555555555555556, \"#d8576b\"], [0.6666666666666666, \"#ed7953\"], [0.7777777777777778, \"#fb9f3a\"], [0.8888888888888888, \"#fdca26\"], [1.0, \"#f0f921\"]], \"type\": \"histogram2dcontour\"}], \"mesh3d\": [{\"colorbar\": {\"outlinewidth\": 0, \"ticks\": \"\"}, \"type\": \"mesh3d\"}], \"parcoords\": [{\"line\": {\"colorbar\": {\"outlinewidth\": 0, \"ticks\": \"\"}}, \"type\": \"parcoords\"}], \"pie\": [{\"automargin\": true, \"type\": \"pie\"}], \"scatter\": [{\"marker\": {\"colorbar\": {\"outlinewidth\": 0, \"ticks\": \"\"}}, \"type\": \"scatter\"}], \"scatter3d\": [{\"line\": {\"colorbar\": {\"outlinewidth\": 0, \"ticks\": \"\"}}, \"marker\": {\"colorbar\": {\"outlinewidth\": 0, \"ticks\": \"\"}}, \"type\": \"scatter3d\"}], \"scattercarpet\": [{\"marker\": {\"colorbar\": {\"outlinewidth\": 0, \"ticks\": \"\"}}, \"type\": \"scattercarpet\"}], \"scattergeo\": [{\"marker\": {\"colorbar\": {\"outlinewidth\": 0, \"ticks\": \"\"}}, \"type\": \"scattergeo\"}], \"scattergl\": [{\"marker\": {\"colorbar\": {\"outlinewidth\": 0, \"ticks\": \"\"}}, \"type\": \"scattergl\"}], \"scattermapbox\": [{\"marker\": {\"colorbar\": {\"outlinewidth\": 0, \"ticks\": \"\"}}, \"type\": \"scattermapbox\"}], \"scatterpolar\": [{\"marker\": {\"colorbar\": {\"outlinewidth\": 0, \"ticks\": \"\"}}, \"type\": \"scatterpolar\"}], \"scatterpolargl\": [{\"marker\": {\"colorbar\": {\"outlinewidth\": 0, \"ticks\": \"\"}}, \"type\": \"scatterpolargl\"}], \"scatterternary\": [{\"marker\": {\"colorbar\": {\"outlinewidth\": 0, \"ticks\": \"\"}}, \"type\": \"scatterternary\"}], \"surface\": [{\"colorbar\": {\"outlinewidth\": 0, \"ticks\": \"\"}, \"colorscale\": [[0.0, \"#0d0887\"], [0.1111111111111111, \"#46039f\"], [0.2222222222222222, \"#7201a8\"], [0.3333333333333333, \"#9c179e\"], [0.4444444444444444, \"#bd3786\"], [0.5555555555555556, \"#d8576b\"], [0.6666666666666666, \"#ed7953\"], [0.7777777777777778, \"#fb9f3a\"], [0.8888888888888888, \"#fdca26\"], [1.0, \"#f0f921\"]], \"type\": \"surface\"}], \"table\": [{\"cells\": {\"fill\": {\"color\": \"#EBF0F8\"}, \"line\": {\"color\": \"white\"}}, \"header\": {\"fill\": {\"color\": \"#C8D4E3\"}, \"line\": {\"color\": \"white\"}}, \"type\": \"table\"}]}, \"layout\": {\"annotationdefaults\": {\"arrowcolor\": \"#2a3f5f\", \"arrowhead\": 0, \"arrowwidth\": 1}, \"coloraxis\": {\"colorbar\": {\"outlinewidth\": 0, \"ticks\": \"\"}}, \"colorscale\": {\"diverging\": [[0, \"#8e0152\"], [0.1, \"#c51b7d\"], [0.2, \"#de77ae\"], [0.3, \"#f1b6da\"], [0.4, \"#fde0ef\"], [0.5, \"#f7f7f7\"], [0.6, \"#e6f5d0\"], [0.7, \"#b8e186\"], [0.8, \"#7fbc41\"], [0.9, \"#4d9221\"], [1, \"#276419\"]], \"sequential\": [[0.0, \"#0d0887\"], [0.1111111111111111, \"#46039f\"], [0.2222222222222222, \"#7201a8\"], [0.3333333333333333, \"#9c179e\"], [0.4444444444444444, \"#bd3786\"], [0.5555555555555556, \"#d8576b\"], [0.6666666666666666, \"#ed7953\"], [0.7777777777777778, \"#fb9f3a\"], [0.8888888888888888, \"#fdca26\"], [1.0, \"#f0f921\"]], \"sequentialminus\": [[0.0, \"#0d0887\"], [0.1111111111111111, \"#46039f\"], [0.2222222222222222, \"#7201a8\"], [0.3333333333333333, \"#9c179e\"], [0.4444444444444444, \"#bd3786\"], [0.5555555555555556, \"#d8576b\"], [0.6666666666666666, \"#ed7953\"], [0.7777777777777778, \"#fb9f3a\"], [0.8888888888888888, \"#fdca26\"], [1.0, \"#f0f921\"]]}, \"colorway\": [\"#636efa\", \"#EF553B\", \"#00cc96\", \"#ab63fa\", \"#FFA15A\", \"#19d3f3\", \"#FF6692\", \"#B6E880\", \"#FF97FF\", \"#FECB52\"], \"font\": {\"color\": \"#2a3f5f\"}, \"geo\": {\"bgcolor\": \"white\", \"lakecolor\": \"white\", \"landcolor\": \"#E5ECF6\", \"showlakes\": true, \"showland\": true, \"subunitcolor\": \"white\"}, \"hoverlabel\": {\"align\": \"left\"}, \"hovermode\": \"closest\", \"mapbox\": {\"style\": \"light\"}, \"paper_bgcolor\": \"white\", \"plot_bgcolor\": \"#E5ECF6\", \"polar\": {\"angularaxis\": {\"gridcolor\": \"white\", \"linecolor\": \"white\", \"ticks\": \"\"}, \"bgcolor\": \"#E5ECF6\", \"radialaxis\": {\"gridcolor\": \"white\", \"linecolor\": \"white\", \"ticks\": \"\"}}, \"scene\": {\"xaxis\": {\"backgroundcolor\": \"#E5ECF6\", \"gridcolor\": \"white\", \"gridwidth\": 2, \"linecolor\": \"white\", \"showbackground\": true, \"ticks\": \"\", \"zerolinecolor\": \"white\"}, \"yaxis\": {\"backgroundcolor\": \"#E5ECF6\", \"gridcolor\": \"white\", \"gridwidth\": 2, \"linecolor\": \"white\", \"showbackground\": true, \"ticks\": \"\", \"zerolinecolor\": \"white\"}, \"zaxis\": {\"backgroundcolor\": \"#E5ECF6\", \"gridcolor\": \"white\", \"gridwidth\": 2, \"linecolor\": \"white\", \"showbackground\": true, \"ticks\": \"\", \"zerolinecolor\": \"white\"}}, \"shapedefaults\": {\"line\": {\"color\": \"#2a3f5f\"}}, \"ternary\": {\"aaxis\": {\"gridcolor\": \"white\", \"linecolor\": \"white\", \"ticks\": \"\"}, \"baxis\": {\"gridcolor\": \"white\", \"linecolor\": \"white\", \"ticks\": \"\"}, \"bgcolor\": \"#E5ECF6\", \"caxis\": {\"gridcolor\": \"white\", \"linecolor\": \"white\", \"ticks\": \"\"}}, \"title\": {\"x\": 0.05}, \"xaxis\": {\"automargin\": true, \"gridcolor\": \"white\", \"linecolor\": \"white\", \"ticks\": \"\", \"title\": {\"standoff\": 15}, \"zerolinecolor\": \"white\", \"zerolinewidth\": 2}, \"yaxis\": {\"automargin\": true, \"gridcolor\": \"white\", \"linecolor\": \"white\", \"ticks\": \"\", \"title\": {\"standoff\": 15}, \"zerolinecolor\": \"white\", \"zerolinewidth\": 2}}}, \"xaxis\": {\"anchor\": \"y\", \"domain\": [0.0, 1.0], \"title\": {\"text\": \"x\"}}, \"yaxis\": {\"anchor\": \"x\", \"domain\": [0.0, 1.0], \"title\": {\"text\": \"count\"}}},                        {\"responsive\": true}                    ).then(function(){\n",
       "                            \n",
       "var gd = document.getElementById('34352d7b-d25a-4658-ab6d-7f39fb4c6ecb');\n",
       "var x = new MutationObserver(function (mutations, observer) {{\n",
       "        var display = window.getComputedStyle(gd).display;\n",
       "        if (!display || display === 'none') {{\n",
       "            console.log([gd, 'removed!']);\n",
       "            Plotly.purge(gd);\n",
       "            observer.disconnect();\n",
       "        }}\n",
       "}});\n",
       "\n",
       "// Listen for the removal of the full notebook cells\n",
       "var notebookContainer = gd.closest('#notebook-container');\n",
       "if (notebookContainer) {{\n",
       "    x.observe(notebookContainer, {childList: true});\n",
       "}}\n",
       "\n",
       "// Listen for the clearing of the current output cell\n",
       "var outputEl = gd.closest('.output');\n",
       "if (outputEl) {{\n",
       "    x.observe(outputEl, {childList: true});\n",
       "}}\n",
       "\n",
       "                        })                };                });            </script>        </div>"
      ]
     },
     "metadata": {},
     "output_type": "display_data"
    }
   ],
   "source": [
    "px.histogram(x=books['average_rating'])"
   ]
  },
  {
   "cell_type": "code",
   "execution_count": 209,
   "id": "small-embassy",
   "metadata": {},
   "outputs": [
    {
     "data": {
      "text/plain": [
       "<AxesSubplot:xlabel='average_rating', ylabel='Count'>"
      ]
     },
     "execution_count": 209,
     "metadata": {},
     "output_type": "execute_result"
    },
    {
     "data": {
      "image/png": "[encoded data removed]",
      "text/plain": [
       "<Figure size 432x288 with 1 Axes>"
      ]
     },
     "metadata": {
      "needs_background": "light"
     },
     "output_type": "display_data"
    }
   ],
   "source": [
    "sns.histplot(books,x='average_rating')"
   ]
  },
  {
   "cell_type": "code",
   "execution_count": 211,
   "id": "decimal-longer",
   "metadata": {},
   "outputs": [
    {
     "data": {
      "text/html": [
       "<div>\n",
       "<style scoped>\n",
       "    .dataframe tbody tr th:only-of-type {\n",
       "        vertical-align: middle;\n",
       "    }\n",
       "\n",
       "    .dataframe tbody tr th {\n",
       "        vertical-align: top;\n",
       "    }\n",
       "\n",
       "    .dataframe thead th {\n",
       "        text-align: right;\n",
       "    }\n",
       "</style>\n",
       "<table border=\"1\" class=\"dataframe\">\n",
       "  <thead>\n",
       "    <tr style=\"text-align: right;\">\n",
       "      <th></th>\n",
       "      <th>num_pages</th>\n",
       "      <th>num_ratings</th>\n",
       "      <th>average_rating</th>\n",
       "    </tr>\n",
       "  </thead>\n",
       "  <tbody>\n",
       "    <tr>\n",
       "      <th>num_pages</th>\n",
       "      <td>1.000000</td>\n",
       "      <td>-0.203787</td>\n",
       "      <td>0.228043</td>\n",
       "    </tr>\n",
       "    <tr>\n",
       "      <th>num_ratings</th>\n",
       "      <td>-0.203787</td>\n",
       "      <td>1.000000</td>\n",
       "      <td>0.099773</td>\n",
       "    </tr>\n",
       "    <tr>\n",
       "      <th>average_rating</th>\n",
       "      <td>0.228043</td>\n",
       "      <td>0.099773</td>\n",
       "      <td>1.000000</td>\n",
       "    </tr>\n",
       "  </tbody>\n",
       "</table>\n",
       "</div>"
      ],
      "text/plain": [
       "                num_pages  num_ratings  average_rating\n",
       "num_pages        1.000000    -0.203787        0.228043\n",
       "num_ratings     -0.203787     1.000000        0.099773\n",
       "average_rating   0.228043     0.099773        1.000000"
      ]
     },
     "execution_count": 211,
     "metadata": {},
     "output_type": "execute_result"
    }
   ],
   "source": [
    "books[['num_pages','num_ratings','average_rating']].corr()"
   ]
  },
  {
   "cell_type": "code",
   "execution_count": 212,
   "id": "vocal-error",
   "metadata": {},
   "outputs": [
    {
     "data": {
      "text/plain": [
       "<AxesSubplot:>"
      ]
     },
     "execution_count": 212,
     "metadata": {},
     "output_type": "execute_result"
    },
    {
     "data": {
      "image/png": "[encoded data removed]",
      "text/plain": [
       "<Figure size 432x288 with 1 Axes>"
      ]
     },
     "metadata": {
      "needs_background": "light"
     },
     "output_type": "display_data"
    }
   ],
   "source": [
    "books['num_pages'].hist()"
   ]
  },
  {
   "cell_type": "code",
   "execution_count": null,
   "id": "dense-wellington",
   "metadata": {},
   "outputs": [],
   "source": [
    "\n",
    "# check for correlation with year_first_published, num_ratings and average rating\n",
    "# check for books with the most number of ratings\n",
    "# find the top author per genre\n",
    "# find the highest rated book of authors with more than one book\n"
   ]
  }
 ],
 "metadata": {
  "kernelspec": {
   "display_name": "booksenv",
   "language": "python",
   "name": "booksenv"
  },
  "language_info": {
   "codemirror_mode": {
    "name": "ipython",
    "version": 3
   },
   "file_extension": ".py",
   "mimetype": "text/x-python",
   "name": "python",
   "nbconvert_exporter": "python",
   "pygments_lexer": "ipython3",
   "version": "3.7.11"
  }
 },
 "nbformat": 4,
 "nbformat_minor": 5
}
