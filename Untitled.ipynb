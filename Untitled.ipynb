{
 "cells": [
  {
   "cell_type": "code",
   "execution_count": 1,
   "id": "nominated-voltage",
   "metadata": {},
   "outputs": [],
   "source": [
    "import requests"
   ]
  },
  {
   "cell_type": "code",
   "execution_count": 2,
   "id": "tamil-concrete",
   "metadata": {},
   "outputs": [],
   "source": [
    "import selenium"
   ]
  },
  {
   "cell_type": "code",
   "execution_count": 3,
   "id": "tribal-pastor",
   "metadata": {},
   "outputs": [
    {
     "data": {
      "text/plain": [
       "'c:\\\\users\\\\amoel.geogy\\\\appdata\\\\local\\\\programs\\\\python\\\\python39\\\\lib\\\\site-packages\\\\selenium\\\\__init__.py'"
      ]
     },
     "execution_count": 3,
     "metadata": {},
     "output_type": "execute_result"
    }
   ],
   "source": [
    "selenium.__file__"
   ]
  },
  {
   "cell_type": "code",
   "execution_count": 4,
   "id": "decimal-given",
   "metadata": {},
   "outputs": [
    {
     "data": {
      "text/plain": [
       "'c:\\\\users\\\\amoel.geogy\\\\appdata\\\\local\\\\programs\\\\python\\\\python39\\\\lib\\\\site-packages\\\\requests\\\\__init__.py'"
      ]
     },
     "execution_count": 4,
     "metadata": {},
     "output_type": "execute_result"
    }
   ],
   "source": [
    "requests.__file__"
   ]
  },
  {
   "cell_type": "code",
   "execution_count": 5,
   "id": "considered-heather",
   "metadata": {},
   "outputs": [],
   "source": [
    "import numpy"
   ]
  },
  {
   "cell_type": "code",
   "execution_count": 6,
   "id": "actual-charles",
   "metadata": {},
   "outputs": [
    {
     "data": {
      "text/plain": [
       "'c:\\\\users\\\\amoel.geogy\\\\appdata\\\\local\\\\programs\\\\python\\\\python39\\\\lib\\\\site-packages\\\\numpy\\\\__init__.py'"
      ]
     },
     "execution_count": 6,
     "metadata": {},
     "output_type": "execute_result"
    }
   ],
   "source": [
    "numpy.__file__"
   ]
  },
  {
   "cell_type": "code",
   "execution_count": 10,
   "id": "exclusive-overview",
   "metadata": {},
   "outputs": [
    {
     "name": "stdout",
     "output_type": "stream",
     "text": [
      "     active environment : booksenv\n",
      "    active env location : C:\\Users\\amoel.geogy\\AppData\\Local\\Continuum\\anaconda3\\envs\\booksenv\n",
      "       base environment : C:\\Users\\amoel.geogy\\AppData\\Local\\Continuum\\anaconda3  (writable)\n",
      "       envs directories : C:\\Users\\amoel.geogy\\AppData\\Local\\Continuum\\anaconda3\\envs\n",
      "                          C:\\Users\\amoel.geogy\\.conda\\envs\n",
      "                          C:\\Users\\amoel.geogy\\AppData\\Local\\conda\\conda\\envs\n"
     ]
    }
   ],
   "source": [
    "!conda info | findstr \"active env\""
   ]
  },
  {
   "cell_type": "code",
   "execution_count": 11,
   "id": "recent-crazy",
   "metadata": {},
   "outputs": [],
   "source": [
    "import os"
   ]
  },
  {
   "cell_type": "code",
   "execution_count": 12,
   "id": "functional-tournament",
   "metadata": {},
   "outputs": [
    {
     "data": {
      "text/plain": [
       "<module 'ntpath' from 'c:\\\\users\\\\amoel.geogy\\\\appdata\\\\local\\\\programs\\\\python\\\\python39\\\\lib\\\\ntpath.py'>"
      ]
     },
     "execution_count": 12,
     "metadata": {},
     "output_type": "execute_result"
    }
   ],
   "source": [
    "os.path"
   ]
  },
  {
   "cell_type": "code",
   "execution_count": 16,
   "id": "rotary-footwear",
   "metadata": {},
   "outputs": [],
   "source": [
    "!wget https://chromedriver.storage.googleapis.com/index.html?path=92.0.4515.107/chromedriver_win32.zip"
   ]
  },
  {
   "cell_type": "code",
   "execution_count": null,
   "id": "competent-selection",
   "metadata": {},
   "outputs": [],
   "source": []
  }
 ],
 "metadata": {
  "kernelspec": {
   "display_name": "Python 3",
   "language": "python",
   "name": "python3"
  },
  "language_info": {
   "codemirror_mode": {
    "name": "ipython",
    "version": 3
   },
   "file_extension": ".py",
   "mimetype": "text/x-python",
   "name": "python",
   "nbconvert_exporter": "python",
   "pygments_lexer": "ipython3",
   "version": "3.9.0"
  }
 },
 "nbformat": 4,
 "nbformat_minor": 5
}
